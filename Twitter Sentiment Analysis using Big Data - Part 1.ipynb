{
 "cells": [
  {
   "cell_type": "code",
   "execution_count": 108,
   "id": "32257f15-0229-45ef-8acc-430db518ccff",
   "metadata": {
    "execution": {
     "iopub.execute_input": "2024-04-27T18:02:13.131771Z",
     "iopub.status.busy": "2024-04-27T18:02:13.131431Z",
     "iopub.status.idle": "2024-04-27T18:02:13.153802Z",
     "shell.execute_reply": "2024-04-27T18:02:13.153048Z",
     "shell.execute_reply.started": "2024-04-27T18:02:13.131726Z"
    },
    "tags": []
   },
   "outputs": [
    {
     "data": {
      "application/vnd.jupyter.widget-view+json": {
       "model_id": "d700db57ca274897951e4374a39b9f52",
       "version_major": 2,
       "version_minor": 0
      },
      "text/plain": [
       "VBox()"
      ]
     },
     "metadata": {},
     "output_type": "display_data"
    },
    {
     "name": "stderr",
     "output_type": "stream",
     "text": [
      "An error was encountered:\n",
      "Session 0 unexpectedly reached final status 'dead'. See logs:\n",
      "stdout: \n",
      "\n",
      "stderr: \n",
      "Apr 27, 2024 3:01:46 PM org.apache.spark.launcher.Log4jHotPatchOption staticJavaAgentOption\n",
      "WARNING: spark.log4jHotPatch.enabled is set to true, but /usr/share/log4j-cve-2021-44228-hotpatch/jdk17/Log4jHotPatchFat.jar does not exist at the configured location\n",
      "\n",
      "24/04/27 15:01:48 WARN NativeCodeLoader: Unable to load native-hadoop library for your platform... using builtin-java classes where applicable\n",
      "24/04/27 15:01:48 INFO DefaultNoHARMFailoverProxyProvider: Connecting to ResourceManager at ip-10-0-21-137.ap-south-1.compute.internal/10.0.21.137:8032\n",
      "24/04/27 15:01:49 INFO Configuration: resource-types.xml not found\n",
      "24/04/27 15:01:49 INFO ResourceUtils: Unable to find 'resource-types.xml'.\n",
      "24/04/27 15:01:49 INFO Client: Verifying our application has not requested more than the maximum memory capability of the cluster (12288 MB per container)\n",
      "24/04/27 15:01:49 INFO Client: Will allocate AM container, with 2432 MB memory including 384 MB overhead\n",
      "24/04/27 15:01:49 INFO Client: Setting up container launch context for our AM\n",
      "24/04/27 15:01:49 INFO Client: Setting up the launch environment for our AM container\n",
      "24/04/27 15:01:49 INFO Client: Preparing resources for our AM container\n",
      "24/04/27 15:01:49 WARN Client: Neither spark.yarn.jars nor spark.yarn.archive is set, falling back to uploading libraries under SPARK_HOME.\n",
      "24/04/27 15:01:51 INFO Client: Uploading resource file:/mnt/tmp/spark-c010c080-fee6-4326-a1ab-62289bdec24d/__spark_libs__4840652458286464139.zip -> hdfs://ip-10-0-21-137.ap-south-1.compute.internal:8020/user/livy/.sparkStaging/application_1714218779802_0001/__spark_libs__4840652458286464139.zip\n",
      "24/04/27 15:01:52 INFO Client: Uploading resource file:/usr/lib/livy/rsc-jars/kryo-shaded-4.0.2.jar -> hdfs://ip-10-0-21-137.ap-south-1.compute.internal:8020/user/livy/.sparkStaging/application_1714218779802_0001/kryo-shaded-4.0.2.jar\n",
      "24/04/27 15:01:52 INFO Client: Uploading resource file:/usr/lib/livy/rsc-jars/livy-api-0.8.0-incubating.jar -> hdfs://ip-10-0-21-137.ap-south-1.compute.internal:8020/user/livy/.sparkStaging/application_1714218779802_0001/livy-api-0.8.0-incubating.jar\n",
      "24/04/27 15:01:52 INFO Client: Uploading resource file:/usr/lib/livy/rsc-jars/livy-rsc-0.8.0-incubating.jar -> hdfs://ip-10-0-21-137.ap-south-1.compute.internal:8020/user/livy/.sparkStaging/application_1714218779802_0001/livy-rsc-0.8.0-incubating.jar\n",
      "24/04/27 15:01:52 INFO Client: Uploading resource file:/usr/lib/livy/rsc-jars/livy-thriftserver-session-0.8.0-incubating.jar -> hdfs://ip-10-0-21-137.ap-south-1.compute.internal:8020/user/livy/.sparkStaging/application_1714218779802_0001/livy-thriftserver-session-0.8.0-incubating.jar\n",
      "24/04/27 15:01:52 INFO Client: Uploading resource file:/usr/lib/livy/rsc-jars/minlog-1.3.0.jar -> hdfs://ip-10-0-21-137.ap-south-1.compute.internal:8020/user/livy/.sparkStaging/application_1714218779802_0001/minlog-1.3.0.jar\n",
      "24/04/27 15:01:52 INFO Client: Uploading resource file:/usr/lib/livy/rsc-jars/netty-all-4.1.100.Final.jar -> hdfs://ip-10-0-21-137.ap-south-1.compute.internal:8020/user/livy/.sparkStaging/application_1714218779802_0001/netty-all-4.1.100.Final.jar\n",
      "24/04/27 15:01:53 INFO Client: Uploading resource file:/usr/lib/livy/rsc-jars/netty-buffer-4.1.100.Final.jar -> hdfs://ip-10-0-21-137.ap-south-1.compute.internal:8020/user/livy/.sparkStaging/application_1714218779802_0001/netty-buffer-4.1.100.Final.jar\n",
      "24/04/27 15:01:53 INFO Client: Uploading resource file:/usr/lib/livy/rsc-jars/netty-codec-4.1.100.Final.jar -> hdfs://ip-10-0-21-137.ap-south-1.compute.internal:8020/user/livy/.sparkStaging/application_1714218779802_0001/netty-codec-4.1.100.Final.jar\n",
      "24/04/27 15:01:53 INFO Client: Uploading resource file:/usr/lib/livy/rsc-jars/netty-codec-dns-4.1.100.Final.jar -> hdfs://ip-10-0-21-137.ap-south-1.compute.internal:8020/user/livy/.sparkStaging/application_1714218779802_0001/netty-codec-dns-4.1.100.Final.jar\n",
      "24/04/27 15:01:53 INFO Client: Uploading resource file:/usr/lib/livy/rsc-jars/netty-codec-haproxy-4.1.100.Final.jar -> hdfs://ip-10-0-21-137.ap-south-1.compute.internal:8020/user/livy/.sparkStaging/application_1714218779802_0001/netty-codec-haproxy-4.1.100.Final.jar\n",
      "24/04/27 15:01:53 INFO Client: Uploading resource file:/usr/lib/livy/rsc-jars/netty-codec-http-4.1.100.Final.jar -> hdfs://ip-10-0-21-137.ap-south-1.compute.internal:8020/user/livy/.sparkStaging/application_1714218779802_0001/netty-codec-http-4.1.100.Final.jar\n",
      "24/04/27 15:01:53 INFO Client: Uploading resource file:/usr/lib/livy/rsc-jars/netty-codec-http2-4.1.100.Final.jar -> hdfs://ip-10-0-21-137.ap-south-1.compute.internal:8020/user/livy/.sparkStaging/application_1714218779802_0001/netty-codec-http2-4.1.100.Final.jar\n",
      "24/04/27 15:01:53 INFO Client: Uploading resource file:/usr/lib/livy/rsc-jars/netty-codec-memcache-4.1.100.Final.jar -> hdfs://ip-10-0-21-137.ap-south-1.compute.internal:8020/user/livy/.sparkStaging/application_1714218779802_0001/netty-codec-memcache-4.1.100.Final.jar\n",
      "24/04/27 15:01:53 INFO Client: Uploading resource file:/usr/lib/livy/rsc-jars/netty-codec-mqtt-4.1.100.Final.jar -> hdfs://ip-10-0-21-137.ap-south-1.compute.internal:8020/user/livy/.sparkStaging/application_1714218779802_0001/netty-codec-mqtt-4.1.100.Final.jar\n",
      "24/04/27 15:01:53 INFO Client: Uploading resource file:/usr/lib/livy/rsc-jars/netty-codec-redis-4.1.100.Final.jar -> hdfs://ip-10-0-21-137.ap-south-1.compute.internal:8020/user/livy/.sparkStaging/application_1714218779802_0001/netty-codec-redis-4.1.100.Final.jar\n",
      "24/04/27 15:01:53 INFO Client: Uploading resource file:/usr/lib/livy/rsc-jars/netty-codec-smtp-4.1.100.Final.jar -> hdfs://ip-10-0-21-137.ap-south-1.compute.internal:8020/user/livy/.sparkStaging/application_1714218779802_0001/netty-codec-smtp-4.1.100.Final.jar\n",
      "24/04/27 15:01:53 INFO Client: Uploading resource file:/usr/lib/livy/rsc-jars/netty-codec-socks-4.1.100.Final.jar -> hdfs://ip-10-0-21-137.ap-south-1.compute.internal:8020/user/livy/.sparkStaging/application_1714218779802_0001/netty-codec-socks-4.1.100.Final.jar\n",
      "24/04/27 15:01:53 INFO Client: Uploading resource file:/usr/lib/livy/rsc-jars/netty-codec-stomp-4.1.100.Final.jar -> hdfs://ip-10-0-21-137.ap-south-1.compute.internal:8020/user/livy/.sparkStaging/application_1714218779802_0001/netty-codec-stomp-4.1.100.Final.jar\n",
      "24/04/27 15:01:53 INFO Client: Uploading resource file:/usr/lib/livy/rsc-jars/netty-codec-xml-4.1.100.Final.jar -> hdfs://ip-10-0-21-137.ap-south-1.compute.internal:8020/user/livy/.sparkStaging/application_1714218779802_0001/netty-codec-xml-4.1.100.Final.jar\n",
      "24/04/27 15:01:53 INFO Client: Uploading resource file:/usr/lib/livy/rsc-jars/netty-common-4.1.100.Final.jar -> hdfs://ip-10-0-21-137.ap-south-1.compute.internal:8020/user/livy/.sparkStaging/application_1714218779802_0001/netty-common-4.1.100.Final.jar\n",
      "24/04/27 15:01:53 INFO Client: Uploading resource file:/usr/lib/livy/rsc-jars/netty-handler-4.1.100.Final.jar -> hdfs://ip-10-0-21-137.ap-south-1.compute.internal:8020/user/livy/.sparkStaging/application_1714218779802_0001/netty-handler-4.1.100.Final.jar\n",
      "24/04/27 15:01:53 INFO Client: Uploading resource file:/usr/lib/livy/rsc-jars/netty-handler-proxy-4.1.100.Final.jar -> hdfs://ip-10-0-21-137.ap-south-1.compute.internal:8020/user/livy/.sparkStaging/application_1714218779802_0001/netty-handler-proxy-4.1.100.Final.jar\n",
      "24/04/27 15:01:53 INFO Client: Uploading resource file:/usr/lib/livy/rsc-jars/netty-handler-ssl-ocsp-4.1.100.Final.jar -> hdfs://ip-10-0-21-137.ap-south-1.compute.internal:8020/user/livy/.sparkStaging/application_1714218779802_0001/netty-handler-ssl-ocsp-4.1.100.Final.jar\n",
      "24/04/27 15:01:53 INFO Client: Uploading resource file:/usr/lib/livy/rsc-jars/netty-resolver-4.1.100.Final.jar -> hdfs://ip-10-0-21-137.ap-south-1.compute.internal:8020/user/livy/.sparkStaging/application_1714218779802_0001/netty-resolver-4.1.100.Final.jar\n",
      "24/04/27 15:01:53 INFO Client: Uploading resource file:/usr/lib/livy/rsc-jars/netty-resolver-dns-4.1.100.Final.jar -> hdfs://ip-10-0-21-137.ap-south-1.compute.internal:8020/user/livy/.sparkStaging/application_1714218779802_0001/netty-resolver-dns-4.1.100.Final.jar\n",
      "24/04/27 15:01:53 INFO Client: Uploading resource file:/usr/lib/livy/rsc-jars/netty-resolver-dns-classes-macos-4.1.100.Final.jar -> hdfs://ip-10-0-21-137.ap-south-1.compute.internal:8020/user/livy/.sparkStaging/application_1714218779802_0001/netty-resolver-dns-classes-macos-4.1.100.Final.jar\n",
      "24/04/27 15:01:53 INFO Client: Uploading resource file:/usr/lib/livy/rsc-jars/netty-resolver-dns-native-macos-4.1.100.Final-osx-aarch_64.jar -> hdfs://ip-10-0-21-137.ap-south-1.compute.internal:8020/user/livy/.sparkStaging/application_1714218779802_0001/netty-resolver-dns-native-macos-4.1.100.Final-osx-aarch_64.jar\n",
      "24/04/27 15:01:53 INFO Client: Uploading resource file:/usr/lib/livy/rsc-jars/netty-resolver-dns-native-macos-4.1.100.Final-osx-x86_64.jar -> hdfs://ip-10-0-21-137.ap-south-1.compute.internal:8020/user/livy/.sparkStaging/application_1714218779802_0001/netty-resolver-dns-native-macos-4.1.100.Final-osx-x86_64.jar\n",
      "24/04/27 15:01:53 INFO Client: Uploading resource file:/usr/lib/livy/rsc-jars/netty-transport-4.1.100.Final.jar -> hdfs://ip-10-0-21-137.ap-south-1.compute.internal:8020/user/livy/.sparkStaging/application_1714218779802_0001/netty-transport-4.1.100.Final.jar\n",
      "24/04/27 15:01:53 INFO Client: Uploading resource file:/usr/lib/livy/rsc-jars/netty-transport-classes-epoll-4.1.100.Final.jar -> hdfs://ip-10-0-21-137.ap-south-1.compute.internal:8020/user/livy/.sparkStaging/application_1714218779802_0001/netty-transport-classes-epoll-4.1.100.Final.jar\n",
      "24/04/27 15:01:53 INFO Client: Uploading resource file:/usr/lib/livy/rsc-jars/netty-transport-classes-kqueue-4.1.100.Final.jar -> hdfs://ip-10-0-21-137.ap-south-1.compute.internal:8020/user/livy/.sparkStaging/application_1714218779802_0001/netty-transport-classes-kqueue-4.1.100.Final.jar\n",
      "24/04/27 15:01:53 INFO Client: Uploading resource file:/usr/lib/livy/rsc-jars/netty-transport-native-epoll-4.1.100.Final-linux-aarch_64.jar -> hdfs://ip-10-0-21-137.ap-south-1.compute.internal:8020/user/livy/.sparkStaging/application_1714218779802_0001/netty-transport-native-epoll-4.1.100.Final-linux-aarch_64.jar\n",
      "24/04/27 15:01:53 INFO Client: Uploading resource file:/usr/lib/livy/rsc-jars/netty-transport-native-epoll-4.1.100.Final-linux-x86_64.jar -> hdfs://ip-10-0-21-137.ap-south-1.compute.internal:8020/user/livy/.sparkStaging/application_1714218779802_0001/netty-transport-native-epoll-4.1.100.Final-linux-x86_64.jar\n",
      "24/04/27 15:01:53 INFO Client: Uploading resource file:/usr/lib/livy/rsc-jars/netty-transport-native-kqueue-4.1.100.Final-osx-aarch_64.jar -> hdfs://ip-10-0-21-137.ap-south-1.compute.internal:8020/user/livy/.sparkStaging/application_1714218779802_0001/netty-transport-native-kqueue-4.1.100.Final-osx-aarch_64.jar\n",
      "24/04/27 15:01:53 INFO Client: Uploading resource file:/usr/lib/livy/rsc-jars/netty-transport-native-kqueue-4.1.100.Final-osx-x86_64.jar -> hdfs://ip-10-0-21-137.ap-south-1.compute.internal:8020/user/livy/.sparkStaging/application_1714218779802_0001/netty-transport-native-kqueue-4.1.100.Final-osx-x86_64.jar\n",
      "24/04/27 15:01:53 INFO Client: Uploading resource file:/usr/lib/livy/rsc-jars/netty-transport-native-unix-common-4.1.100.Final.jar -> hdfs://ip-10-0-21-137.ap-south-1.compute.internal:8020/user/livy/.sparkStaging/application_1714218779802_0001/netty-transport-native-unix-common-4.1.100.Final.jar\n",
      "24/04/27 15:01:53 INFO Client: Uploading resource file:/usr/lib/livy/rsc-jars/netty-transport-rxtx-4.1.100.Final.jar -> hdfs://ip-10-0-21-137.ap-south-1.compute.internal:8020/user/livy/.sparkStaging/application_1714218779802_0001/netty-transport-rxtx-4.1.100.Final.jar\n",
      "24/04/27 15:01:53 INFO Client: Uploading resource file:/usr/lib/livy/rsc-jars/netty-transport-sctp-4.1.100.Final.jar -> hdfs://ip-10-0-21-137.ap-south-1.compute.internal:8020/user/livy/.sparkStaging/application_1714218779802_0001/netty-transport-sctp-4.1.100.Final.jar\n",
      "24/04/27 15:01:53 INFO Client: Uploading resource file:/usr/lib/livy/rsc-jars/netty-transport-udt-4.1.100.Final.jar -> hdfs://ip-10-0-21-137.ap-south-1.compute.internal:8020/user/livy/.sparkStaging/application_1714218779802_0001/netty-transport-udt-4.1.100.Final.jar\n",
      "24/04/27 15:01:53 INFO Client: Uploading resource file:/usr/lib/livy/rsc-jars/objenesis-2.5.1.jar -> hdfs://ip-10-0-21-137.ap-south-1.compute.internal:8020/user/livy/.sparkStaging/application_1714218779802_0001/objenesis-2.5.1.jar\n",
      "24/04/27 15:01:53 INFO Client: Uploading resource file:/usr/lib/livy/repl_2.12-jars/commons-codec-1.9.jar -> hdfs://ip-10-0-21-137.ap-south-1.compute.internal:8020/user/livy/.sparkStaging/application_1714218779802_0001/commons-codec-1.9.jar\n",
      "24/04/27 15:01:53 WARN Client: Same name resource file:///usr/lib/livy/repl_2.12-jars/kryo-shaded-4.0.2.jar added multiple times to distributed cache\n",
      "24/04/27 15:01:53 INFO Client: Uploading resource file:/usr/lib/livy/repl_2.12-jars/livy-core_2.12-0.8.0-incubating.jar -> hdfs://ip-10-0-21-137.ap-south-1.compute.internal:8020/user/livy/.sparkStaging/application_1714218779802_0001/livy-core_2.12-0.8.0-incubating.jar\n",
      "24/04/27 15:01:53 INFO Client: Uploading resource file:/usr/lib/livy/repl_2.12-jars/livy-repl_2.12-0.8.0-incubating.jar -> hdfs://ip-10-0-21-137.ap-south-1.compute.internal:8020/user/livy/.sparkStaging/application_1714218779802_0001/livy-repl_2.12-0.8.0-incubating.jar\n",
      "24/04/27 15:01:53 WARN Client: Same name resource file:///usr/lib/livy/repl_2.12-jars/minlog-1.3.0.jar added multiple times to distributed cache\n",
      "24/04/27 15:01:53 WARN Client: Same name resource file:///usr/lib/livy/repl_2.12-jars/objenesis-2.5.1.jar added multiple times to distributed cache\n",
      "24/04/27 15:01:53 INFO Client: Uploading resource file:/etc/spark/conf.dist/hive-site.xml -> hdfs://ip-10-0-21-137.ap-south-1.compute.internal:8020/user/livy/.sparkStaging/application_1714218779802_0001/hive-site.xml\n",
      "24/04/27 15:01:53 INFO Client: Uploading resource file:/etc/hudi/conf.dist/hudi-defaults.conf -> hdfs://ip-10-0-21-137.ap-south-1.compute.internal:8020/user/livy/.sparkStaging/application_1714218779802_0001/hudi-defaults.conf\n",
      "24/04/27 15:01:53 INFO Client: Uploading resource file:/usr/lib/spark/R/lib/sparkr.zip#sparkr -> hdfs://ip-10-0-21-137.ap-south-1.compute.internal:8020/user/livy/.sparkStaging/application_1714218779802_0001/sparkr.zip\n",
      "24/04/27 15:01:53 INFO Client: Uploading resource file:/usr/lib/spark/python/lib/pyspark.zip -> hdfs://ip-10-0-21-137.ap-south-1.compute.internal:8020/user/livy/.sparkStaging/application_1714218779802_0001/pyspark.zip\n",
      "24/04/27 15:01:53 INFO Client: Uploading resource file:/usr/lib/spark/python/lib/py4j-0.10.9.7-src.zip -> hdfs://ip-10-0-21-137.ap-south-1.compute.internal:8020/user/livy/.sparkStaging/application_1714218779802_0001/py4j-0.10.9.7-src.zip\n",
      "24/04/27 15:01:53 INFO Client: Uploading resource file:/mnt/tmp/spark-c010c080-fee6-4326-a1ab-62289bdec24d/__spark_conf__2372691283878412344.zip -> hdfs://ip-10-0-21-137.ap-south-1.compute.internal:8020/user/livy/.sparkStaging/application_1714218779802_0001/__spark_conf__.zip\n",
      "24/04/27 15:01:53 INFO SecurityManager: Changing view acls to: livy\n",
      "24/04/27 15:01:53 INFO SecurityManager: Changing modify acls to: livy\n",
      "24/04/27 15:01:53 INFO SecurityManager: Changing view acls groups to: \n",
      "24/04/27 15:01:53 INFO SecurityManager: Changing modify acls groups to: \n",
      "24/04/27 15:01:53 INFO SecurityManager: SecurityManager: authentication disabled; ui acls disabled; users with view permissions: livy; groups with view permissions: EMPTY; users with modify permissions: livy; groups with modify permissions: EMPTY\n",
      "24/04/27 15:01:54 INFO Client: Submitting application application_1714218779802_0001 to ResourceManager\n",
      "24/04/27 15:01:54 INFO YarnClientImpl: Submitted application application_1714218779802_0001\n",
      "24/04/27 15:01:54 INFO Client: Application report for application_1714218779802_0001 (state: ACCEPTED)\n",
      "24/04/27 15:01:54 INFO Client: \n",
      "\t client token: N/A\n",
      "\t diagnostics: N/A\n",
      "\t ApplicationMaster host: N/A\n",
      "\t ApplicationMaster RPC port: -1\n",
      "\t queue: default\n",
      "\t start time: 1714230114098\n",
      "\t final status: UNDEFINED\n",
      "\t tracking URL: http://ip-10-0-21-137.ap-south-1.compute.internal:20888/proxy/application_1714218779802_0001/\n",
      "\t user: livy\n",
      "24/04/27 15:01:54 INFO ShutdownHookManager: Shutdown hook called\n",
      "24/04/27 15:01:54 INFO ShutdownHookManager: Deleting directory /mnt/tmp/spark-c010c080-fee6-4326-a1ab-62289bdec24d\n",
      "24/04/27 15:01:54 INFO ShutdownHookManager: Deleting directory /mnt/tmp/spark-370e800d-765e-48ff-b854-eb5578b844dd\n",
      "\n",
      "YARN Diagnostics: \n",
      "Application application_1714218779802_0001 failed 1 times (global limit =2; local limit is =1) due to AM Container for appattempt_1714218779802_0001_000001 exited with  exitCode: 137\n",
      "Failing this attempt.Diagnostics: [2024-04-27 17:57:30.598]Container killed on request. Exit code is 137\n",
      "[2024-04-27 17:57:30.599]Container exited with a non-zero exit code 137. \n",
      "[2024-04-27 17:57:30.600]Killed by external signal\n",
      "For more detailed output, check the application tracking page: http://ip-10-0-21-137.ap-south-1.compute.internal:8088/cluster/app/application_1714218779802_0001 Then click on links to logs of each attempt.\n",
      ". Failing the application.\n"
     ]
    }
   ],
   "source": [
    "from pyspark import SparkContext\n",
    "from pyspark.sql import SparkSession"
   ]
  },
  {
   "cell_type": "code",
   "execution_count": 2,
   "id": "d5b0c56e-efc5-437e-90e9-cc0bf4cb8bdc",
   "metadata": {
    "execution": {
     "iopub.execute_input": "2024-04-27T15:04:25.575249Z",
     "iopub.status.busy": "2024-04-27T15:04:25.575020Z",
     "iopub.status.idle": "2024-04-27T15:04:25.645791Z",
     "shell.execute_reply": "2024-04-27T15:04:25.644986Z",
     "shell.execute_reply.started": "2024-04-27T15:04:25.575225Z"
    },
    "tags": []
   },
   "outputs": [
    {
     "data": {
      "application/vnd.jupyter.widget-view+json": {
       "model_id": "1b8ff2f66fac4d4ca4d3cb62ec867d5c",
       "version_major": 2,
       "version_minor": 0
      },
      "text/plain": [
       "VBox()"
      ]
     },
     "metadata": {},
     "output_type": "display_data"
    },
    {
     "data": {
      "application/vnd.jupyter.widget-view+json": {
       "model_id": "",
       "version_major": 2,
       "version_minor": 0
      },
      "text/plain": [
       "FloatProgress(value=0.0, bar_style='info', description='Progress:', layout=Layout(height='25px', width='50%'),…"
      ]
     },
     "metadata": {},
     "output_type": "display_data"
    }
   ],
   "source": [
    "spark = SparkSession.builder \\\n",
    "    .appName(\"Twitter Sentimental Analysis\") \\\n",
    "    .getOrCreate()"
   ]
  },
  {
   "cell_type": "code",
   "execution_count": 7,
   "id": "200741d0-b000-41f4-bfeb-73ae9baae32c",
   "metadata": {
    "execution": {
     "iopub.execute_input": "2024-04-27T15:06:46.520384Z",
     "iopub.status.busy": "2024-04-27T15:06:46.520149Z",
     "iopub.status.idle": "2024-04-27T15:06:46.576528Z",
     "shell.execute_reply": "2024-04-27T15:06:46.575631Z",
     "shell.execute_reply.started": "2024-04-27T15:06:46.520359Z"
    },
    "tags": []
   },
   "outputs": [
    {
     "data": {
      "application/vnd.jupyter.widget-view+json": {
       "model_id": "7b6c4fa7a5394decafc67b0ad7baa62c",
       "version_major": 2,
       "version_minor": 0
      },
      "text/plain": [
       "VBox()"
      ]
     },
     "metadata": {},
     "output_type": "display_data"
    },
    {
     "data": {
      "application/vnd.jupyter.widget-view+json": {
       "model_id": "",
       "version_major": 2,
       "version_minor": 0
      },
      "text/plain": [
       "FloatProgress(value=0.0, bar_style='info', description='Progress:', layout=Layout(height='25px', width='50%'),…"
      ]
     },
     "metadata": {},
     "output_type": "display_data"
    }
   ],
   "source": [
    "#defining paths for all parts of our datasets, the collective dataset size is upto 13gb\n",
    "\n",
    "s3_path1 = 's3://tsa2/full_who_dataset1.csv'\n",
    "s3_path2 = 's3://tsa/full_who_dataset2.csv'\n",
    "s3_path3 = 's3://tsa/full_who_dataset3.csv'\n",
    "s3_path4 = 's3://tsa2/us_news_tweets.json'"
   ]
  },
  {
   "cell_type": "code",
   "execution_count": 8,
   "id": "286d5ed0-f850-4e43-8f5d-491657f1e93d",
   "metadata": {
    "execution": {
     "iopub.execute_input": "2024-04-27T15:06:47.481295Z",
     "iopub.status.busy": "2024-04-27T15:06:47.481069Z",
     "iopub.status.idle": "2024-04-27T15:08:15.116712Z",
     "shell.execute_reply": "2024-04-27T15:08:15.115988Z",
     "shell.execute_reply.started": "2024-04-27T15:06:47.481271Z"
    },
    "tags": []
   },
   "outputs": [
    {
     "data": {
      "application/vnd.jupyter.widget-view+json": {
       "model_id": "b4d0f5e3382846afb37d311cf6d858c6",
       "version_major": 2,
       "version_minor": 0
      },
      "text/plain": [
       "VBox()"
      ]
     },
     "metadata": {},
     "output_type": "display_data"
    },
    {
     "data": {
      "application/vnd.jupyter.widget-view+json": {
       "model_id": "",
       "version_major": 2,
       "version_minor": 0
      },
      "text/plain": [
       "FloatProgress(value=0.0, bar_style='info', description='Progress:', layout=Layout(height='25px', width='50%'),…"
      ]
     },
     "metadata": {},
     "output_type": "display_data"
    }
   ],
   "source": [
    "#reading into dataframes\n",
    "df1 = spark.read.csv(s3_path1, header=True, inferSchema=True)\n",
    "df2 = spark.read.csv(s3_path2, header=True, inferSchema=True)\n",
    "df3 = spark.read.csv(s3_path3, header=True, inferSchema=True)\n",
    "\n",
    "#the fourth df would be read in json format\n",
    "df4 = spark.read.json(s3_path4)"
   ]
  },
  {
   "cell_type": "code",
   "execution_count": 9,
   "id": "ac86c45f-9571-4451-9223-378949a2ab5b",
   "metadata": {
    "execution": {
     "iopub.execute_input": "2024-04-27T15:08:51.662184Z",
     "iopub.status.busy": "2024-04-27T15:08:51.661951Z",
     "iopub.status.idle": "2024-04-27T15:08:51.710785Z",
     "shell.execute_reply": "2024-04-27T15:08:51.710137Z",
     "shell.execute_reply.started": "2024-04-27T15:08:51.662156Z"
    },
    "tags": []
   },
   "outputs": [
    {
     "data": {
      "application/vnd.jupyter.widget-view+json": {
       "model_id": "54be086feb0a40b89bb20e58e8e0891e",
       "version_major": 2,
       "version_minor": 0
      },
      "text/plain": [
       "VBox()"
      ]
     },
     "metadata": {},
     "output_type": "display_data"
    },
    {
     "data": {
      "application/vnd.jupyter.widget-view+json": {
       "model_id": "",
       "version_major": 2,
       "version_minor": 0
      },
      "text/plain": [
       "FloatProgress(value=0.0, bar_style='info', description='Progress:', layout=Layout(height='25px', width='50%'),…"
      ]
     },
     "metadata": {},
     "output_type": "display_data"
    }
   ],
   "source": [
    "#inferring there schemas"
   ]
  },
  {
   "cell_type": "code",
   "execution_count": 10,
   "id": "eb155666-ae8c-4676-93f6-e00098fb25f5",
   "metadata": {
    "execution": {
     "iopub.execute_input": "2024-04-27T15:08:56.010539Z",
     "iopub.status.busy": "2024-04-27T15:08:56.010292Z",
     "iopub.status.idle": "2024-04-27T15:08:56.265733Z",
     "shell.execute_reply": "2024-04-27T15:08:56.265035Z",
     "shell.execute_reply.started": "2024-04-27T15:08:56.010505Z"
    },
    "tags": []
   },
   "outputs": [
    {
     "data": {
      "application/vnd.jupyter.widget-view+json": {
       "model_id": "9c9248b78e044eee8f98ff3ebb298d1c",
       "version_major": 2,
       "version_minor": 0
      },
      "text/plain": [
       "VBox()"
      ]
     },
     "metadata": {},
     "output_type": "display_data"
    },
    {
     "data": {
      "application/vnd.jupyter.widget-view+json": {
       "model_id": "",
       "version_major": 2,
       "version_minor": 0
      },
      "text/plain": [
       "FloatProgress(value=0.0, bar_style='info', description='Progress:', layout=Layout(height='25px', width='50%'),…"
      ]
     },
     "metadata": {},
     "output_type": "display_data"
    },
    {
     "name": "stdout",
     "output_type": "stream",
     "text": [
      "root\n",
      " |-- _c0: string (nullable = true)\n",
      " |-- id_str: string (nullable = true)\n",
      " |-- from_user: string (nullable = true)\n",
      " |-- text: string (nullable = true)\n",
      " |-- created_at: string (nullable = true)\n",
      " |-- time: string (nullable = true)\n",
      " |-- geo_coordinates: string (nullable = true)\n",
      " |-- user_lang: string (nullable = true)\n",
      " |-- in_reply_to_user_id_str: string (nullable = true)\n",
      " |-- in_reply_to_screen_name: string (nullable = true)\n",
      " |-- from_user_id_str: string (nullable = true)\n",
      " |-- in_reply_to_status_id_str: string (nullable = true)\n",
      " |-- source: string (nullable = true)\n",
      " |-- profile_image_url: string (nullable = true)\n",
      " |-- user_followers_count: string (nullable = true)\n",
      " |-- user_friends_count: string (nullable = true)\n",
      " |-- user_location: string (nullable = true)\n",
      " |-- status_url: string (nullable = true)\n",
      " |-- entities_str: string (nullable = true)\n",
      " |--  : string (nullable = true)\n",
      " |-- tweet_lang: string (nullable = true)"
     ]
    }
   ],
   "source": [
    "#schema for df1\n",
    "df1.printSchema()"
   ]
  },
  {
   "cell_type": "code",
   "execution_count": 11,
   "id": "99608cbd-4000-4c82-92a8-08639fc5e96d",
   "metadata": {
    "execution": {
     "iopub.execute_input": "2024-04-27T15:08:58.454363Z",
     "iopub.status.busy": "2024-04-27T15:08:58.454130Z",
     "iopub.status.idle": "2024-04-27T15:08:58.505770Z",
     "shell.execute_reply": "2024-04-27T15:08:58.505165Z",
     "shell.execute_reply.started": "2024-04-27T15:08:58.454337Z"
    },
    "tags": []
   },
   "outputs": [
    {
     "data": {
      "application/vnd.jupyter.widget-view+json": {
       "model_id": "7c484b743dd34be09430597d761eb479",
       "version_major": 2,
       "version_minor": 0
      },
      "text/plain": [
       "VBox()"
      ]
     },
     "metadata": {},
     "output_type": "display_data"
    },
    {
     "data": {
      "application/vnd.jupyter.widget-view+json": {
       "model_id": "",
       "version_major": 2,
       "version_minor": 0
      },
      "text/plain": [
       "FloatProgress(value=0.0, bar_style='info', description='Progress:', layout=Layout(height='25px', width='50%'),…"
      ]
     },
     "metadata": {},
     "output_type": "display_data"
    },
    {
     "name": "stdout",
     "output_type": "stream",
     "text": [
      "root\n",
      " |-- _c0: string (nullable = true)\n",
      " |-- index: string (nullable = true)\n",
      " |-- id_str: string (nullable = true)\n",
      " |-- from_user: string (nullable = true)\n",
      " |-- text: string (nullable = true)\n",
      " |-- created_at: string (nullable = true)\n",
      " |-- time: string (nullable = true)\n",
      " |-- geo_coordinates: string (nullable = true)\n",
      " |-- user_lang: string (nullable = true)\n",
      " |-- in_reply_to_user_id_str: string (nullable = true)\n",
      " |-- in_reply_to_screen_name: string (nullable = true)\n",
      " |-- from_user_id_str: string (nullable = true)\n",
      " |-- in_reply_to_status_id_str: string (nullable = true)\n",
      " |-- source: string (nullable = true)\n",
      " |-- profile_image_url: string (nullable = true)\n",
      " |-- user_followers_count: string (nullable = true)\n",
      " |-- user_friends_count: string (nullable = true)\n",
      " |-- user_location: string (nullable = true)\n",
      " |-- status_url: string (nullable = true)\n",
      " |-- entities_str: string (nullable = true)\n",
      " |-- tweet_lang: string (nullable = true)"
     ]
    }
   ],
   "source": [
    "#schema for df2\n",
    "df2.printSchema()"
   ]
  },
  {
   "cell_type": "code",
   "execution_count": 12,
   "id": "6a324a4f-5f14-44ce-b6cd-45615d7c9a42",
   "metadata": {
    "execution": {
     "iopub.execute_input": "2024-04-27T15:09:01.171612Z",
     "iopub.status.busy": "2024-04-27T15:09:01.171389Z",
     "iopub.status.idle": "2024-04-27T15:09:01.222096Z",
     "shell.execute_reply": "2024-04-27T15:09:01.221484Z",
     "shell.execute_reply.started": "2024-04-27T15:09:01.171588Z"
    },
    "tags": []
   },
   "outputs": [
    {
     "data": {
      "application/vnd.jupyter.widget-view+json": {
       "model_id": "7efdfa03510346f9aa9b4950d80c1da6",
       "version_major": 2,
       "version_minor": 0
      },
      "text/plain": [
       "VBox()"
      ]
     },
     "metadata": {},
     "output_type": "display_data"
    },
    {
     "data": {
      "application/vnd.jupyter.widget-view+json": {
       "model_id": "",
       "version_major": 2,
       "version_minor": 0
      },
      "text/plain": [
       "FloatProgress(value=0.0, bar_style='info', description='Progress:', layout=Layout(height='25px', width='50%'),…"
      ]
     },
     "metadata": {},
     "output_type": "display_data"
    },
    {
     "name": "stdout",
     "output_type": "stream",
     "text": [
      "root\n",
      " |-- _c0: string (nullable = true)\n",
      " |-- level_0: string (nullable = true)\n",
      " |-- index: string (nullable = true)\n",
      " |-- id_str: string (nullable = true)\n",
      " |-- from_user: string (nullable = true)\n",
      " |-- text: string (nullable = true)\n",
      " |-- created_at: string (nullable = true)\n",
      " |-- time: string (nullable = true)\n",
      " |-- geo_coordinates: string (nullable = true)\n",
      " |-- user_lang: string (nullable = true)\n",
      " |-- in_reply_to_user_id_str: string (nullable = true)\n",
      " |-- in_reply_to_screen_name: string (nullable = true)\n",
      " |-- from_user_id_str: string (nullable = true)\n",
      " |-- in_reply_to_status_id_str: string (nullable = true)\n",
      " |-- source: string (nullable = true)\n",
      " |-- profile_image_url: string (nullable = true)\n",
      " |-- user_followers_count: string (nullable = true)\n",
      " |-- user_friends_count: string (nullable = true)\n",
      " |-- user_location: string (nullable = true)\n",
      " |-- status_url: string (nullable = true)\n",
      " |-- entities_str: string (nullable = true)\n",
      " |-- tweet_lang: string (nullable = true)"
     ]
    }
   ],
   "source": [
    "#schema for df3\n",
    "df3.printSchema()"
   ]
  },
  {
   "cell_type": "code",
   "execution_count": 13,
   "id": "2046cbc8-e3a7-472a-a6d2-7f9d286fc840",
   "metadata": {
    "execution": {
     "iopub.execute_input": "2024-04-27T15:09:02.963987Z",
     "iopub.status.busy": "2024-04-27T15:09:02.963753Z",
     "iopub.status.idle": "2024-04-27T15:09:03.227504Z",
     "shell.execute_reply": "2024-04-27T15:09:03.226780Z",
     "shell.execute_reply.started": "2024-04-27T15:09:02.963960Z"
    },
    "tags": []
   },
   "outputs": [
    {
     "data": {
      "application/vnd.jupyter.widget-view+json": {
       "model_id": "be170c6d956848dc8aaff129fd656050",
       "version_major": 2,
       "version_minor": 0
      },
      "text/plain": [
       "VBox()"
      ]
     },
     "metadata": {},
     "output_type": "display_data"
    },
    {
     "data": {
      "application/vnd.jupyter.widget-view+json": {
       "model_id": "",
       "version_major": 2,
       "version_minor": 0
      },
      "text/plain": [
       "FloatProgress(value=0.0, bar_style='info', description='Progress:', layout=Layout(height='25px', width='50%'),…"
      ]
     },
     "metadata": {},
     "output_type": "display_data"
    },
    {
     "name": "stdout",
     "output_type": "stream",
     "text": [
      "root\n",
      " |-- _type: string (nullable = true)\n",
      " |-- cashtags: array (nullable = true)\n",
      " |    |-- element: string (containsNull = true)\n",
      " |-- content: string (nullable = true)\n",
      " |-- conversationId: long (nullable = true)\n",
      " |-- coordinates: struct (nullable = true)\n",
      " |    |-- _type: string (nullable = true)\n",
      " |    |-- latitude: double (nullable = true)\n",
      " |    |-- longitude: double (nullable = true)\n",
      " |-- date: string (nullable = true)\n",
      " |-- hashtags: array (nullable = true)\n",
      " |    |-- element: string (containsNull = true)\n",
      " |-- id: long (nullable = true)\n",
      " |-- inReplyToTweetId: long (nullable = true)\n",
      " |-- inReplyToUser: struct (nullable = true)\n",
      " |    |-- _type: string (nullable = true)\n",
      " |    |-- created: string (nullable = true)\n",
      " |    |-- description: string (nullable = true)\n",
      " |    |-- descriptionUrls: array (nullable = true)\n",
      " |    |    |-- element: struct (containsNull = true)\n",
      " |    |    |    |-- indices: array (nullable = true)\n",
      " |    |    |    |    |-- element: long (containsNull = true)\n",
      " |    |    |    |-- tcourl: string (nullable = true)\n",
      " |    |    |    |-- text: string (nullable = true)\n",
      " |    |    |    |-- url: string (nullable = true)\n",
      " |    |-- displayname: string (nullable = true)\n",
      " |    |-- favouritesCount: long (nullable = true)\n",
      " |    |-- followersCount: long (nullable = true)\n",
      " |    |-- friendsCount: long (nullable = true)\n",
      " |    |-- id: long (nullable = true)\n",
      " |    |-- label: struct (nullable = true)\n",
      " |    |    |-- _type: string (nullable = true)\n",
      " |    |    |-- badgeUrl: string (nullable = true)\n",
      " |    |    |-- description: string (nullable = true)\n",
      " |    |    |-- longDescription: string (nullable = true)\n",
      " |    |    |-- url: string (nullable = true)\n",
      " |    |-- linkTcourl: string (nullable = true)\n",
      " |    |-- linkUrl: string (nullable = true)\n",
      " |    |-- listedCount: long (nullable = true)\n",
      " |    |-- location: string (nullable = true)\n",
      " |    |-- mediaCount: long (nullable = true)\n",
      " |    |-- profileBannerUrl: string (nullable = true)\n",
      " |    |-- profileImageUrl: string (nullable = true)\n",
      " |    |-- protected: boolean (nullable = true)\n",
      " |    |-- rawDescription: string (nullable = true)\n",
      " |    |-- statusesCount: long (nullable = true)\n",
      " |    |-- url: string (nullable = true)\n",
      " |    |-- username: string (nullable = true)\n",
      " |    |-- verified: boolean (nullable = true)\n",
      " |-- lang: string (nullable = true)\n",
      " |-- likeCount: long (nullable = true)\n",
      " |-- media: array (nullable = true)\n",
      " |    |-- element: struct (containsNull = true)\n",
      " |    |    |-- _type: string (nullable = true)\n",
      " |    |    |-- duration: double (nullable = true)\n",
      " |    |    |-- fullUrl: string (nullable = true)\n",
      " |    |    |-- previewUrl: string (nullable = true)\n",
      " |    |    |-- thumbnailUrl: string (nullable = true)\n",
      " |    |    |-- variants: array (nullable = true)\n",
      " |    |    |    |-- element: struct (containsNull = true)\n",
      " |    |    |    |    |-- _type: string (nullable = true)\n",
      " |    |    |    |    |-- bitrate: long (nullable = true)\n",
      " |    |    |    |    |-- contentType: string (nullable = true)\n",
      " |    |    |    |    |-- url: string (nullable = true)\n",
      " |    |    |-- views: long (nullable = true)\n",
      " |-- mentionedUsers: array (nullable = true)\n",
      " |    |-- element: struct (containsNull = true)\n",
      " |    |    |-- _type: string (nullable = true)\n",
      " |    |    |-- created: string (nullable = true)\n",
      " |    |    |-- description: string (nullable = true)\n",
      " |    |    |-- descriptionUrls: string (nullable = true)\n",
      " |    |    |-- displayname: string (nullable = true)\n",
      " |    |    |-- favouritesCount: string (nullable = true)\n",
      " |    |    |-- followersCount: string (nullable = true)\n",
      " |    |    |-- friendsCount: string (nullable = true)\n",
      " |    |    |-- id: long (nullable = true)\n",
      " |    |    |-- label: string (nullable = true)\n",
      " |    |    |-- linkTcourl: string (nullable = true)\n",
      " |    |    |-- linkUrl: string (nullable = true)\n",
      " |    |    |-- listedCount: string (nullable = true)\n",
      " |    |    |-- location: string (nullable = true)\n",
      " |    |    |-- mediaCount: string (nullable = true)\n",
      " |    |    |-- profileBannerUrl: string (nullable = true)\n",
      " |    |    |-- profileImageUrl: string (nullable = true)\n",
      " |    |    |-- protected: string (nullable = true)\n",
      " |    |    |-- rawDescription: string (nullable = true)\n",
      " |    |    |-- statusesCount: string (nullable = true)\n",
      " |    |    |-- url: string (nullable = true)\n",
      " |    |    |-- username: string (nullable = true)\n",
      " |    |    |-- verified: string (nullable = true)\n",
      " |-- outlinks: array (nullable = true)\n",
      " |    |-- element: string (containsNull = true)\n",
      " |-- place: struct (nullable = true)\n",
      " |    |-- _type: string (nullable = true)\n",
      " |    |-- country: string (nullable = true)\n",
      " |    |-- countryCode: string (nullable = true)\n",
      " |    |-- fullName: string (nullable = true)\n",
      " |    |-- name: string (nullable = true)\n",
      " |    |-- type: string (nullable = true)\n",
      " |-- quoteCount: long (nullable = true)\n",
      " |-- quotedTweet: struct (nullable = true)\n",
      " |    |-- _type: string (nullable = true)\n",
      " |    |-- cashtags: array (nullable = true)\n",
      " |    |    |-- element: string (containsNull = true)\n",
      " |    |-- content: string (nullable = true)\n",
      " |    |-- conversationId: long (nullable = true)\n",
      " |    |-- coordinates: struct (nullable = true)\n",
      " |    |    |-- _type: string (nullable = true)\n",
      " |    |    |-- latitude: double (nullable = true)\n",
      " |    |    |-- longitude: double (nullable = true)\n",
      " |    |-- date: string (nullable = true)\n",
      " |    |-- hashtags: array (nullable = true)\n",
      " |    |    |-- element: string (containsNull = true)\n",
      " |    |-- id: long (nullable = true)\n",
      " |    |-- inReplyToTweetId: long (nullable = true)\n",
      " |    |-- inReplyToUser: struct (nullable = true)\n",
      " |    |    |-- _type: string (nullable = true)\n",
      " |    |    |-- created: string (nullable = true)\n",
      " |    |    |-- description: string (nullable = true)\n",
      " |    |    |-- descriptionUrls: array (nullable = true)\n",
      " |    |    |    |-- element: struct (containsNull = true)\n",
      " |    |    |    |    |-- indices: array (nullable = true)\n",
      " |    |    |    |    |    |-- element: long (containsNull = true)\n",
      " |    |    |    |    |-- tcourl: string (nullable = true)\n",
      " |    |    |    |    |-- text: string (nullable = true)\n",
      " |    |    |    |    |-- url: string (nullable = true)\n",
      " |    |    |-- displayname: string (nullable = true)\n",
      " |    |    |-- favouritesCount: long (nullable = true)\n",
      " |    |    |-- followersCount: long (nullable = true)\n",
      " |    |    |-- friendsCount: long (nullable = true)\n",
      " |    |    |-- id: long (nullable = true)\n",
      " |    |    |-- label: struct (nullable = true)\n",
      " |    |    |    |-- _type: string (nullable = true)\n",
      " |    |    |    |-- badgeUrl: string (nullable = true)\n",
      " |    |    |    |-- description: string (nullable = true)\n",
      " |    |    |    |-- longDescription: string (nullable = true)\n",
      " |    |    |    |-- url: string (nullable = true)\n",
      " |    |    |-- linkTcourl: string (nullable = true)\n",
      " |    |    |-- linkUrl: string (nullable = true)\n",
      " |    |    |-- listedCount: long (nullable = true)\n",
      " |    |    |-- location: string (nullable = true)\n",
      " |    |    |-- mediaCount: long (nullable = true)\n",
      " |    |    |-- profileBannerUrl: string (nullable = true)\n",
      " |    |    |-- profileImageUrl: string (nullable = true)\n",
      " |    |    |-- protected: boolean (nullable = true)\n",
      " |    |    |-- rawDescription: string (nullable = true)\n",
      " |    |    |-- statusesCount: long (nullable = true)\n",
      " |    |    |-- url: string (nullable = true)\n",
      " |    |    |-- username: string (nullable = true)\n",
      " |    |    |-- verified: boolean (nullable = true)\n",
      " |    |-- lang: string (nullable = true)\n",
      " |    |-- likeCount: long (nullable = true)\n",
      " |    |-- media: array (nullable = true)\n",
      " |    |    |-- element: struct (containsNull = true)\n",
      " |    |    |    |-- _type: string (nullable = true)\n",
      " |    |    |    |-- duration: double (nullable = true)\n",
      " |    |    |    |-- fullUrl: string (nullable = true)\n",
      " |    |    |    |-- previewUrl: string (nullable = true)\n",
      " |    |    |    |-- thumbnailUrl: string (nullable = true)\n",
      " |    |    |    |-- variants: array (nullable = true)\n",
      " |    |    |    |    |-- element: struct (containsNull = true)\n",
      " |    |    |    |    |    |-- _type: string (nullable = true)\n",
      " |    |    |    |    |    |-- bitrate: long (nullable = true)\n",
      " |    |    |    |    |    |-- contentType: string (nullable = true)\n",
      " |    |    |    |    |    |-- url: string (nullable = true)\n",
      " |    |    |    |-- views: long (nullable = true)\n",
      " |    |-- mentionedUsers: array (nullable = true)\n",
      " |    |    |-- element: struct (containsNull = true)\n",
      " |    |    |    |-- _type: string (nullable = true)\n",
      " |    |    |    |-- created: string (nullable = true)\n",
      " |    |    |    |-- description: string (nullable = true)\n",
      " |    |    |    |-- descriptionUrls: string (nullable = true)\n",
      " |    |    |    |-- displayname: string (nullable = true)\n",
      " |    |    |    |-- favouritesCount: string (nullable = true)\n",
      " |    |    |    |-- followersCount: string (nullable = true)\n",
      " |    |    |    |-- friendsCount: string (nullable = true)\n",
      " |    |    |    |-- id: long (nullable = true)\n",
      " |    |    |    |-- label: string (nullable = true)\n",
      " |    |    |    |-- linkTcourl: string (nullable = true)\n",
      " |    |    |    |-- linkUrl: string (nullable = true)\n",
      " |    |    |    |-- listedCount: string (nullable = true)\n",
      " |    |    |    |-- location: string (nullable = true)\n",
      " |    |    |    |-- mediaCount: string (nullable = true)\n",
      " |    |    |    |-- profileBannerUrl: string (nullable = true)\n",
      " |    |    |    |-- profileImageUrl: string (nullable = true)\n",
      " |    |    |    |-- protected: string (nullable = true)\n",
      " |    |    |    |-- rawDescription: string (nullable = true)\n",
      " |    |    |    |-- statusesCount: string (nullable = true)\n",
      " |    |    |    |-- url: string (nullable = true)\n",
      " |    |    |    |-- username: string (nullable = true)\n",
      " |    |    |    |-- verified: string (nullable = true)\n",
      " |    |-- outlinks: array (nullable = true)\n",
      " |    |    |-- element: string (containsNull = true)\n",
      " |    |-- place: struct (nullable = true)\n",
      " |    |    |-- _type: string (nullable = true)\n",
      " |    |    |-- country: string (nullable = true)\n",
      " |    |    |-- countryCode: string (nullable = true)\n",
      " |    |    |-- fullName: string (nullable = true)\n",
      " |    |    |-- name: string (nullable = true)\n",
      " |    |    |-- type: string (nullable = true)\n",
      " |    |-- quoteCount: long (nullable = true)\n",
      " |    |-- quotedTweet: struct (nullable = true)\n",
      " |    |    |-- _type: string (nullable = true)\n",
      " |    |    |-- cashtags: string (nullable = true)\n",
      " |    |    |-- content: string (nullable = true)\n",
      " |    |    |-- conversationId: long (nullable = true)\n",
      " |    |    |-- coordinates: string (nullable = true)\n",
      " |    |    |-- date: string (nullable = true)\n",
      " |    |    |-- hashtags: array (nullable = true)\n",
      " |    |    |    |-- element: string (containsNull = true)\n",
      " |    |    |-- id: long (nullable = true)\n",
      " |    |    |-- inReplyToTweetId: string (nullable = true)\n",
      " |    |    |-- inReplyToUser: string (nullable = true)\n",
      " |    |    |-- lang: string (nullable = true)\n",
      " |    |    |-- likeCount: long (nullable = true)\n",
      " |    |    |-- media: array (nullable = true)\n",
      " |    |    |    |-- element: struct (containsNull = true)\n",
      " |    |    |    |    |-- _type: string (nullable = true)\n",
      " |    |    |    |    |-- duration: double (nullable = true)\n",
      " |    |    |    |    |-- fullUrl: string (nullable = true)\n",
      " |    |    |    |    |-- previewUrl: string (nullable = true)\n",
      " |    |    |    |    |-- thumbnailUrl: string (nullable = true)\n",
      " |    |    |    |    |-- variants: array (nullable = true)\n",
      " |    |    |    |    |    |-- element: struct (containsNull = true)\n",
      " |    |    |    |    |    |    |-- _type: string (nullable = true)\n",
      " |    |    |    |    |    |    |-- bitrate: long (nullable = true)\n",
      " |    |    |    |    |    |    |-- contentType: string (nullable = true)\n",
      " |    |    |    |    |    |    |-- url: string (nullable = true)\n",
      " |    |    |    |    |-- views: long (nullable = true)\n",
      " |    |    |-- mentionedUsers: array (nullable = true)\n",
      " |    |    |    |-- element: struct (containsNull = true)\n",
      " |    |    |    |    |-- _type: string (nullable = true)\n",
      " |    |    |    |    |-- created: string (nullable = true)\n",
      " |    |    |    |    |-- description: string (nullable = true)\n",
      " |    |    |    |    |-- descriptionUrls: string (nullable = true)\n",
      " |    |    |    |    |-- displayname: string (nullable = true)\n",
      " |    |    |    |    |-- favouritesCount: string (nullable = true)\n",
      " |    |    |    |    |-- followersCount: string (nullable = true)\n",
      " |    |    |    |    |-- friendsCount: string (nullable = true)\n",
      " |    |    |    |    |-- id: long (nullable = true)\n",
      " |    |    |    |    |-- label: string (nullable = true)\n",
      " |    |    |    |    |-- linkTcourl: string (nullable = true)\n",
      " |    |    |    |    |-- linkUrl: string (nullable = true)\n",
      " |    |    |    |    |-- listedCount: string (nullable = true)\n",
      " |    |    |    |    |-- location: string (nullable = true)\n",
      " |    |    |    |    |-- mediaCount: string (nullable = true)\n",
      " |    |    |    |    |-- profileBannerUrl: string (nullable = true)\n",
      " |    |    |    |    |-- profileImageUrl: string (nullable = true)\n",
      " |    |    |    |    |-- protected: string (nullable = true)\n",
      " |    |    |    |    |-- rawDescription: string (nullable = true)\n",
      " |    |    |    |    |-- statusesCount: string (nullable = true)\n",
      " |    |    |    |    |-- url: string (nullable = true)\n",
      " |    |    |    |    |-- username: string (nullable = true)\n",
      " |    |    |    |    |-- verified: string (nullable = true)\n",
      " |    |    |-- outlinks: array (nullable = true)\n",
      " |    |    |    |-- element: string (containsNull = true)\n",
      " |    |    |-- place: string (nullable = true)\n",
      " |    |    |-- quoteCount: long (nullable = true)\n",
      " |    |    |-- quotedTweet: string (nullable = true)\n",
      " |    |    |-- renderedContent: string (nullable = true)\n",
      " |    |    |-- replyCount: long (nullable = true)\n",
      " |    |    |-- retweetCount: long (nullable = true)\n",
      " |    |    |-- retweetedTweet: string (nullable = true)\n",
      " |    |    |-- source: string (nullable = true)\n",
      " |    |    |-- sourceLabel: string (nullable = true)\n",
      " |    |    |-- sourceUrl: string (nullable = true)\n",
      " |    |    |-- tcooutlinks: array (nullable = true)\n",
      " |    |    |    |-- element: string (containsNull = true)\n",
      " |    |    |-- url: string (nullable = true)\n",
      " |    |    |-- user: struct (nullable = true)\n",
      " |    |    |    |-- _type: string (nullable = true)\n",
      " |    |    |    |-- created: string (nullable = true)\n",
      " |    |    |    |-- description: string (nullable = true)\n",
      " |    |    |    |-- descriptionUrls: string (nullable = true)\n",
      " |    |    |    |-- displayname: string (nullable = true)\n",
      " |    |    |    |-- favouritesCount: long (nullable = true)\n",
      " |    |    |    |-- followersCount: long (nullable = true)\n",
      " |    |    |    |-- friendsCount: long (nullable = true)\n",
      " |    |    |    |-- id: long (nullable = true)\n",
      " |    |    |    |-- label: string (nullable = true)\n",
      " |    |    |    |-- linkTcourl: string (nullable = true)\n",
      " |    |    |    |-- linkUrl: string (nullable = true)\n",
      " |    |    |    |-- listedCount: long (nullable = true)\n",
      " |    |    |    |-- location: string (nullable = true)\n",
      " |    |    |    |-- mediaCount: long (nullable = true)\n",
      " |    |    |    |-- profileBannerUrl: string (nullable = true)\n",
      " |    |    |    |-- profileImageUrl: string (nullable = true)\n",
      " |    |    |    |-- protected: boolean (nullable = true)\n",
      " |    |    |    |-- rawDescription: string (nullable = true)\n",
      " |    |    |    |-- statusesCount: long (nullable = true)\n",
      " |    |    |    |-- url: string (nullable = true)\n",
      " |    |    |    |-- username: string (nullable = true)\n",
      " |    |    |    |-- verified: boolean (nullable = true)\n",
      " |    |-- renderedContent: string (nullable = true)\n",
      " |    |-- replyCount: long (nullable = true)\n",
      " |    |-- retweetCount: long (nullable = true)\n",
      " |    |-- retweetedTweet: string (nullable = true)\n",
      " |    |-- source: string (nullable = true)\n",
      " |    |-- sourceLabel: string (nullable = true)\n",
      " |    |-- sourceUrl: string (nullable = true)\n",
      " |    |-- tcooutlinks: array (nullable = true)\n",
      " |    |    |-- element: string (containsNull = true)\n",
      " |    |-- url: string (nullable = true)\n",
      " |    |-- user: struct (nullable = true)\n",
      " |    |    |-- _type: string (nullable = true)\n",
      " |    |    |-- created: string (nullable = true)\n",
      " |    |    |-- description: string (nullable = true)\n",
      " |    |    |-- descriptionUrls: array (nullable = true)\n",
      " |    |    |    |-- element: struct (containsNull = true)\n",
      " |    |    |    |    |-- indices: array (nullable = true)\n",
      " |    |    |    |    |    |-- element: long (containsNull = true)\n",
      " |    |    |    |    |-- tcourl: string (nullable = true)\n",
      " |    |    |    |    |-- text: string (nullable = true)\n",
      " |    |    |    |    |-- url: string (nullable = true)\n",
      " |    |    |-- displayname: string (nullable = true)\n",
      " |    |    |-- favouritesCount: long (nullable = true)\n",
      " |    |    |-- followersCount: long (nullable = true)\n",
      " |    |    |-- friendsCount: long (nullable = true)\n",
      " |    |    |-- id: long (nullable = true)\n",
      " |    |    |-- label: struct (nullable = true)\n",
      " |    |    |    |-- _type: string (nullable = true)\n",
      " |    |    |    |-- badgeUrl: string (nullable = true)\n",
      " |    |    |    |-- description: string (nullable = true)\n",
      " |    |    |    |-- longDescription: string (nullable = true)\n",
      " |    |    |    |-- url: string (nullable = true)\n",
      " |    |    |-- linkTcourl: string (nullable = true)\n",
      " |    |    |-- linkUrl: string (nullable = true)\n",
      " |    |    |-- listedCount: long (nullable = true)\n",
      " |    |    |-- location: string (nullable = true)\n",
      " |    |    |-- mediaCount: long (nullable = true)\n",
      " |    |    |-- profileBannerUrl: string (nullable = true)\n",
      " |    |    |-- profileImageUrl: string (nullable = true)\n",
      " |    |    |-- protected: boolean (nullable = true)\n",
      " |    |    |-- rawDescription: string (nullable = true)\n",
      " |    |    |-- statusesCount: long (nullable = true)\n",
      " |    |    |-- url: string (nullable = true)\n",
      " |    |    |-- username: string (nullable = true)\n",
      " |    |    |-- verified: boolean (nullable = true)\n",
      " |-- renderedContent: string (nullable = true)\n",
      " |-- replyCount: long (nullable = true)\n",
      " |-- retweetCount: long (nullable = true)\n",
      " |-- retweetedTweet: string (nullable = true)\n",
      " |-- source: string (nullable = true)\n",
      " |-- sourceLabel: string (nullable = true)\n",
      " |-- sourceUrl: string (nullable = true)\n",
      " |-- tcooutlinks: array (nullable = true)\n",
      " |    |-- element: string (containsNull = true)\n",
      " |-- url: string (nullable = true)\n",
      " |-- user: struct (nullable = true)\n",
      " |    |-- _type: string (nullable = true)\n",
      " |    |-- created: string (nullable = true)\n",
      " |    |-- description: string (nullable = true)\n",
      " |    |-- descriptionUrls: array (nullable = true)\n",
      " |    |    |-- element: struct (containsNull = true)\n",
      " |    |    |    |-- indices: array (nullable = true)\n",
      " |    |    |    |    |-- element: long (containsNull = true)\n",
      " |    |    |    |-- tcourl: string (nullable = true)\n",
      " |    |    |    |-- text: string (nullable = true)\n",
      " |    |    |    |-- url: string (nullable = true)\n",
      " |    |-- displayname: string (nullable = true)\n",
      " |    |-- favouritesCount: long (nullable = true)\n",
      " |    |-- followersCount: long (nullable = true)\n",
      " |    |-- friendsCount: long (nullable = true)\n",
      " |    |-- id: long (nullable = true)\n",
      " |    |-- label: struct (nullable = true)\n",
      " |    |    |-- _type: string (nullable = true)\n",
      " |    |    |-- badgeUrl: string (nullable = true)\n",
      " |    |    |-- description: string (nullable = true)\n",
      " |    |    |-- longDescription: string (nullable = true)\n",
      " |    |    |-- url: string (nullable = true)\n",
      " |    |-- linkTcourl: string (nullable = true)\n",
      " |    |-- linkUrl: string (nullable = true)\n",
      " |    |-- listedCount: long (nullable = true)\n",
      " |    |-- location: string (nullable = true)\n",
      " |    |-- mediaCount: long (nullable = true)\n",
      " |    |-- profileBannerUrl: string (nullable = true)\n",
      " |    |-- profileImageUrl: string (nullable = true)\n",
      " |    |-- protected: boolean (nullable = true)\n",
      " |    |-- rawDescription: string (nullable = true)\n",
      " |    |-- statusesCount: long (nullable = true)\n",
      " |    |-- url: string (nullable = true)\n",
      " |    |-- username: string (nullable = true)\n",
      " |    |-- verified: boolean (nullable = true)"
     ]
    }
   ],
   "source": [
    "#schema for df4\n",
    "df4.printSchema()"
   ]
  },
  {
   "cell_type": "code",
   "execution_count": 14,
   "id": "bd662070-c64d-4a86-ba7e-fd1e562788d6",
   "metadata": {
    "execution": {
     "iopub.execute_input": "2024-04-27T15:09:09.833967Z",
     "iopub.status.busy": "2024-04-27T15:09:09.833740Z",
     "iopub.status.idle": "2024-04-27T15:09:10.088414Z",
     "shell.execute_reply": "2024-04-27T15:09:10.087727Z",
     "shell.execute_reply.started": "2024-04-27T15:09:09.833942Z"
    },
    "tags": []
   },
   "outputs": [
    {
     "data": {
      "application/vnd.jupyter.widget-view+json": {
       "model_id": "1450c9e0d1e14fbaacc560246915b26c",
       "version_major": 2,
       "version_minor": 0
      },
      "text/plain": [
       "VBox()"
      ]
     },
     "metadata": {},
     "output_type": "display_data"
    },
    {
     "data": {
      "application/vnd.jupyter.widget-view+json": {
       "model_id": "",
       "version_major": 2,
       "version_minor": 0
      },
      "text/plain": [
       "FloatProgress(value=0.0, bar_style='info', description='Progress:', layout=Layout(height='25px', width='50%'),…"
      ]
     },
     "metadata": {},
     "output_type": "display_data"
    }
   ],
   "source": [
    "#we only need the tweets column from all the dataframes\n",
    "df1_tweets=df1.select('text')\n",
    "df2_tweets=df2.select('text')\n",
    "df3_tweets=df3.select('text')\n",
    "df4_tweets=df4.select('content')"
   ]
  },
  {
   "cell_type": "code",
   "execution_count": 15,
   "id": "7226ec83-bf26-4650-aeed-a3b0eafa5f0c",
   "metadata": {
    "execution": {
     "iopub.execute_input": "2024-04-27T15:09:12.429212Z",
     "iopub.status.busy": "2024-04-27T15:09:12.428973Z",
     "iopub.status.idle": "2024-04-27T15:09:12.682744Z",
     "shell.execute_reply": "2024-04-27T15:09:12.682133Z",
     "shell.execute_reply.started": "2024-04-27T15:09:12.429186Z"
    },
    "tags": []
   },
   "outputs": [
    {
     "data": {
      "application/vnd.jupyter.widget-view+json": {
       "model_id": "004d6ab155be44e9b596f1f26135af9d",
       "version_major": 2,
       "version_minor": 0
      },
      "text/plain": [
       "VBox()"
      ]
     },
     "metadata": {},
     "output_type": "display_data"
    },
    {
     "data": {
      "application/vnd.jupyter.widget-view+json": {
       "model_id": "",
       "version_major": 2,
       "version_minor": 0
      },
      "text/plain": [
       "FloatProgress(value=0.0, bar_style='info', description='Progress:', layout=Layout(height='25px', width='50%'),…"
      ]
     },
     "metadata": {},
     "output_type": "display_data"
    }
   ],
   "source": [
    "#unionizing all of these datframes into one\n",
    "df_tweets=df1_tweets.union(df2_tweets).union(df3_tweets).union(df4_tweets)"
   ]
  },
  {
   "cell_type": "code",
   "execution_count": 16,
   "id": "c5847e6c-efd8-4629-ab21-c5c9ba0ec27a",
   "metadata": {
    "execution": {
     "iopub.execute_input": "2024-04-27T15:09:13.961220Z",
     "iopub.status.busy": "2024-04-27T15:09:13.961000Z",
     "iopub.status.idle": "2024-04-27T15:10:29.496876Z",
     "shell.execute_reply": "2024-04-27T15:10:29.496188Z",
     "shell.execute_reply.started": "2024-04-27T15:09:13.961196Z"
    },
    "tags": []
   },
   "outputs": [
    {
     "data": {
      "application/vnd.jupyter.widget-view+json": {
       "model_id": "0fcad0d19fda49c483ba1fc45276d8da",
       "version_major": 2,
       "version_minor": 0
      },
      "text/plain": [
       "VBox()"
      ]
     },
     "metadata": {},
     "output_type": "display_data"
    },
    {
     "data": {
      "application/vnd.jupyter.widget-view+json": {
       "model_id": "",
       "version_major": 2,
       "version_minor": 0
      },
      "text/plain": [
       "FloatProgress(value=0.0, bar_style='info', description='Progress:', layout=Layout(height='25px', width='50%'),…"
      ]
     },
     "metadata": {},
     "output_type": "display_data"
    },
    {
     "name": "stdout",
     "output_type": "stream",
     "text": [
      "total rows of tweets before processing:  18627474"
     ]
    }
   ],
   "source": [
    "#getting the total count for tweeets\n",
    "\n",
    "print(\"total rows of tweets before processing: \",df_tweets.count())"
   ]
  },
  {
   "cell_type": "code",
   "execution_count": 17,
   "id": "3e279a1a-9fba-4d17-853b-bc08e9a5a61b",
   "metadata": {
    "execution": {
     "iopub.execute_input": "2024-04-27T15:10:31.257295Z",
     "iopub.status.busy": "2024-04-27T15:10:31.257057Z",
     "iopub.status.idle": "2024-04-27T15:10:31.307049Z",
     "shell.execute_reply": "2024-04-27T15:10:31.306401Z",
     "shell.execute_reply.started": "2024-04-27T15:10:31.257269Z"
    },
    "tags": []
   },
   "outputs": [
    {
     "data": {
      "application/vnd.jupyter.widget-view+json": {
       "model_id": "44355036f71d4eb198fea02b87ad9aaa",
       "version_major": 2,
       "version_minor": 0
      },
      "text/plain": [
       "VBox()"
      ]
     },
     "metadata": {},
     "output_type": "display_data"
    },
    {
     "data": {
      "application/vnd.jupyter.widget-view+json": {
       "model_id": "",
       "version_major": 2,
       "version_minor": 0
      },
      "text/plain": [
       "FloatProgress(value=0.0, bar_style='info', description='Progress:', layout=Layout(height='25px', width='50%'),…"
      ]
     },
     "metadata": {},
     "output_type": "display_data"
    }
   ],
   "source": [
    "#we have almost 18.6 million tweets before processing"
   ]
  },
  {
   "cell_type": "code",
   "execution_count": 18,
   "id": "cd6b51a8-03be-47b5-8d25-465bcfc855ce",
   "metadata": {
    "execution": {
     "iopub.execute_input": "2024-04-27T15:10:33.449237Z",
     "iopub.status.busy": "2024-04-27T15:10:33.448993Z",
     "iopub.status.idle": "2024-04-27T15:10:33.699158Z",
     "shell.execute_reply": "2024-04-27T15:10:33.698484Z",
     "shell.execute_reply.started": "2024-04-27T15:10:33.449212Z"
    },
    "tags": []
   },
   "outputs": [
    {
     "data": {
      "application/vnd.jupyter.widget-view+json": {
       "model_id": "027b83ead1194d64ab16f23572a00a2e",
       "version_major": 2,
       "version_minor": 0
      },
      "text/plain": [
       "VBox()"
      ]
     },
     "metadata": {},
     "output_type": "display_data"
    },
    {
     "data": {
      "application/vnd.jupyter.widget-view+json": {
       "model_id": "",
       "version_major": 2,
       "version_minor": 0
      },
      "text/plain": [
       "FloatProgress(value=0.0, bar_style='info', description='Progress:', layout=Layout(height='25px', width='50%'),…"
      ]
     },
     "metadata": {},
     "output_type": "display_data"
    }
   ],
   "source": [
    "#dropping null values\n",
    "df_tweets_without_null_values=df_tweets.na.drop()"
   ]
  },
  {
   "cell_type": "code",
   "execution_count": 19,
   "id": "65ccc9cb-aa80-4750-a4ae-03fa9c75d980",
   "metadata": {
    "execution": {
     "iopub.execute_input": "2024-04-27T15:10:34.847865Z",
     "iopub.status.busy": "2024-04-27T15:10:34.847597Z",
     "iopub.status.idle": "2024-04-27T15:10:34.897145Z",
     "shell.execute_reply": "2024-04-27T15:10:34.896473Z",
     "shell.execute_reply.started": "2024-04-27T15:10:34.847835Z"
    },
    "tags": []
   },
   "outputs": [
    {
     "data": {
      "application/vnd.jupyter.widget-view+json": {
       "model_id": "7b956485917b40b687dd10d1359bdffd",
       "version_major": 2,
       "version_minor": 0
      },
      "text/plain": [
       "VBox()"
      ]
     },
     "metadata": {},
     "output_type": "display_data"
    },
    {
     "data": {
      "application/vnd.jupyter.widget-view+json": {
       "model_id": "",
       "version_major": 2,
       "version_minor": 0
      },
      "text/plain": [
       "FloatProgress(value=0.0, bar_style='info', description='Progress:', layout=Layout(height='25px', width='50%'),…"
      ]
     },
     "metadata": {},
     "output_type": "display_data"
    }
   ],
   "source": [
    "#removing duplicate rows\n",
    "df_tweets_without_duplicates=df_tweets_without_null_values.dropDuplicates()"
   ]
  },
  {
   "cell_type": "code",
   "execution_count": 20,
   "id": "443e61d2-8085-47ff-965f-9d3289084903",
   "metadata": {
    "execution": {
     "iopub.execute_input": "2024-04-27T15:10:36.818046Z",
     "iopub.status.busy": "2024-04-27T15:10:36.817777Z",
     "iopub.status.idle": "2024-04-27T15:11:58.525010Z",
     "shell.execute_reply": "2024-04-27T15:11:58.511809Z",
     "shell.execute_reply.started": "2024-04-27T15:10:36.818017Z"
    },
    "tags": []
   },
   "outputs": [
    {
     "data": {
      "application/vnd.jupyter.widget-view+json": {
       "model_id": "67ef28d52ac545c4a10d6d0ab7862094",
       "version_major": 2,
       "version_minor": 0
      },
      "text/plain": [
       "VBox()"
      ]
     },
     "metadata": {},
     "output_type": "display_data"
    },
    {
     "data": {
      "application/vnd.jupyter.widget-view+json": {
       "model_id": "",
       "version_major": 2,
       "version_minor": 0
      },
      "text/plain": [
       "FloatProgress(value=0.0, bar_style='info', description='Progress:', layout=Layout(height='25px', width='50%'),…"
      ]
     },
     "metadata": {},
     "output_type": "display_data"
    },
    {
     "name": "stdout",
     "output_type": "stream",
     "text": [
      "total rows of tweets after removing null and duplicates:  6089506"
     ]
    }
   ],
   "source": [
    "#checking the count now\n",
    "print(\"total rows of tweets after removing null and duplicates: \", df_tweets_without_duplicates.count())"
   ]
  },
  {
   "cell_type": "code",
   "execution_count": 21,
   "id": "b30c8953-e78c-4668-80cf-9ba1e223ac20",
   "metadata": {
    "execution": {
     "iopub.execute_input": "2024-04-27T15:12:01.832477Z",
     "iopub.status.busy": "2024-04-27T15:12:01.832240Z",
     "iopub.status.idle": "2024-04-27T15:12:01.877993Z",
     "shell.execute_reply": "2024-04-27T15:12:01.877407Z",
     "shell.execute_reply.started": "2024-04-27T15:12:01.832449Z"
    },
    "tags": []
   },
   "outputs": [
    {
     "data": {
      "application/vnd.jupyter.widget-view+json": {
       "model_id": "ed922195bb7541688c40c776fdc5f911",
       "version_major": 2,
       "version_minor": 0
      },
      "text/plain": [
       "VBox()"
      ]
     },
     "metadata": {},
     "output_type": "display_data"
    },
    {
     "data": {
      "application/vnd.jupyter.widget-view+json": {
       "model_id": "",
       "version_major": 2,
       "version_minor": 0
      },
      "text/plain": [
       "FloatProgress(value=0.0, bar_style='info', description='Progress:', layout=Layout(height='25px', width='50%'),…"
      ]
     },
     "metadata": {},
     "output_type": "display_data"
    }
   ],
   "source": [
    "#we have 6 million tweets after removing null and duplicates"
   ]
  },
  {
   "cell_type": "code",
   "execution_count": 22,
   "id": "dbbfb909-019e-4333-9c35-d62816f437a5",
   "metadata": {
    "execution": {
     "iopub.execute_input": "2024-04-27T15:12:03.371229Z",
     "iopub.status.busy": "2024-04-27T15:12:03.371001Z",
     "iopub.status.idle": "2024-04-27T15:13:02.838785Z",
     "shell.execute_reply": "2024-04-27T15:13:02.837934Z",
     "shell.execute_reply.started": "2024-04-27T15:12:03.371204Z"
    },
    "tags": []
   },
   "outputs": [
    {
     "data": {
      "application/vnd.jupyter.widget-view+json": {
       "model_id": "ea6a1b394f8d403998612a5c7ff6781b",
       "version_major": 2,
       "version_minor": 0
      },
      "text/plain": [
       "VBox()"
      ]
     },
     "metadata": {},
     "output_type": "display_data"
    },
    {
     "data": {
      "application/vnd.jupyter.widget-view+json": {
       "model_id": "",
       "version_major": 2,
       "version_minor": 0
      },
      "text/plain": [
       "FloatProgress(value=0.0, bar_style='info', description='Progress:', layout=Layout(height='25px', width='50%'),…"
      ]
     },
     "metadata": {},
     "output_type": "display_data"
    },
    {
     "name": "stdout",
     "output_type": "stream",
     "text": [
      "+-----------------------------------------------------------------------------------------------------------------------------------------------------------------------------------------------------------------------------------------------------------------------+\n",
      "|text                                                                                                                                                                                                                                                                   |\n",
      "+-----------------------------------------------------------------------------------------------------------------------------------------------------------------------------------------------------------------------------------------------------------------------+\n",
      "|This Sleep Habit Doubles the Risk of Early Death in Women, Says Study\\n\\n#bodyhealth #sleep #news #mentalhealth #wellness\\nhttps://t.co/HGdcvI8Z4e                                                                                                                     |\n",
      "|SRA intervenes after venerable Wales firm enters liquidation – Law Gazette\\n\\nChronLaw Estate Planning and Probate News\\nat https://t.co/1xq3R5pB1y\\n\\n#EstatePlanningAndProbate #news #law #attorney #lawyer                                                          |\n",
      "|Americans are in favor of non-traditional investing but don’t know where to start https://t.co/6BnZTzjJXe #Business https://t.co/eQQT8822Zi #news 781                                                                                                                  |\n",
      "|#NEWS THE Zanzibar government, in collaboration with a South African investor has embarked on efforts to rescue Mnemba Island in Unguja North Region that is in danger of extinction due to effects of climate change. /https://t.co/GulZ3j17s8 https://t.co/MfjUm7cBNR|\n",
      "|Media outlets led by CNN seek access to court filings that House January 6 committee made under seal - CNN has been published on Canada News Media - https://t.co/uIDlXwkoKQ #news https://t.co/ZI0n2RGwPD                                                             |\n",
      "|Mexico to strengthen its medical system with help of Cuba\\nMexican president's visit to Cuba this weekend highlighted by health agreement signed between two countries\\n#News #DailyNews #LiveNews #WorldNews https://t.co/RD4qCnDm7A                                  |\n",
      "|Low-rent RAT Worries Researchers https://t.co/HrUndbcAxx #news #cybersecurity #infosec https://t.co/qvggQlnJ0i                                                                                                                                                         |\n",
      "|#News #Buzzfeed #Newsbites :Bitcoin Slips Beneath $33k As Trade Inflows Attain Highest Worth Since July 2021 https://t.co/M5VDWEhEOM                                                                                                                                   |\n",
      "|#CHICAGO\\n#USA #UK #brixton #brixton #brixton #NEWS\\n#ROCK\\n\\nTitanic Soundtrack Distortion Version\\n\\nhttps://t.co/xr1MFhooao                                                                                                                                         |\n",
      "|Charlie why have you not been snatched up. Your so cute 🥰 #people #USA #pledge #foster #adopt #community #Trending #news #NFL #baseball #LISA #Flowers #mom #Money #MondayMotivation #music https://t.co/SyoQ0PMIlS https://t.co/gVToneDL2G                           |\n",
      "+-----------------------------------------------------------------------------------------------------------------------------------------------------------------------------------------------------------------------------------------------------------------------+\n",
      "only showing top 10 rows"
     ]
    }
   ],
   "source": [
    "df_tweets_without_duplicates.show(10,truncate=False)"
   ]
  },
  {
   "cell_type": "code",
   "execution_count": 23,
   "id": "a19e4655-ff7d-4263-85ff-7f7f85e111f4",
   "metadata": {
    "execution": {
     "iopub.execute_input": "2024-04-27T15:13:15.063595Z",
     "iopub.status.busy": "2024-04-27T15:13:15.063358Z",
     "iopub.status.idle": "2024-04-27T15:13:15.319416Z",
     "shell.execute_reply": "2024-04-27T15:13:15.318742Z",
     "shell.execute_reply.started": "2024-04-27T15:13:15.063568Z"
    },
    "tags": []
   },
   "outputs": [
    {
     "data": {
      "application/vnd.jupyter.widget-view+json": {
       "model_id": "d500949617514a63a55dfba5800d20bd",
       "version_major": 2,
       "version_minor": 0
      },
      "text/plain": [
       "VBox()"
      ]
     },
     "metadata": {},
     "output_type": "display_data"
    },
    {
     "data": {
      "application/vnd.jupyter.widget-view+json": {
       "model_id": "",
       "version_major": 2,
       "version_minor": 0
      },
      "text/plain": [
       "FloatProgress(value=0.0, bar_style='info', description='Progress:', layout=Layout(height='25px', width='50%'),…"
      ]
     },
     "metadata": {},
     "output_type": "display_data"
    }
   ],
   "source": [
    "#removing URLs from tweets\n",
    "from pyspark.sql.functions import regexp_replace\n",
    "df_tweets_without_URLs=df_tweets_without_duplicates.withColumn('text', regexp_replace('text', 'http\\S+', ''))"
   ]
  },
  {
   "cell_type": "code",
   "execution_count": 24,
   "id": "c0cc51a6-a0e3-421b-b221-68423f51a440",
   "metadata": {
    "execution": {
     "iopub.execute_input": "2024-04-27T15:13:16.653808Z",
     "iopub.status.busy": "2024-04-27T15:13:16.653570Z",
     "iopub.status.idle": "2024-04-27T15:14:24.125418Z",
     "shell.execute_reply": "2024-04-27T15:14:24.124657Z",
     "shell.execute_reply.started": "2024-04-27T15:13:16.653781Z"
    },
    "tags": []
   },
   "outputs": [
    {
     "data": {
      "application/vnd.jupyter.widget-view+json": {
       "model_id": "bd70eb9374a34f658a0fc5c60e5194ce",
       "version_major": 2,
       "version_minor": 0
      },
      "text/plain": [
       "VBox()"
      ]
     },
     "metadata": {},
     "output_type": "display_data"
    },
    {
     "data": {
      "application/vnd.jupyter.widget-view+json": {
       "model_id": "",
       "version_major": 2,
       "version_minor": 0
      },
      "text/plain": [
       "FloatProgress(value=0.0, bar_style='info', description='Progress:', layout=Layout(height='25px', width='50%'),…"
      ]
     },
     "metadata": {},
     "output_type": "display_data"
    },
    {
     "name": "stdout",
     "output_type": "stream",
     "text": [
      "+-----------------------------------------------------------------------------------------------------------------------------------------------------------------------------------------------------------------------------------------------------------------------------------+\n",
      "|text                                                                                                                                                                                                                                                                               |\n",
      "+-----------------------------------------------------------------------------------------------------------------------------------------------------------------------------------------------------------------------------------------------------------------------------------+\n",
      "|Privately, I’ve been quite critical of how long it took us as a country to shut down, and then as a state to recognize that more needed to be done with NYC. The examples I kept turning to? Countries led be a lot of bad-ass women 💪 #COVID2019 #covid19                        |\n",
      "|Les cas communautaires se multiplient c’est inquiétant, désormais nous ne savons plus qui est  porteur du virus ou pas , mettez un masque SI  vous êtes obligés de sortir , le #COVID19 est dans nos rues #fagarungirmuccu #covid19sn ⁦@cousenegal⁩ ⁦@MinisteredelaS1⁩             |\n",
      "|#raccontidamuseo ai tempi del #covid19                                                                                                                                                                                                                                             |\n",
      "|RT @christiemorreal: N’hésitez pas à partager #violencesconjugales 080030030 #COVID19 #confinement                                                                                                                                                                                 |\n",
      "|RT @MOInformation: نشر #الإشاعة وحكمها                                                                                                                                                                                                                                             |\n",
      "|RT @KomradePhd: #COVID19                                                                                                                                                                                                                                                           |\n",
      "|El secreto de Grecia para tener al #COVID19 controlado: la anticipación y la previsión.                                                                                                                                                                                            |\n",
      "|2020-04-14 08:48:50                                                                                                                                                                                                                                                                |\n",
      "|Se habla del #COVID19 ...                                                                                                                                                                                                                                                          |\n",
      "|RT @DeAnna4Congress: I say we #FireFauci and nominate @va_shiva as the new director of the #COVID19 Task Force! He actually will give the truth to the American pple and promote the real, natural health remedies that WORK - not just peddle mandatory vaccines as the cure-all. |\n",
      "+-----------------------------------------------------------------------------------------------------------------------------------------------------------------------------------------------------------------------------------------------------------------------------------+\n",
      "only showing top 10 rows"
     ]
    }
   ],
   "source": [
    "df_tweets_without_URLs.show(10, truncate=False)"
   ]
  },
  {
   "cell_type": "code",
   "execution_count": 25,
   "id": "9c1f88e8-9512-48f8-bbed-f32cca7ea37b",
   "metadata": {
    "execution": {
     "iopub.execute_input": "2024-04-27T15:14:24.127139Z",
     "iopub.status.busy": "2024-04-27T15:14:24.126894Z",
     "iopub.status.idle": "2024-04-27T15:15:33.605888Z",
     "shell.execute_reply": "2024-04-27T15:15:33.605236Z",
     "shell.execute_reply.started": "2024-04-27T15:14:24.127104Z"
    },
    "tags": []
   },
   "outputs": [
    {
     "data": {
      "application/vnd.jupyter.widget-view+json": {
       "model_id": "d3f525df59e049568831aac42d55ebe8",
       "version_major": 2,
       "version_minor": 0
      },
      "text/plain": [
       "VBox()"
      ]
     },
     "metadata": {},
     "output_type": "display_data"
    },
    {
     "data": {
      "application/vnd.jupyter.widget-view+json": {
       "model_id": "",
       "version_major": 2,
       "version_minor": 0
      },
      "text/plain": [
       "FloatProgress(value=0.0, bar_style='info', description='Progress:', layout=Layout(height='25px', width='50%'),…"
      ]
     },
     "metadata": {},
     "output_type": "display_data"
    },
    {
     "name": "stdout",
     "output_type": "stream",
     "text": [
      "6089506"
     ]
    }
   ],
   "source": [
    "df_tweets_without_URLs.count()"
   ]
  },
  {
   "cell_type": "code",
   "execution_count": 26,
   "id": "98e60bed-a416-4d1c-bea3-18dbf61bfc9f",
   "metadata": {
    "execution": {
     "iopub.execute_input": "2024-04-27T15:15:33.607363Z",
     "iopub.status.busy": "2024-04-27T15:15:33.607189Z",
     "iopub.status.idle": "2024-04-27T15:15:33.855405Z",
     "shell.execute_reply": "2024-04-27T15:15:33.854758Z",
     "shell.execute_reply.started": "2024-04-27T15:15:33.607340Z"
    },
    "tags": []
   },
   "outputs": [
    {
     "data": {
      "application/vnd.jupyter.widget-view+json": {
       "model_id": "e5c8dd1d3a0042bbacedb145c975e25f",
       "version_major": 2,
       "version_minor": 0
      },
      "text/plain": [
       "VBox()"
      ]
     },
     "metadata": {},
     "output_type": "display_data"
    },
    {
     "data": {
      "application/vnd.jupyter.widget-view+json": {
       "model_id": "",
       "version_major": 2,
       "version_minor": 0
      },
      "text/plain": [
       "FloatProgress(value=0.0, bar_style='info', description='Progress:', layout=Layout(height='25px', width='50%'),…"
      ]
     },
     "metadata": {},
     "output_type": "display_data"
    }
   ],
   "source": [
    "#some tweets have /n in them as it symbolizes line break, replacing /n with space\n",
    "df_tweets_without_linebreak = df_tweets_without_URLs.withColumn('text', regexp_replace('text', '\\\\n', ' '))"
   ]
  },
  {
   "cell_type": "code",
   "execution_count": 27,
   "id": "b8ec7246-0dcc-4117-9601-8ef9c6fb98f9",
   "metadata": {
    "execution": {
     "iopub.execute_input": "2024-04-27T15:15:33.857344Z",
     "iopub.status.busy": "2024-04-27T15:15:33.856971Z",
     "iopub.status.idle": "2024-04-27T15:16:45.339240Z",
     "shell.execute_reply": "2024-04-27T15:16:45.338533Z",
     "shell.execute_reply.started": "2024-04-27T15:15:33.857306Z"
    },
    "tags": []
   },
   "outputs": [
    {
     "data": {
      "application/vnd.jupyter.widget-view+json": {
       "model_id": "40a78e85f84e4f8890c7037845e16365",
       "version_major": 2,
       "version_minor": 0
      },
      "text/plain": [
       "VBox()"
      ]
     },
     "metadata": {},
     "output_type": "display_data"
    },
    {
     "data": {
      "application/vnd.jupyter.widget-view+json": {
       "model_id": "",
       "version_major": 2,
       "version_minor": 0
      },
      "text/plain": [
       "FloatProgress(value=0.0, bar_style='info', description='Progress:', layout=Layout(height='25px', width='50%'),…"
      ]
     },
     "metadata": {},
     "output_type": "display_data"
    },
    {
     "name": "stdout",
     "output_type": "stream",
     "text": [
      "6089506"
     ]
    }
   ],
   "source": [
    "df_tweets_without_linebreak.count()"
   ]
  },
  {
   "cell_type": "code",
   "execution_count": 28,
   "id": "07580dfd-9f24-4afe-bbc6-c90aa7e47931",
   "metadata": {
    "execution": {
     "iopub.execute_input": "2024-04-27T15:16:45.340376Z",
     "iopub.status.busy": "2024-04-27T15:16:45.340214Z",
     "iopub.status.idle": "2024-04-27T15:17:46.786686Z",
     "shell.execute_reply": "2024-04-27T15:17:46.786066Z",
     "shell.execute_reply.started": "2024-04-27T15:16:45.340355Z"
    },
    "tags": []
   },
   "outputs": [
    {
     "data": {
      "application/vnd.jupyter.widget-view+json": {
       "model_id": "7a9865c90aed4b50bb0396fdff34ec6e",
       "version_major": 2,
       "version_minor": 0
      },
      "text/plain": [
       "VBox()"
      ]
     },
     "metadata": {},
     "output_type": "display_data"
    },
    {
     "data": {
      "application/vnd.jupyter.widget-view+json": {
       "model_id": "",
       "version_major": 2,
       "version_minor": 0
      },
      "text/plain": [
       "FloatProgress(value=0.0, bar_style='info', description='Progress:', layout=Layout(height='25px', width='50%'),…"
      ]
     },
     "metadata": {},
     "output_type": "display_data"
    },
    {
     "name": "stdout",
     "output_type": "stream",
     "text": [
      "+--------------------------------------------------------------------------------------------------------------------------------------------------------------------------------------------------------------------------------------------------------------------+\n",
      "|text                                                                                                                                                                                                                                                                |\n",
      "+--------------------------------------------------------------------------------------------------------------------------------------------------------------------------------------------------------------------------------------------------------------------+\n",
      "|#Colombia concederá más libertades a la población a partir de junio a medida que recupera gradualmente algunas actividades económicas, pero pidió mantener las medidas de prevención y el aislamiento en casa para contener el #COVID19, anunció el presidente Duque|\n",
      "|@VAResearch in action: #VA has launched a clinical trial to test an FDA-approved prostate cancer drug as a potential treatment for male #Veterans with #COVID19.                                                                                                    |\n",
      "|RT @portaluai: Você já ouviu falar em Canelite e fratura por estresse?                                                                                                                                                                                              |\n",
      "|RT @noir_franck: Les #assurances :                                                                                                                                                                                                                                  |\n",
      "|Excellent speech from @AminaJMohammed with calls for better #genderdata and funding for women's organisations! 👏 from @Equal2030! #COVID19  via @reliefweb                                                                                                         |\n",
      "|RT @glug: 📢Coming up at 13.05 at the Future of Gaming! 📢 Vungle’s Si Crowhurst discusses how Gaming platforms have the power to distribute and amplify public health messaging. Tune in!  #futureofgaming #glug #covid19                                          |\n",
      "|RT @SnteNacional: #SNTEsalud ⚕️                                                                                                                                                                                                                                     |\n",
      "|England's COVID-19 test and trace system begins as adviser row rumbles on | Article [AMP] | Reuters                                                                                                                                                                 |\n",
      "|RT @drjahanpur: مادران مبتلا به #COVID19 می توانند   کودک را با شیر مادر تغذیه کنند.                                                                                                                                                                                |\n",
      "|RT @ujcemadrid: La realidad de la crisis sanitaria del #covid19 contada desde dentro.                                                                                                                                                                               |\n",
      "+--------------------------------------------------------------------------------------------------------------------------------------------------------------------------------------------------------------------------------------------------------------------+\n",
      "only showing top 10 rows"
     ]
    }
   ],
   "source": [
    "df_tweets_without_linebreak.show(10, truncate=False)"
   ]
  },
  {
   "cell_type": "code",
   "execution_count": 29,
   "id": "47646a57-7070-4af5-8dd6-c7e5cd3651a3",
   "metadata": {
    "execution": {
     "iopub.execute_input": "2024-04-27T15:17:46.787840Z",
     "iopub.status.busy": "2024-04-27T15:17:46.787642Z",
     "iopub.status.idle": "2024-04-27T15:17:47.035424Z",
     "shell.execute_reply": "2024-04-27T15:17:47.034754Z",
     "shell.execute_reply.started": "2024-04-27T15:17:46.787816Z"
    },
    "tags": []
   },
   "outputs": [
    {
     "data": {
      "application/vnd.jupyter.widget-view+json": {
       "model_id": "64994939d4654348b960e1bee83a5d9e",
       "version_major": 2,
       "version_minor": 0
      },
      "text/plain": [
       "VBox()"
      ]
     },
     "metadata": {},
     "output_type": "display_data"
    },
    {
     "data": {
      "application/vnd.jupyter.widget-view+json": {
       "model_id": "",
       "version_major": 2,
       "version_minor": 0
      },
      "text/plain": [
       "FloatProgress(value=0.0, bar_style='info', description='Progress:', layout=Layout(height='25px', width='50%'),…"
      ]
     },
     "metadata": {},
     "output_type": "display_data"
    }
   ],
   "source": [
    "#filtering retweets\n",
    "df_cleaned_retweets1 = df_tweets_without_linebreak.withColumn('text', regexp_replace('text', '^RT @\\w+: ', ''))"
   ]
  },
  {
   "cell_type": "code",
   "execution_count": 30,
   "id": "374b51ce-5b74-46f1-93dd-f014c0c87087",
   "metadata": {
    "execution": {
     "iopub.execute_input": "2024-04-27T15:17:47.036622Z",
     "iopub.status.busy": "2024-04-27T15:17:47.036448Z",
     "iopub.status.idle": "2024-04-27T15:18:54.498547Z",
     "shell.execute_reply": "2024-04-27T15:18:54.497925Z",
     "shell.execute_reply.started": "2024-04-27T15:17:47.036600Z"
    },
    "tags": []
   },
   "outputs": [
    {
     "data": {
      "application/vnd.jupyter.widget-view+json": {
       "model_id": "12ad41a2fa774bd292a483417475838b",
       "version_major": 2,
       "version_minor": 0
      },
      "text/plain": [
       "VBox()"
      ]
     },
     "metadata": {},
     "output_type": "display_data"
    },
    {
     "data": {
      "application/vnd.jupyter.widget-view+json": {
       "model_id": "",
       "version_major": 2,
       "version_minor": 0
      },
      "text/plain": [
       "FloatProgress(value=0.0, bar_style='info', description='Progress:', layout=Layout(height='25px', width='50%'),…"
      ]
     },
     "metadata": {},
     "output_type": "display_data"
    },
    {
     "name": "stdout",
     "output_type": "stream",
     "text": [
      "+------------------------------------------------------------------------------------------------------------------------------------------------------------------------------------------------------------------------------------+\n",
      "|text                                                                                                                                                                                                                                |\n",
      "+------------------------------------------------------------------------------------------------------------------------------------------------------------------------------------------------------------------------------------+\n",
      "|Ikuti sidang media oleh Ketua Pengarah Kesihatan, Datuk Dr @DGHisham berkenaan perkembangan terkini penularan wabak #COVID19 di negara ini.                                                                                         |\n",
      "|¡BASTA YA!                                                                                                                                                                                                                          |\n",
      "|#COVID19 ☣️                                                                                                                                                                                                                         |\n",
      "|ม.3/ม.6/ปวช./ปวส./ป.ตรี ขึ้นไป                                                                                                                                                                                                      |\n",
      "|\"Une blague:  les garagistes doivent attendrent 2 h avant de pouvoir toucher la voiture d un client pour laisser \"\" partir \"\" le #COVID19 et les enfants retournent a l #ecoles ? A quel moment on arrête de faire n importe quoi ?\"|\n",
      "|🇩🇰 Minister for Foreign Affairs @JeppeKofod showing the importance of multilateralism and global solidarity during #COVID19 pandemic together with over 50 other FMs by signing the declaration from #AllianceForMultilateralism  |\n",
      "|\"\"\"If we have social distancing rules in place                                                                                                                                                                                      |\n",
      "|Its serious..Very Very serious                                                                                                                                                                                                      |\n",
      "|\"RT @LiveLawIndia: Supreme Court is hearing its suo moto issue pertaining to \"\"Extension of Limitation\"\" for purposes of all filings due to the #COVID19 induced #lockdown.                                                         |\n",
      "|#COVID19. Cierre oficinas Seguridad Social. Infórmate desde tu domicilio sin desplazarte, a través de nuestros canales:                                                                                                             |\n",
      "+------------------------------------------------------------------------------------------------------------------------------------------------------------------------------------------------------------------------------------+\n",
      "only showing top 10 rows"
     ]
    }
   ],
   "source": [
    "df_cleaned_retweets1.show(10, truncate=False)"
   ]
  },
  {
   "cell_type": "code",
   "execution_count": 31,
   "id": "1d59ed37-d7f9-45ff-b380-79915a35b2df",
   "metadata": {
    "execution": {
     "iopub.execute_input": "2024-04-27T15:18:54.501436Z",
     "iopub.status.busy": "2024-04-27T15:18:54.501269Z",
     "iopub.status.idle": "2024-04-27T15:19:57.950201Z",
     "shell.execute_reply": "2024-04-27T15:19:57.949399Z",
     "shell.execute_reply.started": "2024-04-27T15:18:54.501414Z"
    },
    "tags": []
   },
   "outputs": [
    {
     "data": {
      "application/vnd.jupyter.widget-view+json": {
       "model_id": "e01c06bb540d49dca4dab25ae235cfea",
       "version_major": 2,
       "version_minor": 0
      },
      "text/plain": [
       "VBox()"
      ]
     },
     "metadata": {},
     "output_type": "display_data"
    },
    {
     "data": {
      "application/vnd.jupyter.widget-view+json": {
       "model_id": "",
       "version_major": 2,
       "version_minor": 0
      },
      "text/plain": [
       "FloatProgress(value=0.0, bar_style='info', description='Progress:', layout=Layout(height='25px', width='50%'),…"
      ]
     },
     "metadata": {},
     "output_type": "display_data"
    },
    {
     "name": "stdout",
     "output_type": "stream",
     "text": [
      "6089506"
     ]
    }
   ],
   "source": [
    "df_cleaned_retweets1.count()"
   ]
  },
  {
   "cell_type": "code",
   "execution_count": 32,
   "id": "5d5848da-cb41-4892-8e32-fb8440efdc92",
   "metadata": {
    "execution": {
     "iopub.execute_input": "2024-04-27T15:19:57.951846Z",
     "iopub.status.busy": "2024-04-27T15:19:57.951656Z",
     "iopub.status.idle": "2024-04-27T15:19:57.998625Z",
     "shell.execute_reply": "2024-04-27T15:19:57.998056Z",
     "shell.execute_reply.started": "2024-04-27T15:19:57.951821Z"
    },
    "tags": []
   },
   "outputs": [
    {
     "data": {
      "application/vnd.jupyter.widget-view+json": {
       "model_id": "ac97a698e06345cabcede6307450bd00",
       "version_major": 2,
       "version_minor": 0
      },
      "text/plain": [
       "VBox()"
      ]
     },
     "metadata": {},
     "output_type": "display_data"
    },
    {
     "data": {
      "application/vnd.jupyter.widget-view+json": {
       "model_id": "",
       "version_major": 2,
       "version_minor": 0
      },
      "text/plain": [
       "FloatProgress(value=0.0, bar_style='info', description='Progress:', layout=Layout(height='25px', width='50%'),…"
      ]
     },
     "metadata": {},
     "output_type": "display_data"
    }
   ],
   "source": [
    "#now that the RT @username part has been removed, if there are any suplicates they will be removed in this step\n",
    "df_cleaned_retweets2 = df_cleaned_retweets1.dropDuplicates()"
   ]
  },
  {
   "cell_type": "code",
   "execution_count": 33,
   "id": "2f3b57c8-31c0-4c8d-9c64-44b9a4c87c46",
   "metadata": {
    "execution": {
     "iopub.execute_input": "2024-04-27T15:19:57.999940Z",
     "iopub.status.busy": "2024-04-27T15:19:57.999694Z",
     "iopub.status.idle": "2024-04-27T15:21:05.499979Z",
     "shell.execute_reply": "2024-04-27T15:21:05.499233Z",
     "shell.execute_reply.started": "2024-04-27T15:19:57.999904Z"
    },
    "tags": []
   },
   "outputs": [
    {
     "data": {
      "application/vnd.jupyter.widget-view+json": {
       "model_id": "bd545a1ab0ee4312b1531dfe1f5af774",
       "version_major": 2,
       "version_minor": 0
      },
      "text/plain": [
       "VBox()"
      ]
     },
     "metadata": {},
     "output_type": "display_data"
    },
    {
     "data": {
      "application/vnd.jupyter.widget-view+json": {
       "model_id": "",
       "version_major": 2,
       "version_minor": 0
      },
      "text/plain": [
       "FloatProgress(value=0.0, bar_style='info', description='Progress:', layout=Layout(height='25px', width='50%'),…"
      ]
     },
     "metadata": {},
     "output_type": "display_data"
    },
    {
     "name": "stdout",
     "output_type": "stream",
     "text": [
      "5392617"
     ]
    }
   ],
   "source": [
    "df_cleaned_retweets2.count()"
   ]
  },
  {
   "cell_type": "code",
   "execution_count": 34,
   "id": "e9fbbbb4-77ba-49d6-8a4a-aaa681dd228b",
   "metadata": {
    "execution": {
     "iopub.execute_input": "2024-04-27T15:21:05.501089Z",
     "iopub.status.busy": "2024-04-27T15:21:05.500916Z",
     "iopub.status.idle": "2024-04-27T15:22:10.963212Z",
     "shell.execute_reply": "2024-04-27T15:22:10.962516Z",
     "shell.execute_reply.started": "2024-04-27T15:21:05.501067Z"
    },
    "tags": []
   },
   "outputs": [
    {
     "data": {
      "application/vnd.jupyter.widget-view+json": {
       "model_id": "7feeffc02e0b452b832acd791ca0496e",
       "version_major": 2,
       "version_minor": 0
      },
      "text/plain": [
       "VBox()"
      ]
     },
     "metadata": {},
     "output_type": "display_data"
    },
    {
     "data": {
      "application/vnd.jupyter.widget-view+json": {
       "model_id": "",
       "version_major": 2,
       "version_minor": 0
      },
      "text/plain": [
       "FloatProgress(value=0.0, bar_style='info', description='Progress:', layout=Layout(height='25px', width='50%'),…"
      ]
     },
     "metadata": {},
     "output_type": "display_data"
    },
    {
     "name": "stdout",
     "output_type": "stream",
     "text": [
      "+------------------------------------------------------------------------------------------------------------------------------------------------------------------------------------------------------------------------------------------------------------------------------------------+\n",
      "|text                                                                                                                                                                                                                                                                                      |\n",
      "+------------------------------------------------------------------------------------------------------------------------------------------------------------------------------------------------------------------------------------------------------------------------------------------+\n",
      "|The Trump admin forbids NY to use its #JavitzCenter 1,000-bed field hospital for #COVID19 but would NOT forbid U.S. manufacturers of precious N-95 masks and ventilators from selling them to other countries.   Let that soak in.                                                        |\n",
      "|COVID-19: Guidelines on managing the critically ill. Dr @jaeschke3 talks to SSC lead author Dr @AlhazzaniW to review in detail infection control and testing:                                                                                                                             |\n",
      "|⏰ Deadline alert ⏰ Contribute to NEMO's survey on the effects of #COVID19 on the #museum sector in #Europe by tomorrow (Friday 3 April). The more data we gather, the more impact will the outcome have.                                                                                  |\n",
      "|@Acyn Because test snafus have forced testing to be rationed, only a subset of those patients with clear #COVID19 symptoms are allowed to be tested.                                                                                                                                      |\n",
      "|Gov. Abbott’s Executive Order Creates Consistent Rules Statewide  #COVID19                                                                                                                                                                                                                |\n",
      "|#FidelVive #Cuba 🏝️🇨🇺 @LorezFrank Anoche, desde la terraza de mi casa, junto a mi familia y en perfecta sinfonía, aplaudimos a todos los que luchan por enfrentar y destruir al #COVID19. Una vecina emocionada grito: ¡Viva #Fidel c......! La palabrota de #Almeida en #AlegriaDePio |\n",
      "|Check out this timelapse of @NHNationalGuard members setting up an alternate care site on the campus of the @UofNH in Durham on March 26.                                                                                                                                                 |\n",
      "|Holyoke Corona Nightmare: 13 veterans dead of #COVID19, at least 7 staff infected in VA Home outbreak that management had kept secret for almost a month. Dead placed in refrigerated storage truck. Workers disciplined for wearing protective equipment.                                |\n",
      "|[𝗘𝗡 𝗩𝗜𝗩𝗢] 🔴 |En #HoyMismo #AlDía, Región Metropolitana de Salud de Francisco Morazán, capacita a personal que trabaja en funerarias sobre el manejo de fallecidos por #COVID19.                                                                                                    |\n",
      "|Governor Lee’s earlier Safe at Home prior order was a request. This order makes it mandatory. #COVID19 #StayHome                                                                                                                                                                          |\n",
      "+------------------------------------------------------------------------------------------------------------------------------------------------------------------------------------------------------------------------------------------------------------------------------------------+\n",
      "only showing top 10 rows"
     ]
    }
   ],
   "source": [
    "#we have now 5.39 million tweets\n",
    "df_cleaned_retweets2.show(10, truncate=False)"
   ]
  },
  {
   "cell_type": "code",
   "execution_count": 35,
   "id": "8ad75fa6-77da-419d-8569-5173fb86807d",
   "metadata": {
    "execution": {
     "iopub.execute_input": "2024-04-27T15:22:10.964564Z",
     "iopub.status.busy": "2024-04-27T15:22:10.964315Z",
     "iopub.status.idle": "2024-04-27T15:22:11.013379Z",
     "shell.execute_reply": "2024-04-27T15:22:11.012735Z",
     "shell.execute_reply.started": "2024-04-27T15:22:10.964528Z"
    },
    "tags": []
   },
   "outputs": [
    {
     "data": {
      "application/vnd.jupyter.widget-view+json": {
       "model_id": "85f81d1887dc41709e392ba34915d97b",
       "version_major": 2,
       "version_minor": 0
      },
      "text/plain": [
       "VBox()"
      ]
     },
     "metadata": {},
     "output_type": "display_data"
    },
    {
     "data": {
      "application/vnd.jupyter.widget-view+json": {
       "model_id": "",
       "version_major": 2,
       "version_minor": 0
      },
      "text/plain": [
       "FloatProgress(value=0.0, bar_style='info', description='Progress:', layout=Layout(height='25px', width='50%'),…"
      ]
     },
     "metadata": {},
     "output_type": "display_data"
    }
   ],
   "source": [
    "#renaming the text column with tweets\n",
    "df_cleaned_retweets2=df_cleaned_retweets2.withColumnRenamed('text','tweets')"
   ]
  },
  {
   "cell_type": "code",
   "execution_count": 36,
   "id": "19e4d339-0f35-4afc-85f3-94dad3945f98",
   "metadata": {
    "execution": {
     "iopub.execute_input": "2024-04-27T15:22:11.014514Z",
     "iopub.status.busy": "2024-04-27T15:22:11.014348Z",
     "iopub.status.idle": "2024-04-27T15:23:10.464821Z",
     "shell.execute_reply": "2024-04-27T15:23:10.463923Z",
     "shell.execute_reply.started": "2024-04-27T15:22:11.014493Z"
    },
    "tags": []
   },
   "outputs": [
    {
     "data": {
      "application/vnd.jupyter.widget-view+json": {
       "model_id": "283b0574b17849159c78c5c6e0f33a45",
       "version_major": 2,
       "version_minor": 0
      },
      "text/plain": [
       "VBox()"
      ]
     },
     "metadata": {},
     "output_type": "display_data"
    },
    {
     "data": {
      "application/vnd.jupyter.widget-view+json": {
       "model_id": "",
       "version_major": 2,
       "version_minor": 0
      },
      "text/plain": [
       "FloatProgress(value=0.0, bar_style='info', description='Progress:', layout=Layout(height='25px', width='50%'),…"
      ]
     },
     "metadata": {},
     "output_type": "display_data"
    },
    {
     "name": "stdout",
     "output_type": "stream",
     "text": [
      "5392617"
     ]
    }
   ],
   "source": [
    "df_cleaned_retweets2.count()"
   ]
  },
  {
   "cell_type": "code",
   "execution_count": 37,
   "id": "fa7d7984-e667-471c-b457-c3293f3e2ace",
   "metadata": {
    "execution": {
     "iopub.execute_input": "2024-04-27T15:23:10.466679Z",
     "iopub.status.busy": "2024-04-27T15:23:10.466196Z",
     "iopub.status.idle": "2024-04-27T15:24:11.966101Z",
     "shell.execute_reply": "2024-04-27T15:24:11.965466Z",
     "shell.execute_reply.started": "2024-04-27T15:23:10.466639Z"
    },
    "tags": []
   },
   "outputs": [
    {
     "data": {
      "application/vnd.jupyter.widget-view+json": {
       "model_id": "4726c901fb84476ebc87e6bd636c91e5",
       "version_major": 2,
       "version_minor": 0
      },
      "text/plain": [
       "VBox()"
      ]
     },
     "metadata": {},
     "output_type": "display_data"
    },
    {
     "data": {
      "application/vnd.jupyter.widget-view+json": {
       "model_id": "",
       "version_major": 2,
       "version_minor": 0
      },
      "text/plain": [
       "FloatProgress(value=0.0, bar_style='info', description='Progress:', layout=Layout(height='25px', width='50%'),…"
      ]
     },
     "metadata": {},
     "output_type": "display_data"
    },
    {
     "name": "stdout",
     "output_type": "stream",
     "text": [
      "+---------------------------------------------------------------------------------------------------------------------------------------------------------------------------------------------------------------------------------------------------------------------------------------+\n",
      "|tweets                                                                                                                                                                                                                                                                                 |\n",
      "+---------------------------------------------------------------------------------------------------------------------------------------------------------------------------------------------------------------------------------------------------------------------------------------+\n",
      "|Europa debe estar a la altura, proteger a su ciudadanía. Con el #EUCO de hoy se inicia una dinámica de negociación para alcanzar un acuerdo. Desde España, seguiremos defendiendo una respuesta europea frente al #COVID19 contundente, única y acorde con el desafío que enfrentamos. |\n",
      "|Peter Brookes on #BorisJohnson  #Facemasks #Trump #KeirStarmer #Coronavirus #SocialDistancing #SocialDistancinguk #COVID19  #selfisolating #CoronavirusPandemic - political cartoon gallery in London                                                                                  |\n",
      "|2020-04-24 15:23:24                                                                                                                                                                                                                                                                    |\n",
      "|2020-04-24 15:20:09                                                                                                                                                                                                                                                                    |\n",
      "|2020-04-24 15:13:57                                                                                                                                                                                                                                                                    |\n",
      "|Des histoires pour #enfants inédites imaginées par #ChristinePompéï et illustrées par une palette d'artistes romands:                                                                                                                                                                  |\n",
      "|Scientists at @UniFAU are working on a #Vaccine against #Covid19  #Coronavirus #Pharmacy #Virology                                                                                                                                                                                     |\n",
      "|Sto leggendo tante interviste rilasciate da medici. Non c'è n'è uno che, in merito al #COVID19, parli di vaccino...gli unici che ne parlano sono Burioni, Ricciardi, Lo Palco e Zingaretti, che medico non è...🤔                                                                      |\n",
      "|We worked with @Fmohnigeria Dept. of Family Health to develop 2 new guidelines in the context of #COVID19:                                                                                                                                                                             |\n",
      "|What are you doing to stop the spread of #covıd19  ?                                                                                                                                                                                                                                   |\n",
      "+---------------------------------------------------------------------------------------------------------------------------------------------------------------------------------------------------------------------------------------------------------------------------------------+\n",
      "only showing top 10 rows"
     ]
    }
   ],
   "source": [
    "df_cleaned_retweets2.show(10, truncate=False)"
   ]
  },
  {
   "cell_type": "code",
   "execution_count": 38,
   "id": "26600460-5e0c-4c52-8b17-344225e075f0",
   "metadata": {
    "execution": {
     "iopub.execute_input": "2024-04-27T15:24:11.967225Z",
     "iopub.status.busy": "2024-04-27T15:24:11.967050Z",
     "iopub.status.idle": "2024-04-27T15:24:12.010994Z",
     "shell.execute_reply": "2024-04-27T15:24:12.010414Z",
     "shell.execute_reply.started": "2024-04-27T15:24:11.967202Z"
    },
    "tags": []
   },
   "outputs": [
    {
     "data": {
      "application/vnd.jupyter.widget-view+json": {
       "model_id": "a7a4d1aa55a84280bcda32fa3f7a13c6",
       "version_major": 2,
       "version_minor": 0
      },
      "text/plain": [
       "VBox()"
      ]
     },
     "metadata": {},
     "output_type": "display_data"
    },
    {
     "data": {
      "application/vnd.jupyter.widget-view+json": {
       "model_id": "",
       "version_major": 2,
       "version_minor": 0
      },
      "text/plain": [
       "FloatProgress(value=0.0, bar_style='info', description='Progress:', layout=Layout(height='25px', width='50%'),…"
      ]
     },
     "metadata": {},
     "output_type": "display_data"
    }
   ],
   "source": [
    "from pyspark.sql.functions import lower\n",
    "\n",
    "#converting every row in lowercase\n",
    "df_lowercased=df_cleaned_retweets2.withColumn('tweets', lower('tweets'))"
   ]
  },
  {
   "cell_type": "code",
   "execution_count": 39,
   "id": "4f56e063-1946-4862-9ec6-79ec66e00100",
   "metadata": {
    "execution": {
     "iopub.execute_input": "2024-04-27T15:24:12.012311Z",
     "iopub.status.busy": "2024-04-27T15:24:12.012049Z",
     "iopub.status.idle": "2024-04-27T15:25:17.471339Z",
     "shell.execute_reply": "2024-04-27T15:25:17.470610Z",
     "shell.execute_reply.started": "2024-04-27T15:24:12.012275Z"
    },
    "tags": []
   },
   "outputs": [
    {
     "data": {
      "application/vnd.jupyter.widget-view+json": {
       "model_id": "2e6befa6c18443d28b3b0ccbb7603bc2",
       "version_major": 2,
       "version_minor": 0
      },
      "text/plain": [
       "VBox()"
      ]
     },
     "metadata": {},
     "output_type": "display_data"
    },
    {
     "data": {
      "application/vnd.jupyter.widget-view+json": {
       "model_id": "",
       "version_major": 2,
       "version_minor": 0
      },
      "text/plain": [
       "FloatProgress(value=0.0, bar_style='info', description='Progress:', layout=Layout(height='25px', width='50%'),…"
      ]
     },
     "metadata": {},
     "output_type": "display_data"
    },
    {
     "name": "stdout",
     "output_type": "stream",
     "text": [
      "+------------------------------------------------------------------------------------------------------------------------------------------------------------------------------------------------------------------------------------------------------------------------------------------------+\n",
      "|tweets                                                                                                                                                                                                                                                                                          |\n",
      "+------------------------------------------------------------------------------------------------------------------------------------------------------------------------------------------------------------------------------------------------------------------------------------------------+\n",
      "|ever heard #oralpidgin before? it's the beginning of a trend. first of its kind.                                                                                                                                                                                                                |\n",
      "|@jgproduct @tfblockchain @dseg10 this interview on #vcs and #angelinvesting during #covid19 w/ @dseg10 was recorded for our podcast. take a listen here:                                                                                                                                        |\n",
      "|the snow couldn't stop people protesting the lockdown in toronto today - - 📹 @hectoravasquez #toronto #queenspark #endthelockdown #coronavirus #covid19 #covidtoronto                                                                                                                          |\n",
      "|how do #esg and sustainability fare in 'the new normal'? join our experts in this webinar to discuss the impacts of #covid19 on the esg, corporate sustainability and sustainable finance markets.                                                                                              |\n",
      "|reading about the various outbursts of protest, it struck me that some of the people defying the rules of #covid19  self-isolation are undoubtedly the same people who have been self-isolating from facts and reality for quite a long while now. #venndiagram                                 |\n",
      "|[#covid19 situation en #nouvelleaquitaine au 08/05]                                                                                                                                                                                                                                             |\n",
      "|today's award for best                                                                                                                                                                                                                                                                          |\n",
      "|@realdonaldtrump #covid19 #epictrumpfail #70daydeadlydelay #gop #trumpstockmarketcrash2020 #trumpunemployment #trumpfiredpandemicteam #coronavirus #vote2020                                                                                                                                    |\n",
      "|“the education needs of children w/disabilities is a top priority. we must ensure they - already vulnerable in armed conflicts, forced displacement &amp; natural disasters &amp; now also hit by #covid19 - enjoy their inherent right to education”~ecw's @grahamlang17 at expert roundtable. |\n",
      "|🗞️ el portal @alicanteplaza se hace eco de @second_victims desarrollada por @appandabout, empresa del #pcumh.                                                                                                                                                                                  |\n",
      "+------------------------------------------------------------------------------------------------------------------------------------------------------------------------------------------------------------------------------------------------------------------------------------------------+\n",
      "only showing top 10 rows"
     ]
    }
   ],
   "source": [
    "df_lowercased.show(10, truncate=False)"
   ]
  },
  {
   "cell_type": "code",
   "execution_count": 40,
   "id": "3d4b07b4-2faf-4841-b5a9-fc1abe768970",
   "metadata": {
    "execution": {
     "iopub.execute_input": "2024-04-27T15:25:17.472793Z",
     "iopub.status.busy": "2024-04-27T15:25:17.472541Z",
     "iopub.status.idle": "2024-04-27T15:25:17.517828Z",
     "shell.execute_reply": "2024-04-27T15:25:17.517231Z",
     "shell.execute_reply.started": "2024-04-27T15:25:17.472750Z"
    },
    "tags": []
   },
   "outputs": [
    {
     "data": {
      "application/vnd.jupyter.widget-view+json": {
       "model_id": "27cefd5bbc134dcfb023ce3bc5e63790",
       "version_major": 2,
       "version_minor": 0
      },
      "text/plain": [
       "VBox()"
      ]
     },
     "metadata": {},
     "output_type": "display_data"
    },
    {
     "data": {
      "application/vnd.jupyter.widget-view+json": {
       "model_id": "",
       "version_major": 2,
       "version_minor": 0
      },
      "text/plain": [
       "FloatProgress(value=0.0, bar_style='info', description='Progress:', layout=Layout(height='25px', width='50%'),…"
      ]
     },
     "metadata": {},
     "output_type": "display_data"
    }
   ],
   "source": [
    "df_without_specialcharacters = df_lowercased.withColumn('tweets', regexp_replace('tweets', '[^a-zA-Z0-9\\s]', ' '))"
   ]
  },
  {
   "cell_type": "code",
   "execution_count": 41,
   "id": "3a480914-b945-4bbe-ba52-6740566c1965",
   "metadata": {
    "execution": {
     "iopub.execute_input": "2024-04-27T15:25:17.518890Z",
     "iopub.status.busy": "2024-04-27T15:25:17.518722Z",
     "iopub.status.idle": "2024-04-27T15:26:22.981166Z",
     "shell.execute_reply": "2024-04-27T15:26:22.980447Z",
     "shell.execute_reply.started": "2024-04-27T15:25:17.518868Z"
    },
    "tags": []
   },
   "outputs": [
    {
     "data": {
      "application/vnd.jupyter.widget-view+json": {
       "model_id": "2489184362804477b50622497604b23e",
       "version_major": 2,
       "version_minor": 0
      },
      "text/plain": [
       "VBox()"
      ]
     },
     "metadata": {},
     "output_type": "display_data"
    },
    {
     "data": {
      "application/vnd.jupyter.widget-view+json": {
       "model_id": "",
       "version_major": 2,
       "version_minor": 0
      },
      "text/plain": [
       "FloatProgress(value=0.0, bar_style='info', description='Progress:', layout=Layout(height='25px', width='50%'),…"
      ]
     },
     "metadata": {},
     "output_type": "display_data"
    },
    {
     "name": "stdout",
     "output_type": "stream",
     "text": [
      "+---------------------------------------------------------------------------------------------------------------------------------------------------------------------------------------------------------------------------------------------------------------------------------------+\n",
      "|tweets                                                                                                                                                                                                                                                                                 |\n",
      "+---------------------------------------------------------------------------------------------------------------------------------------------------------------------------------------------------------------------------------------------------------------------------------------+\n",
      "|the trump admin forbids ny to use its  javitzcenter 1 000 bed field hospital for  covid19 but would not forbid u s  manufacturers of precious n 95 masks and ventilators from selling them to other countries    let that soak in                                                      |\n",
      "|covid 19  guidelines on managing the critically ill  dr  jaeschke3 talks to ssc lead author dr  alhazzaniw to review in detail infection control and testing                                                                                                                           |\n",
      "|  deadline alert   contribute to nemo s survey on the effects of  covid19 on the  museum sector in  europe by tomorrow  friday 3 april   the more data we gather  the more impact will the outcome have                                                                                |\n",
      "| acyn because test snafus have forced testing to be rationed  only a subset of those patients with clear  covid19 symptoms are allowed to be tested                                                                                                                                    |\n",
      "|gov  abbott s executive order creates consistent rules statewide   covid19                                                                                                                                                                                                             |\n",
      "| fidelvive  cuba       lorezfrank anoche  desde la terraza de mi casa  junto a mi familia y en perfecta sinfon a  aplaudimos a todos los que luchan por enfrentar y destruir al  covid19  una vecina emocionada grito   viva  fidel c        la palabrota de  almeida en  alegriadepio |\n",
      "|check out this timelapse of  nhnationalguard members setting up an alternate care site on the campus of the  uofnh in durham on march 26                                                                                                                                               |\n",
      "|holyoke corona nightmare  13 veterans dead of  covid19  at least 7 staff infected in va home outbreak that management had kept secret for almost a month  dead placed in refrigerated storage truck  workers disciplined for wearing protective equipment                              |\n",
      "|             en  hoymismo  ald a  regi n metropolitana de salud de francisco moraz n  capacita a personal que trabaja en funerarias sobre el manejo de fallecidos por  covid19                                                                                                         |\n",
      "|governor lee s earlier safe at home prior order was a request  this order makes it mandatory   covid19  stayhome                                                                                                                                                                       |\n",
      "+---------------------------------------------------------------------------------------------------------------------------------------------------------------------------------------------------------------------------------------------------------------------------------------+\n",
      "only showing top 10 rows"
     ]
    }
   ],
   "source": [
    "df_without_specialcharacters.show(10, truncate=False)"
   ]
  },
  {
   "cell_type": "code",
   "execution_count": 42,
   "id": "469eb293-7168-461a-8656-8273e490999a",
   "metadata": {
    "execution": {
     "iopub.execute_input": "2024-04-27T15:26:22.982599Z",
     "iopub.status.busy": "2024-04-27T15:26:22.982325Z",
     "iopub.status.idle": "2024-04-27T15:26:23.025201Z",
     "shell.execute_reply": "2024-04-27T15:26:23.024637Z",
     "shell.execute_reply.started": "2024-04-27T15:26:22.982561Z"
    },
    "tags": []
   },
   "outputs": [
    {
     "data": {
      "application/vnd.jupyter.widget-view+json": {
       "model_id": "5d1e9ae482ad40bcbcf4b8230bcabb3b",
       "version_major": 2,
       "version_minor": 0
      },
      "text/plain": [
       "VBox()"
      ]
     },
     "metadata": {},
     "output_type": "display_data"
    },
    {
     "data": {
      "application/vnd.jupyter.widget-view+json": {
       "model_id": "",
       "version_major": 2,
       "version_minor": 0
      },
      "text/plain": [
       "FloatProgress(value=0.0, bar_style='info', description='Progress:', layout=Layout(height='25px', width='50%'),…"
      ]
     },
     "metadata": {},
     "output_type": "display_data"
    }
   ],
   "source": [
    "#now removing stopwords"
   ]
  },
  {
   "cell_type": "code",
   "execution_count": 43,
   "id": "7f403cd5-efec-48bf-be15-916a44ace439",
   "metadata": {
    "execution": {
     "iopub.execute_input": "2024-04-27T15:26:23.026574Z",
     "iopub.status.busy": "2024-04-27T15:26:23.026336Z",
     "iopub.status.idle": "2024-04-27T15:26:23.073848Z",
     "shell.execute_reply": "2024-04-27T15:26:23.073133Z",
     "shell.execute_reply.started": "2024-04-27T15:26:23.026540Z"
    },
    "tags": []
   },
   "outputs": [
    {
     "data": {
      "application/vnd.jupyter.widget-view+json": {
       "model_id": "0acde70eebf04538a3e98e50f576deea",
       "version_major": 2,
       "version_minor": 0
      },
      "text/plain": [
       "VBox()"
      ]
     },
     "metadata": {},
     "output_type": "display_data"
    },
    {
     "data": {
      "application/vnd.jupyter.widget-view+json": {
       "model_id": "",
       "version_major": 2,
       "version_minor": 0
      },
      "text/plain": [
       "FloatProgress(value=0.0, bar_style='info', description='Progress:', layout=Layout(height='25px', width='50%'),…"
      ]
     },
     "metadata": {},
     "output_type": "display_data"
    }
   ],
   "source": [
    "stop_words = ['a', 'an', 'the', 'and', 'or', 'but', 'if', 'is', 'it', 'of', 'on', 'in', 'to', 'for', 'with', 'as', 'at', 'by', 'from', 'that', 'this', 'these', 'those', 'then', 'there', 'when', 'where', 'how', 'why']"
   ]
  },
  {
   "cell_type": "code",
   "execution_count": 44,
   "id": "1ccb7da7-e358-4816-887d-5286474d0406",
   "metadata": {
    "execution": {
     "iopub.execute_input": "2024-04-27T15:26:23.075042Z",
     "iopub.status.busy": "2024-04-27T15:26:23.074871Z",
     "iopub.status.idle": "2024-04-27T15:26:23.121248Z",
     "shell.execute_reply": "2024-04-27T15:26:23.120593Z",
     "shell.execute_reply.started": "2024-04-27T15:26:23.075020Z"
    },
    "tags": []
   },
   "outputs": [
    {
     "data": {
      "application/vnd.jupyter.widget-view+json": {
       "model_id": "d11cf5f0e4c543f185582479942b0475",
       "version_major": 2,
       "version_minor": 0
      },
      "text/plain": [
       "VBox()"
      ]
     },
     "metadata": {},
     "output_type": "display_data"
    },
    {
     "data": {
      "application/vnd.jupyter.widget-view+json": {
       "model_id": "",
       "version_major": 2,
       "version_minor": 0
      },
      "text/plain": [
       "FloatProgress(value=0.0, bar_style='info', description='Progress:', layout=Layout(height='25px', width='50%'),…"
      ]
     },
     "metadata": {},
     "output_type": "display_data"
    }
   ],
   "source": [
    "from pyspark.sql.functions import udf\n",
    "from pyspark.sql.types import StringType\n",
    "\n",
    "def remove_stopwords(text):\n",
    "    words = text.split()\n",
    "    filtered_words = [word for word in words if word.lower() not in stop_words]\n",
    "    return ' '.join(filtered_words)\n",
    "\n",
    "remove_stopwords_udf = udf(remove_stopwords, StringType())"
   ]
  },
  {
   "cell_type": "code",
   "execution_count": 45,
   "id": "4fed822e-bd3d-4725-94e7-71eb40dcae04",
   "metadata": {
    "execution": {
     "iopub.execute_input": "2024-04-27T15:26:23.122632Z",
     "iopub.status.busy": "2024-04-27T15:26:23.122390Z",
     "iopub.status.idle": "2024-04-27T15:26:23.377298Z",
     "shell.execute_reply": "2024-04-27T15:26:23.376676Z",
     "shell.execute_reply.started": "2024-04-27T15:26:23.122597Z"
    },
    "tags": []
   },
   "outputs": [
    {
     "data": {
      "application/vnd.jupyter.widget-view+json": {
       "model_id": "0dad4f9aef954123b184fb26f4c70ec9",
       "version_major": 2,
       "version_minor": 0
      },
      "text/plain": [
       "VBox()"
      ]
     },
     "metadata": {},
     "output_type": "display_data"
    },
    {
     "data": {
      "application/vnd.jupyter.widget-view+json": {
       "model_id": "",
       "version_major": 2,
       "version_minor": 0
      },
      "text/plain": [
       "FloatProgress(value=0.0, bar_style='info', description='Progress:', layout=Layout(height='25px', width='50%'),…"
      ]
     },
     "metadata": {},
     "output_type": "display_data"
    }
   ],
   "source": [
    "df = df_without_specialcharacters.withColumn('filtered_text', remove_stopwords_udf(df_without_specialcharacters.tweets))"
   ]
  },
  {
   "cell_type": "code",
   "execution_count": 46,
   "id": "609c7d60-8aec-4992-b2b7-9855db7a0f84",
   "metadata": {
    "execution": {
     "iopub.execute_input": "2024-04-27T15:26:23.381869Z",
     "iopub.status.busy": "2024-04-27T15:26:23.381703Z",
     "iopub.status.idle": "2024-04-27T15:27:26.817384Z",
     "shell.execute_reply": "2024-04-27T15:27:26.816624Z",
     "shell.execute_reply.started": "2024-04-27T15:26:23.381848Z"
    },
    "tags": []
   },
   "outputs": [
    {
     "data": {
      "application/vnd.jupyter.widget-view+json": {
       "model_id": "1a340794ab1645718dde0b458274e675",
       "version_major": 2,
       "version_minor": 0
      },
      "text/plain": [
       "VBox()"
      ]
     },
     "metadata": {},
     "output_type": "display_data"
    },
    {
     "data": {
      "application/vnd.jupyter.widget-view+json": {
       "model_id": "",
       "version_major": 2,
       "version_minor": 0
      },
      "text/plain": [
       "FloatProgress(value=0.0, bar_style='info', description='Progress:', layout=Layout(height='25px', width='50%'),…"
      ]
     },
     "metadata": {},
     "output_type": "display_data"
    },
    {
     "name": "stdout",
     "output_type": "stream",
     "text": [
      "+-----------------------------------------------------------------------------------------------------------------------------------------------------------------------------------------------------------------------------------------------------------------+---------------------------------------------------------------------------------------------------------------------------------------------------------------------------------------------------------------------------------+\n",
      "|tweets                                                                                                                                                                                                                                                           |filtered_text                                                                                                                                                                                                                    |\n",
      "+-----------------------------------------------------------------------------------------------------------------------------------------------------------------------------------------------------------------------------------------------------------------+---------------------------------------------------------------------------------------------------------------------------------------------------------------------------------------------------------------------------------+\n",
      "| tech  newsflash 02 10 the fear index review   a nail biting  number crunching  big money mystery   technology  bot  news                                                                                                                                        |tech newsflash 02 10 fear index review nail biting number crunching big money mystery technology bot news                                                                                                                        |\n",
      "|daily podcast  mini water cooler  marry me  princess mononoke  yellowjackets  and more   news  podcast                                                                                                                                                           |daily podcast mini water cooler marry me princess mononoke yellowjackets more news podcast                                                                                                                                       |\n",
      "|robinson cole bankruptcy co chair talks expansion in phila   dela  and 2022 trends in restructuring   the legal intelligencer     chronlaw bankruptcy law news at    bankruptcylaw  news  law  attorney  lawyer                                                  |robinson cole bankruptcy co chair talks expansion phila dela 2022 trends restructuring legal intelligencer chronlaw bankruptcy law news bankruptcylaw news law attorney lawyer                                                   |\n",
      "| the investigation to find taylor involved reviewing multiple hours of surveillance video  interviewing witnesses  reviewing electronic records and analyzing ride share information  the release says      articlethursday  lasvegas  winner  slots  yahoo  news|investigation find taylor involved reviewing multiple hours surveillance video interviewing witnesses reviewing electronic records analyzing ride share information release says articlethursday lasvegas winner slots yahoo news|\n",
      "|steven soderbergh wants  guymax  screenings of magic mike 3  for maximum enjoyment   movies  news                                                                                                                                                                |steven soderbergh wants guymax screenings magic mike 3 maximum enjoyment movies news                                                                                                                                             |\n",
      "|jaguar health files for conditional fda approval of canine therapy canalevia  via seekingalpha  news  seekingalpha                                                                                                                                               |jaguar health files conditional fda approval canine therapy canalevia via seekingalpha news seekingalpha                                                                                                                         |\n",
      "|freedom photonics achieves milestone with semiconductor laser amplifier  read more    freedomphotonics  milestone  semiconductor  laser  amplifier  wave  optical  diodes  photonics  news                                                                       |freedom photonics achieves milestone semiconductor laser amplifier read more freedomphotonics milestone semiconductor laser amplifier wave optical diodes photonics news                                                         |\n",
      "|highly pathogenic avian influenza  hpai  confirmed in county fermanagh  northern ireland   agrifish   news 881                                                                                                                                                   |highly pathogenic avian influenza hpai confirmed county fermanagh northern ireland agrifish news 881                                                                                                                             |\n",
      "| 3d printing gases market demand  industry analysis and segments by 2030  browse report    3d printing gases market has been segregated on the basis of gas  technology  function  end user  and region   trending  covid19  news                                |3d printing gases market demand industry analysis segments 2030 browse report 3d printing gases market has been segregated basis gas technology function end user region trending covid19 news                                   |\n",
      "|thyssenkrupp q1 adjusted ebit increased to 378 million euros   earnings   news 922                                                                                                                                                                               |thyssenkrupp q1 adjusted ebit increased 378 million euros earnings news 922                                                                                                                                                      |\n",
      "+-----------------------------------------------------------------------------------------------------------------------------------------------------------------------------------------------------------------------------------------------------------------+---------------------------------------------------------------------------------------------------------------------------------------------------------------------------------------------------------------------------------+\n",
      "only showing top 10 rows"
     ]
    }
   ],
   "source": [
    "df.show(10, truncate=False)"
   ]
  },
  {
   "cell_type": "code",
   "execution_count": 47,
   "id": "5b7db412-1614-4a97-bbce-21282eb43fdb",
   "metadata": {
    "execution": {
     "iopub.execute_input": "2024-04-27T15:27:26.819513Z",
     "iopub.status.busy": "2024-04-27T15:27:26.819261Z",
     "iopub.status.idle": "2024-04-27T15:28:28.260449Z",
     "shell.execute_reply": "2024-04-27T15:28:28.259725Z",
     "shell.execute_reply.started": "2024-04-27T15:27:26.819476Z"
    },
    "tags": []
   },
   "outputs": [
    {
     "data": {
      "application/vnd.jupyter.widget-view+json": {
       "model_id": "7b2862d2f49943a68c271c24d473c3f9",
       "version_major": 2,
       "version_minor": 0
      },
      "text/plain": [
       "VBox()"
      ]
     },
     "metadata": {},
     "output_type": "display_data"
    },
    {
     "data": {
      "application/vnd.jupyter.widget-view+json": {
       "model_id": "",
       "version_major": 2,
       "version_minor": 0
      },
      "text/plain": [
       "FloatProgress(value=0.0, bar_style='info', description='Progress:', layout=Layout(height='25px', width='50%'),…"
      ]
     },
     "metadata": {},
     "output_type": "display_data"
    },
    {
     "name": "stdout",
     "output_type": "stream",
     "text": [
      "5392617"
     ]
    }
   ],
   "source": [
    "df.count()"
   ]
  },
  {
   "cell_type": "code",
   "execution_count": 48,
   "id": "fbd1ee35-c1f3-4378-b470-ace946b78a83",
   "metadata": {
    "execution": {
     "iopub.execute_input": "2024-04-27T15:28:28.261856Z",
     "iopub.status.busy": "2024-04-27T15:28:28.261607Z",
     "iopub.status.idle": "2024-04-27T15:28:28.509170Z",
     "shell.execute_reply": "2024-04-27T15:28:28.508512Z",
     "shell.execute_reply.started": "2024-04-27T15:28:28.261819Z"
    },
    "tags": []
   },
   "outputs": [
    {
     "data": {
      "application/vnd.jupyter.widget-view+json": {
       "model_id": "a4817b97fbce446b95ad21b56cd6ac7f",
       "version_major": 2,
       "version_minor": 0
      },
      "text/plain": [
       "VBox()"
      ]
     },
     "metadata": {},
     "output_type": "display_data"
    },
    {
     "data": {
      "application/vnd.jupyter.widget-view+json": {
       "model_id": "",
       "version_major": 2,
       "version_minor": 0
      },
      "text/plain": [
       "FloatProgress(value=0.0, bar_style='info', description='Progress:', layout=Layout(height='25px', width='50%'),…"
      ]
     },
     "metadata": {},
     "output_type": "display_data"
    }
   ],
   "source": [
    "tweets_without_stopwords=df.select(\"filtered_text\")"
   ]
  },
  {
   "cell_type": "code",
   "execution_count": 49,
   "id": "1b8e8a12-8248-49db-aaf6-43047d0ed86d",
   "metadata": {
    "execution": {
     "iopub.execute_input": "2024-04-27T15:28:28.510370Z",
     "iopub.status.busy": "2024-04-27T15:28:28.510194Z",
     "iopub.status.idle": "2024-04-27T15:29:37.960896Z",
     "shell.execute_reply": "2024-04-27T15:29:37.960142Z",
     "shell.execute_reply.started": "2024-04-27T15:28:28.510347Z"
    },
    "tags": []
   },
   "outputs": [
    {
     "data": {
      "application/vnd.jupyter.widget-view+json": {
       "model_id": "29d95b4f2f024ba0b2012c11cc8a8f72",
       "version_major": 2,
       "version_minor": 0
      },
      "text/plain": [
       "VBox()"
      ]
     },
     "metadata": {},
     "output_type": "display_data"
    },
    {
     "data": {
      "application/vnd.jupyter.widget-view+json": {
       "model_id": "",
       "version_major": 2,
       "version_minor": 0
      },
      "text/plain": [
       "FloatProgress(value=0.0, bar_style='info', description='Progress:', layout=Layout(height='25px', width='50%'),…"
      ]
     },
     "metadata": {},
     "output_type": "display_data"
    },
    {
     "name": "stdout",
     "output_type": "stream",
     "text": [
      "+---------------------------------------------------------------------------------------------------------------------------------------------------------------------------------------------------------------------------------------------------------------------+\n",
      "|filtered_text                                                                                                                                                                                                                                                        |\n",
      "+---------------------------------------------------------------------------------------------------------------------------------------------------------------------------------------------------------------------------------------------------------------------+\n",
      "|europa debe estar la altura proteger su ciudadan con el euco de hoy se inicia una din mica de negociaci n para alcanzar un acuerdo desde espa seguiremos defendiendo una respuesta europea frente al covid19 contundente nica y acorde con el desaf o que enfrentamos|\n",
      "|peter brookes borisjohnson facemasks trump keirstarmer coronavirus socialdistancing socialdistancinguk covid19 selfisolating coronaviruspandemic political cartoon gallery london                                                                                    |\n",
      "|2020 04 24 15 23 24                                                                                                                                                                                                                                                  |\n",
      "|2020 04 24 15 20 09                                                                                                                                                                                                                                                  |\n",
      "|2020 04 24 15 13 57                                                                                                                                                                                                                                                  |\n",
      "|des histoires pour enfants dites imagin es par christinepomp et illustr es par une palette d artistes romands                                                                                                                                                        |\n",
      "|scientists unifau are working vaccine against covid19 coronavirus pharmacy virology                                                                                                                                                                                  |\n",
      "|sto leggendo tante interviste rilasciate da medici non c n uno che merito al covid19 parli di vaccino gli unici che ne parlano sono burioni ricciardi lo palco e zingaretti che medico non                                                                           |\n",
      "|we worked fmohnigeria dept family health develop 2 new guidelines context covid19                                                                                                                                                                                    |\n",
      "|what are you doing stop spread cov d19                                                                                                                                                                                                                               |\n",
      "+---------------------------------------------------------------------------------------------------------------------------------------------------------------------------------------------------------------------------------------------------------------------+\n",
      "only showing top 10 rows"
     ]
    }
   ],
   "source": [
    "tweets_without_stopwords.show(10, truncate=False)"
   ]
  },
  {
   "cell_type": "code",
   "execution_count": 50,
   "id": "2eda89aa-24d3-4782-a5d3-29dde64a85d8",
   "metadata": {
    "execution": {
     "iopub.execute_input": "2024-04-27T15:29:37.962285Z",
     "iopub.status.busy": "2024-04-27T15:29:37.962034Z",
     "iopub.status.idle": "2024-04-27T15:31:03.451131Z",
     "shell.execute_reply": "2024-04-27T15:31:03.450473Z",
     "shell.execute_reply.started": "2024-04-27T15:29:37.962250Z"
    },
    "tags": []
   },
   "outputs": [
    {
     "data": {
      "application/vnd.jupyter.widget-view+json": {
       "model_id": "f95ad4255cf044a9a165eba093c571d0",
       "version_major": 2,
       "version_minor": 0
      },
      "text/plain": [
       "VBox()"
      ]
     },
     "metadata": {},
     "output_type": "display_data"
    },
    {
     "data": {
      "application/vnd.jupyter.widget-view+json": {
       "model_id": "",
       "version_major": 2,
       "version_minor": 0
      },
      "text/plain": [
       "FloatProgress(value=0.0, bar_style='info', description='Progress:', layout=Layout(height='25px', width='50%'),…"
      ]
     },
     "metadata": {},
     "output_type": "display_data"
    },
    {
     "name": "stderr",
     "output_type": "stream",
     "text": [
      "An error was encountered:\n",
      "An error occurred while calling o221.csv.\n",
      ": java.io.IOException: com.amazon.ws.emr.hadoop.fs.shaded.com.amazonaws.services.s3.model.AmazonS3Exception: All access to this object has been disabled (Service: Amazon S3; Status Code: 403; Error Code: AllAccessDisabled; Request ID: QQMQA9P5FGVQ9J79; S3 Extended Request ID: 3i16Ypb4fKdcLuYLR87LT96KKrrFi1qXzCwgicNr2Hg5xJcm1R59dHfUputZXkUpCQwKZNYIN28=; Proxy: null), S3 Extended Request ID: 3i16Ypb4fKdcLuYLR87LT96KKrrFi1qXzCwgicNr2Hg5xJcm1R59dHfUputZXkUpCQwKZNYIN28=\n",
      "\tat com.amazon.ws.emr.hadoop.fs.s3n.Jets3tNativeFileSystemStore.list(Jets3tNativeFileSystemStore.java:429)\n",
      "\tat com.amazon.ws.emr.hadoop.fs.s3n.Jets3tNativeFileSystemStore.isFolderUsingFolderObject(Jets3tNativeFileSystemStore.java:255)\n",
      "\tat com.amazon.ws.emr.hadoop.fs.s3n.Jets3tNativeFileSystemStore.isFolder(Jets3tNativeFileSystemStore.java:218)\n",
      "\tat com.amazon.ws.emr.hadoop.fs.s3n.S3NativeFileSystem.getFileStatus(S3NativeFileSystem.java:554)\n",
      "\tat org.apache.hadoop.fs.FileSystem.exists(FileSystem.java:1869)\n",
      "\tat com.amazon.ws.emr.hadoop.fs.EmrFileSystem.exists(EmrFileSystem.java:408)\n",
      "\tat org.apache.spark.sql.execution.datasources.InsertIntoHadoopFsRelationCommand.run(InsertIntoHadoopFsRelationCommand.scala:125)\n",
      "\tat org.apache.spark.sql.execution.command.DataWritingCommandExec.sideEffectResult$lzycompute(commands.scala:113)\n",
      "\tat org.apache.spark.sql.execution.command.DataWritingCommandExec.sideEffectResult(commands.scala:111)\n",
      "\tat org.apache.spark.sql.execution.command.DataWritingCommandExec.executeCollect(commands.scala:125)\n",
      "\tat org.apache.spark.sql.execution.adaptive.AdaptiveSparkPlanExec.$anonfun$executeCollect$1(AdaptiveSparkPlanExec.scala:520)\n",
      "\tat org.apache.spark.sql.execution.adaptive.AdaptiveSparkPlanExec.withFinalPlanUpdate(AdaptiveSparkPlanExec.scala:559)\n",
      "\tat org.apache.spark.sql.execution.adaptive.AdaptiveSparkPlanExec.executeCollect(AdaptiveSparkPlanExec.scala:520)\n",
      "\tat org.apache.spark.sql.execution.QueryExecution$$anonfun$eagerlyExecuteCommands$1.$anonfun$applyOrElse$1(QueryExecution.scala:113)\n",
      "\tat org.apache.spark.sql.catalyst.QueryPlanningTracker$.withTracker(QueryPlanningTracker.scala:108)\n",
      "\tat org.apache.spark.sql.execution.SQLExecution$.withTracker(SQLExecution.scala:255)\n",
      "\tat org.apache.spark.sql.execution.SQLExecution$.executeQuery$1(SQLExecution.scala:129)\n",
      "\tat org.apache.spark.sql.execution.SQLExecution$.$anonfun$withNewExecutionId$9(SQLExecution.scala:165)\n",
      "\tat org.apache.spark.sql.catalyst.QueryPlanningTracker$.withTracker(QueryPlanningTracker.scala:108)\n",
      "\tat org.apache.spark.sql.execution.SQLExecution$.withTracker(SQLExecution.scala:255)\n",
      "\tat org.apache.spark.sql.execution.SQLExecution$.$anonfun$withNewExecutionId$8(SQLExecution.scala:165)\n",
      "\tat org.apache.spark.sql.execution.SQLExecution$.withSQLConfPropagated(SQLExecution.scala:276)\n",
      "\tat org.apache.spark.sql.execution.SQLExecution$.$anonfun$withNewExecutionId$1(SQLExecution.scala:164)\n",
      "\tat org.apache.spark.sql.SparkSession.withActive(SparkSession.scala:900)\n",
      "\tat org.apache.spark.sql.execution.SQLExecution$.withNewExecutionId(SQLExecution.scala:70)\n",
      "\tat org.apache.spark.sql.execution.QueryExecution$$anonfun$eagerlyExecuteCommands$1.applyOrElse(QueryExecution.scala:110)\n",
      "\tat org.apache.spark.sql.execution.QueryExecution$$anonfun$eagerlyExecuteCommands$1.applyOrElse(QueryExecution.scala:101)\n",
      "\tat org.apache.spark.sql.catalyst.trees.TreeNode.$anonfun$transformDownWithPruning$1(TreeNode.scala:503)\n",
      "\tat org.apache.spark.sql.catalyst.trees.CurrentOrigin$.withOrigin(origin.scala:76)\n",
      "\tat org.apache.spark.sql.catalyst.trees.TreeNode.transformDownWithPruning(TreeNode.scala:503)\n",
      "\tat org.apache.spark.sql.catalyst.plans.logical.LogicalPlan.org$apache$spark$sql$catalyst$plans$logical$AnalysisHelper$$super$transformDownWithPruning(LogicalPlan.scala:33)\n",
      "\tat org.apache.spark.sql.catalyst.plans.logical.AnalysisHelper.transformDownWithPruning(AnalysisHelper.scala:267)\n",
      "\tat org.apache.spark.sql.catalyst.plans.logical.AnalysisHelper.transformDownWithPruning$(AnalysisHelper.scala:263)\n",
      "\tat org.apache.spark.sql.catalyst.plans.logical.LogicalPlan.transformDownWithPruning(LogicalPlan.scala:33)\n",
      "\tat org.apache.spark.sql.catalyst.plans.logical.LogicalPlan.transformDownWithPruning(LogicalPlan.scala:33)\n",
      "\tat org.apache.spark.sql.catalyst.trees.TreeNode.transformDown(TreeNode.scala:479)\n",
      "\tat org.apache.spark.sql.execution.QueryExecution.eagerlyExecuteCommands(QueryExecution.scala:101)\n",
      "\tat org.apache.spark.sql.execution.QueryExecution.commandExecuted$lzycompute(QueryExecution.scala:88)\n",
      "\tat org.apache.spark.sql.execution.QueryExecution.commandExecuted(QueryExecution.scala:86)\n",
      "\tat org.apache.spark.sql.execution.QueryExecution.assertCommandExecuted(QueryExecution.scala:151)\n",
      "\tat org.apache.spark.sql.DataFrameWriter.runCommand(DataFrameWriter.scala:859)\n",
      "\tat org.apache.spark.sql.DataFrameWriter.saveToV1Source(DataFrameWriter.scala:388)\n",
      "\tat org.apache.spark.sql.DataFrameWriter.saveInternal(DataFrameWriter.scala:361)\n",
      "\tat org.apache.spark.sql.DataFrameWriter.save(DataFrameWriter.scala:240)\n",
      "\tat org.apache.spark.sql.DataFrameWriter.csv(DataFrameWriter.scala:850)\n",
      "\tat java.base/jdk.internal.reflect.NativeMethodAccessorImpl.invoke0(Native Method)\n",
      "\tat java.base/jdk.internal.reflect.NativeMethodAccessorImpl.invoke(NativeMethodAccessorImpl.java:77)\n",
      "\tat java.base/jdk.internal.reflect.DelegatingMethodAccessorImpl.invoke(DelegatingMethodAccessorImpl.java:43)\n",
      "\tat java.base/java.lang.reflect.Method.invoke(Method.java:568)\n",
      "\tat py4j.reflection.MethodInvoker.invoke(MethodInvoker.java:244)\n",
      "\tat py4j.reflection.ReflectionEngine.invoke(ReflectionEngine.java:374)\n",
      "\tat py4j.Gateway.invoke(Gateway.java:282)\n",
      "\tat py4j.commands.AbstractCommand.invokeMethod(AbstractCommand.java:132)\n",
      "\tat py4j.commands.CallCommand.execute(CallCommand.java:79)\n",
      "\tat py4j.GatewayConnection.run(GatewayConnection.java:238)\n",
      "\tat java.base/java.lang.Thread.run(Thread.java:840)\n",
      "Caused by: com.amazon.ws.emr.hadoop.fs.shaded.com.amazonaws.services.s3.model.AmazonS3Exception: All access to this object has been disabled (Service: Amazon S3; Status Code: 403; Error Code: AllAccessDisabled; Request ID: QQMQA9P5FGVQ9J79; S3 Extended Request ID: 3i16Ypb4fKdcLuYLR87LT96KKrrFi1qXzCwgicNr2Hg5xJcm1R59dHfUputZXkUpCQwKZNYIN28=; Proxy: null), S3 Extended Request ID: 3i16Ypb4fKdcLuYLR87LT96KKrrFi1qXzCwgicNr2Hg5xJcm1R59dHfUputZXkUpCQwKZNYIN28=\n",
      "\tat com.amazon.ws.emr.hadoop.fs.shaded.com.amazonaws.http.AmazonHttpClient$RequestExecutor.handleErrorResponse(AmazonHttpClient.java:1879)\n",
      "\tat com.amazon.ws.emr.hadoop.fs.shaded.com.amazonaws.http.AmazonHttpClient$RequestExecutor.handleServiceErrorResponse(AmazonHttpClient.java:1418)\n",
      "\tat com.amazon.ws.emr.hadoop.fs.shaded.com.amazonaws.http.AmazonHttpClient$RequestExecutor.executeOneRequest(AmazonHttpClient.java:1387)\n",
      "\tat com.amazon.ws.emr.hadoop.fs.shaded.com.amazonaws.http.AmazonHttpClient$RequestExecutor.executeHelper(AmazonHttpClient.java:1157)\n",
      "\tat com.amazon.ws.emr.hadoop.fs.shaded.com.amazonaws.http.AmazonHttpClient$RequestExecutor.doExecute(AmazonHttpClient.java:814)\n",
      "\tat com.amazon.ws.emr.hadoop.fs.shaded.com.amazonaws.http.AmazonHttpClient$RequestExecutor.executeWithTimer(AmazonHttpClient.java:781)\n",
      "\tat com.amazon.ws.emr.hadoop.fs.shaded.com.amazonaws.http.AmazonHttpClient$RequestExecutor.execute(AmazonHttpClient.java:755)\n",
      "\tat com.amazon.ws.emr.hadoop.fs.shaded.com.amazonaws.http.AmazonHttpClient$RequestExecutor.access$500(AmazonHttpClient.java:715)\n",
      "\tat com.amazon.ws.emr.hadoop.fs.shaded.com.amazonaws.http.AmazonHttpClient$RequestExecutionBuilderImpl.execute(AmazonHttpClient.java:697)\n",
      "\tat com.amazon.ws.emr.hadoop.fs.shaded.com.amazonaws.http.AmazonHttpClient.execute(AmazonHttpClient.java:561)\n",
      "\tat com.amazon.ws.emr.hadoop.fs.shaded.com.amazonaws.http.AmazonHttpClient.execute(AmazonHttpClient.java:541)\n",
      "\tat com.amazon.ws.emr.hadoop.fs.shaded.com.amazonaws.services.s3.AmazonS3Client.invoke(AmazonS3Client.java:5520)\n",
      "\tat com.amazon.ws.emr.hadoop.fs.shaded.com.amazonaws.services.s3.AmazonS3Client.invoke(AmazonS3Client.java:5467)\n",
      "\tat com.amazon.ws.emr.hadoop.fs.shaded.com.amazonaws.services.s3.AmazonS3Client.listObjectsV2(AmazonS3Client.java:1001)\n",
      "\tat com.amazon.ws.emr.hadoop.fs.s3.lite.call.ListObjectsV2Call.perform(ListObjectsV2Call.java:26)\n",
      "\tat com.amazon.ws.emr.hadoop.fs.s3.lite.call.ListObjectsV2Call.perform(ListObjectsV2Call.java:12)\n",
      "\tat com.amazon.ws.emr.hadoop.fs.s3.lite.executor.GlobalS3Executor$CallPerformer.call(GlobalS3Executor.java:114)\n",
      "\tat com.amazon.ws.emr.hadoop.fs.s3.lite.executor.GlobalS3Executor.execute(GlobalS3Executor.java:141)\n",
      "\tat com.amazon.ws.emr.hadoop.fs.s3.lite.AmazonS3LiteClient.invoke(AmazonS3LiteClient.java:196)\n",
      "\tat com.amazon.ws.emr.hadoop.fs.s3.lite.AmazonS3LiteClient.invoke(AmazonS3LiteClient.java:191)\n",
      "\tat com.amazon.ws.emr.hadoop.fs.s3.lite.AmazonS3LiteClient.listObjectsV2(AmazonS3LiteClient.java:75)\n",
      "\tat com.amazon.ws.emr.hadoop.fs.s3n.Jets3tNativeFileSystemStore.list(Jets3tNativeFileSystemStore.java:420)\n",
      "\t... 55 more\n",
      "\n",
      "Traceback (most recent call last):\n",
      "  File \"/mnt/yarn/usercache/livy/appcache/application_1714218779802_0001/container_1714218779802_0001_01_000001/pyspark.zip/pyspark/sql/readwriter.py\", line 1864, in csv\n",
      "    self._jwrite.csv(path)\n",
      "  File \"/mnt/yarn/usercache/livy/appcache/application_1714218779802_0001/container_1714218779802_0001_01_000001/py4j-0.10.9.7-src.zip/py4j/java_gateway.py\", line 1322, in __call__\n",
      "    return_value = get_return_value(\n",
      "  File \"/mnt/yarn/usercache/livy/appcache/application_1714218779802_0001/container_1714218779802_0001_01_000001/pyspark.zip/pyspark/errors/exceptions/captured.py\", line 179, in deco\n",
      "    return f(*a, **kw)\n",
      "  File \"/mnt/yarn/usercache/livy/appcache/application_1714218779802_0001/container_1714218779802_0001_01_000001/py4j-0.10.9.7-src.zip/py4j/protocol.py\", line 326, in get_return_value\n",
      "    raise Py4JJavaError(\n",
      "py4j.protocol.Py4JJavaError: An error occurred while calling o221.csv.\n",
      ": java.io.IOException: com.amazon.ws.emr.hadoop.fs.shaded.com.amazonaws.services.s3.model.AmazonS3Exception: All access to this object has been disabled (Service: Amazon S3; Status Code: 403; Error Code: AllAccessDisabled; Request ID: QQMQA9P5FGVQ9J79; S3 Extended Request ID: 3i16Ypb4fKdcLuYLR87LT96KKrrFi1qXzCwgicNr2Hg5xJcm1R59dHfUputZXkUpCQwKZNYIN28=; Proxy: null), S3 Extended Request ID: 3i16Ypb4fKdcLuYLR87LT96KKrrFi1qXzCwgicNr2Hg5xJcm1R59dHfUputZXkUpCQwKZNYIN28=\n",
      "\tat com.amazon.ws.emr.hadoop.fs.s3n.Jets3tNativeFileSystemStore.list(Jets3tNativeFileSystemStore.java:429)\n",
      "\tat com.amazon.ws.emr.hadoop.fs.s3n.Jets3tNativeFileSystemStore.isFolderUsingFolderObject(Jets3tNativeFileSystemStore.java:255)\n",
      "\tat com.amazon.ws.emr.hadoop.fs.s3n.Jets3tNativeFileSystemStore.isFolder(Jets3tNativeFileSystemStore.java:218)\n",
      "\tat com.amazon.ws.emr.hadoop.fs.s3n.S3NativeFileSystem.getFileStatus(S3NativeFileSystem.java:554)\n",
      "\tat org.apache.hadoop.fs.FileSystem.exists(FileSystem.java:1869)\n",
      "\tat com.amazon.ws.emr.hadoop.fs.EmrFileSystem.exists(EmrFileSystem.java:408)\n",
      "\tat org.apache.spark.sql.execution.datasources.InsertIntoHadoopFsRelationCommand.run(InsertIntoHadoopFsRelationCommand.scala:125)\n",
      "\tat org.apache.spark.sql.execution.command.DataWritingCommandExec.sideEffectResult$lzycompute(commands.scala:113)\n",
      "\tat org.apache.spark.sql.execution.command.DataWritingCommandExec.sideEffectResult(commands.scala:111)\n",
      "\tat org.apache.spark.sql.execution.command.DataWritingCommandExec.executeCollect(commands.scala:125)\n",
      "\tat org.apache.spark.sql.execution.adaptive.AdaptiveSparkPlanExec.$anonfun$executeCollect$1(AdaptiveSparkPlanExec.scala:520)\n",
      "\tat org.apache.spark.sql.execution.adaptive.AdaptiveSparkPlanExec.withFinalPlanUpdate(AdaptiveSparkPlanExec.scala:559)\n",
      "\tat org.apache.spark.sql.execution.adaptive.AdaptiveSparkPlanExec.executeCollect(AdaptiveSparkPlanExec.scala:520)\n",
      "\tat org.apache.spark.sql.execution.QueryExecution$$anonfun$eagerlyExecuteCommands$1.$anonfun$applyOrElse$1(QueryExecution.scala:113)\n",
      "\tat org.apache.spark.sql.catalyst.QueryPlanningTracker$.withTracker(QueryPlanningTracker.scala:108)\n",
      "\tat org.apache.spark.sql.execution.SQLExecution$.withTracker(SQLExecution.scala:255)\n",
      "\tat org.apache.spark.sql.execution.SQLExecution$.executeQuery$1(SQLExecution.scala:129)\n",
      "\tat org.apache.spark.sql.execution.SQLExecution$.$anonfun$withNewExecutionId$9(SQLExecution.scala:165)\n",
      "\tat org.apache.spark.sql.catalyst.QueryPlanningTracker$.withTracker(QueryPlanningTracker.scala:108)\n",
      "\tat org.apache.spark.sql.execution.SQLExecution$.withTracker(SQLExecution.scala:255)\n",
      "\tat org.apache.spark.sql.execution.SQLExecution$.$anonfun$withNewExecutionId$8(SQLExecution.scala:165)\n",
      "\tat org.apache.spark.sql.execution.SQLExecution$.withSQLConfPropagated(SQLExecution.scala:276)\n",
      "\tat org.apache.spark.sql.execution.SQLExecution$.$anonfun$withNewExecutionId$1(SQLExecution.scala:164)\n",
      "\tat org.apache.spark.sql.SparkSession.withActive(SparkSession.scala:900)\n",
      "\tat org.apache.spark.sql.execution.SQLExecution$.withNewExecutionId(SQLExecution.scala:70)\n",
      "\tat org.apache.spark.sql.execution.QueryExecution$$anonfun$eagerlyExecuteCommands$1.applyOrElse(QueryExecution.scala:110)\n",
      "\tat org.apache.spark.sql.execution.QueryExecution$$anonfun$eagerlyExecuteCommands$1.applyOrElse(QueryExecution.scala:101)\n",
      "\tat org.apache.spark.sql.catalyst.trees.TreeNode.$anonfun$transformDownWithPruning$1(TreeNode.scala:503)\n",
      "\tat org.apache.spark.sql.catalyst.trees.CurrentOrigin$.withOrigin(origin.scala:76)\n",
      "\tat org.apache.spark.sql.catalyst.trees.TreeNode.transformDownWithPruning(TreeNode.scala:503)\n",
      "\tat org.apache.spark.sql.catalyst.plans.logical.LogicalPlan.org$apache$spark$sql$catalyst$plans$logical$AnalysisHelper$$super$transformDownWithPruning(LogicalPlan.scala:33)\n",
      "\tat org.apache.spark.sql.catalyst.plans.logical.AnalysisHelper.transformDownWithPruning(AnalysisHelper.scala:267)\n",
      "\tat org.apache.spark.sql.catalyst.plans.logical.AnalysisHelper.transformDownWithPruning$(AnalysisHelper.scala:263)\n",
      "\tat org.apache.spark.sql.catalyst.plans.logical.LogicalPlan.transformDownWithPruning(LogicalPlan.scala:33)\n",
      "\tat org.apache.spark.sql.catalyst.plans.logical.LogicalPlan.transformDownWithPruning(LogicalPlan.scala:33)\n",
      "\tat org.apache.spark.sql.catalyst.trees.TreeNode.transformDown(TreeNode.scala:479)\n",
      "\tat org.apache.spark.sql.execution.QueryExecution.eagerlyExecuteCommands(QueryExecution.scala:101)\n",
      "\tat org.apache.spark.sql.execution.QueryExecution.commandExecuted$lzycompute(QueryExecution.scala:88)\n",
      "\tat org.apache.spark.sql.execution.QueryExecution.commandExecuted(QueryExecution.scala:86)\n",
      "\tat org.apache.spark.sql.execution.QueryExecution.assertCommandExecuted(QueryExecution.scala:151)\n",
      "\tat org.apache.spark.sql.DataFrameWriter.runCommand(DataFrameWriter.scala:859)\n",
      "\tat org.apache.spark.sql.DataFrameWriter.saveToV1Source(DataFrameWriter.scala:388)\n",
      "\tat org.apache.spark.sql.DataFrameWriter.saveInternal(DataFrameWriter.scala:361)\n",
      "\tat org.apache.spark.sql.DataFrameWriter.save(DataFrameWriter.scala:240)\n",
      "\tat org.apache.spark.sql.DataFrameWriter.csv(DataFrameWriter.scala:850)\n",
      "\tat java.base/jdk.internal.reflect.NativeMethodAccessorImpl.invoke0(Native Method)\n",
      "\tat java.base/jdk.internal.reflect.NativeMethodAccessorImpl.invoke(NativeMethodAccessorImpl.java:77)\n",
      "\tat java.base/jdk.internal.reflect.DelegatingMethodAccessorImpl.invoke(DelegatingMethodAccessorImpl.java:43)\n",
      "\tat java.base/java.lang.reflect.Method.invoke(Method.java:568)\n",
      "\tat py4j.reflection.MethodInvoker.invoke(MethodInvoker.java:244)\n",
      "\tat py4j.reflection.ReflectionEngine.invoke(ReflectionEngine.java:374)\n",
      "\tat py4j.Gateway.invoke(Gateway.java:282)\n",
      "\tat py4j.commands.AbstractCommand.invokeMethod(AbstractCommand.java:132)\n",
      "\tat py4j.commands.CallCommand.execute(CallCommand.java:79)\n",
      "\tat py4j.GatewayConnection.run(GatewayConnection.java:238)\n",
      "\tat java.base/java.lang.Thread.run(Thread.java:840)\n",
      "Caused by: com.amazon.ws.emr.hadoop.fs.shaded.com.amazonaws.services.s3.model.AmazonS3Exception: All access to this object has been disabled (Service: Amazon S3; Status Code: 403; Error Code: AllAccessDisabled; Request ID: QQMQA9P5FGVQ9J79; S3 Extended Request ID: 3i16Ypb4fKdcLuYLR87LT96KKrrFi1qXzCwgicNr2Hg5xJcm1R59dHfUputZXkUpCQwKZNYIN28=; Proxy: null), S3 Extended Request ID: 3i16Ypb4fKdcLuYLR87LT96KKrrFi1qXzCwgicNr2Hg5xJcm1R59dHfUputZXkUpCQwKZNYIN28=\n",
      "\tat com.amazon.ws.emr.hadoop.fs.shaded.com.amazonaws.http.AmazonHttpClient$RequestExecutor.handleErrorResponse(AmazonHttpClient.java:1879)\n",
      "\tat com.amazon.ws.emr.hadoop.fs.shaded.com.amazonaws.http.AmazonHttpClient$RequestExecutor.handleServiceErrorResponse(AmazonHttpClient.java:1418)\n",
      "\tat com.amazon.ws.emr.hadoop.fs.shaded.com.amazonaws.http.AmazonHttpClient$RequestExecutor.executeOneRequest(AmazonHttpClient.java:1387)\n",
      "\tat com.amazon.ws.emr.hadoop.fs.shaded.com.amazonaws.http.AmazonHttpClient$RequestExecutor.executeHelper(AmazonHttpClient.java:1157)\n",
      "\tat com.amazon.ws.emr.hadoop.fs.shaded.com.amazonaws.http.AmazonHttpClient$RequestExecutor.doExecute(AmazonHttpClient.java:814)\n",
      "\tat com.amazon.ws.emr.hadoop.fs.shaded.com.amazonaws.http.AmazonHttpClient$RequestExecutor.executeWithTimer(AmazonHttpClient.java:781)\n",
      "\tat com.amazon.ws.emr.hadoop.fs.shaded.com.amazonaws.http.AmazonHttpClient$RequestExecutor.execute(AmazonHttpClient.java:755)\n",
      "\tat com.amazon.ws.emr.hadoop.fs.shaded.com.amazonaws.http.AmazonHttpClient$RequestExecutor.access$500(AmazonHttpClient.java:715)\n",
      "\tat com.amazon.ws.emr.hadoop.fs.shaded.com.amazonaws.http.AmazonHttpClient$RequestExecutionBuilderImpl.execute(AmazonHttpClient.java:697)\n",
      "\tat com.amazon.ws.emr.hadoop.fs.shaded.com.amazonaws.http.AmazonHttpClient.execute(AmazonHttpClient.java:561)\n",
      "\tat com.amazon.ws.emr.hadoop.fs.shaded.com.amazonaws.http.AmazonHttpClient.execute(AmazonHttpClient.java:541)\n",
      "\tat com.amazon.ws.emr.hadoop.fs.shaded.com.amazonaws.services.s3.AmazonS3Client.invoke(AmazonS3Client.java:5520)\n",
      "\tat com.amazon.ws.emr.hadoop.fs.shaded.com.amazonaws.services.s3.AmazonS3Client.invoke(AmazonS3Client.java:5467)\n",
      "\tat com.amazon.ws.emr.hadoop.fs.shaded.com.amazonaws.services.s3.AmazonS3Client.listObjectsV2(AmazonS3Client.java:1001)\n",
      "\tat com.amazon.ws.emr.hadoop.fs.s3.lite.call.ListObjectsV2Call.perform(ListObjectsV2Call.java:26)\n",
      "\tat com.amazon.ws.emr.hadoop.fs.s3.lite.call.ListObjectsV2Call.perform(ListObjectsV2Call.java:12)\n",
      "\tat com.amazon.ws.emr.hadoop.fs.s3.lite.executor.GlobalS3Executor$CallPerformer.call(GlobalS3Executor.java:114)\n",
      "\tat com.amazon.ws.emr.hadoop.fs.s3.lite.executor.GlobalS3Executor.execute(GlobalS3Executor.java:141)\n",
      "\tat com.amazon.ws.emr.hadoop.fs.s3.lite.AmazonS3LiteClient.invoke(AmazonS3LiteClient.java:196)\n",
      "\tat com.amazon.ws.emr.hadoop.fs.s3.lite.AmazonS3LiteClient.invoke(AmazonS3LiteClient.java:191)\n",
      "\tat com.amazon.ws.emr.hadoop.fs.s3.lite.AmazonS3LiteClient.listObjectsV2(AmazonS3LiteClient.java:75)\n",
      "\tat com.amazon.ws.emr.hadoop.fs.s3n.Jets3tNativeFileSystemStore.list(Jets3tNativeFileSystemStore.java:420)\n",
      "\t... 55 more\n",
      "\n",
      "\n"
     ]
    }
   ],
   "source": [
    "#saving the tweets_without_stopwords to the bucket as csv \n",
    "tweets_without_stopwords.write.csv(\"s3://tsa-bucket-2/output2.csv\")"
   ]
  },
  {
   "cell_type": "code",
   "execution_count": 51,
   "id": "6911a34f-8c9f-4a53-9dd5-4e1d5449a40b",
   "metadata": {
    "execution": {
     "iopub.execute_input": "2024-04-27T15:31:03.452315Z",
     "iopub.status.busy": "2024-04-27T15:31:03.452143Z",
     "iopub.status.idle": "2024-04-27T15:31:03.495729Z",
     "shell.execute_reply": "2024-04-27T15:31:03.495011Z",
     "shell.execute_reply.started": "2024-04-27T15:31:03.452293Z"
    }
   },
   "outputs": [
    {
     "data": {
      "application/vnd.jupyter.widget-view+json": {
       "model_id": "387317848be94c04b5a00d7d045cb13c",
       "version_major": 2,
       "version_minor": 0
      },
      "text/plain": [
       "VBox()"
      ]
     },
     "metadata": {},
     "output_type": "display_data"
    },
    {
     "data": {
      "application/vnd.jupyter.widget-view+json": {
       "model_id": "",
       "version_major": 2,
       "version_minor": 0
      },
      "text/plain": [
       "FloatProgress(value=0.0, bar_style='info', description='Progress:', layout=Layout(height='25px', width='50%'),…"
      ]
     },
     "metadata": {},
     "output_type": "display_data"
    }
   ],
   "source": [
    "tweets=tweets_without_stopwords"
   ]
  },
  {
   "cell_type": "code",
   "execution_count": 52,
   "id": "faf84ffe",
   "metadata": {
    "execution": {
     "iopub.execute_input": "2024-04-27T15:31:03.498713Z",
     "iopub.status.busy": "2024-04-27T15:31:03.498525Z",
     "iopub.status.idle": "2024-04-27T15:31:03.543362Z",
     "shell.execute_reply": "2024-04-27T15:31:03.542635Z",
     "shell.execute_reply.started": "2024-04-27T15:31:03.498680Z"
    }
   },
   "outputs": [
    {
     "data": {
      "application/vnd.jupyter.widget-view+json": {
       "model_id": "f0c640baccb744979255fa6ab10a49a7",
       "version_major": 2,
       "version_minor": 0
      },
      "text/plain": [
       "VBox()"
      ]
     },
     "metadata": {},
     "output_type": "display_data"
    },
    {
     "data": {
      "application/vnd.jupyter.widget-view+json": {
       "model_id": "",
       "version_major": 2,
       "version_minor": 0
      },
      "text/plain": [
       "FloatProgress(value=0.0, bar_style='info', description='Progress:', layout=Layout(height='25px', width='50%'),…"
      ]
     },
     "metadata": {},
     "output_type": "display_data"
    },
    {
     "name": "stderr",
     "output_type": "stream",
     "text": [
      "An error was encountered:\n",
      "name 'ArrayType' is not defined\n",
      "Traceback (most recent call last):\n",
      "NameError: name 'ArrayType' is not defined\n",
      "\n"
     ]
    }
   ],
   "source": [
    "#handling emojis\n",
    "\n",
    "# Define UDFs for handling emojis\n",
    "extract_emojis_udf = udf(lambda text: emojis.get(text), ArrayType(StringType()))\n",
    "process_text_udf = udf(lambda text: emojis.decode(text), StringType())\n",
    "\n",
    "# Apply UDFs to process emojis\n",
    "tweets_with_extracted_emojis = tweets.withColumn(\"extracted_emojis\", extract_emojis_udf(\"_c0\"))\n",
    "tweets_processed_text = tweets_with_extracted_emojis.withColumn(\"filtered_text\", process_text_udf(\"_c0\"))\n",
    "\n",
    "# Concatenate extracted emojis into a single string\n",
    "tweets_processed_text = tweets_processed_text.withColumn(\"extracted_emojis_str\", concat_ws(\", \", \"extracted_emojis\"))\n",
    "\n",
    "# Select only necessary columns\n",
    "tweets_processed_text = tweets_processed_text.select(\"_c0\", \"filtered_text\", \"extracted_emojis_str\")\n",
    "\n",
    "tweets=tweets_processed_text.select(\"filtered_text\")"
   ]
  },
  {
   "cell_type": "code",
   "execution_count": 53,
   "id": "8f829c56",
   "metadata": {
    "execution": {
     "iopub.execute_input": "2024-04-27T15:31:03.544834Z",
     "iopub.status.busy": "2024-04-27T15:31:03.544568Z",
     "iopub.status.idle": "2024-04-27T15:31:03.589619Z",
     "shell.execute_reply": "2024-04-27T15:31:03.589067Z",
     "shell.execute_reply.started": "2024-04-27T15:31:03.544799Z"
    }
   },
   "outputs": [
    {
     "data": {
      "application/vnd.jupyter.widget-view+json": {
       "model_id": "a6e84d14879e448aa6699a08d516077e",
       "version_major": 2,
       "version_minor": 0
      },
      "text/plain": [
       "VBox()"
      ]
     },
     "metadata": {},
     "output_type": "display_data"
    },
    {
     "data": {
      "application/vnd.jupyter.widget-view+json": {
       "model_id": "",
       "version_major": 2,
       "version_minor": 0
      },
      "text/plain": [
       "FloatProgress(value=0.0, bar_style='info', description='Progress:', layout=Layout(height='25px', width='50%'),…"
      ]
     },
     "metadata": {},
     "output_type": "display_data"
    }
   ],
   "source": [
    "#sentiment model \n"
   ]
  },
  {
   "cell_type": "code",
   "execution_count": 54,
   "id": "f54b4ad4",
   "metadata": {
    "execution": {
     "iopub.execute_input": "2024-04-27T15:31:03.590657Z",
     "iopub.status.busy": "2024-04-27T15:31:03.590486Z",
     "iopub.status.idle": "2024-04-27T15:31:04.846071Z",
     "shell.execute_reply": "2024-04-27T15:31:04.845399Z",
     "shell.execute_reply.started": "2024-04-27T15:31:03.590635Z"
    }
   },
   "outputs": [
    {
     "data": {
      "application/vnd.jupyter.widget-view+json": {
       "model_id": "01c9b78506ae445db8377db73c75edba",
       "version_major": 2,
       "version_minor": 0
      },
      "text/plain": [
       "VBox()"
      ]
     },
     "metadata": {},
     "output_type": "display_data"
    },
    {
     "data": {
      "application/vnd.jupyter.widget-view+json": {
       "model_id": "",
       "version_major": 2,
       "version_minor": 0
      },
      "text/plain": [
       "FloatProgress(value=0.0, bar_style='info', description='Progress:', layout=Layout(height='25px', width='50%'),…"
      ]
     },
     "metadata": {},
     "output_type": "display_data"
    }
   ],
   "source": [
    "from pyspark.sql import functions as F\n",
    "from pyspark.sql.types import FloatType\n",
    "from textblob import TextBlob\n",
    "\n",
    "\n",
    "def get_sentiment(text):\n",
    "    blob = TextBlob(text)\n",
    "    return blob.sentiment.polarity\n",
    "\n",
    "sentiment_udf = F.udf(get_sentiment, FloatType())\n",
    "\n",
    "tweets = tweets.withColumn(\"sentiment\", sentiment_udf(\"filtered_text\"))\n"
   ]
  },
  {
   "cell_type": "code",
   "execution_count": 55,
   "id": "ac17fc9a",
   "metadata": {
    "execution": {
     "iopub.execute_input": "2024-04-27T15:31:04.847225Z",
     "iopub.status.busy": "2024-04-27T15:31:04.847027Z",
     "iopub.status.idle": "2024-04-27T15:32:06.280781Z",
     "shell.execute_reply": "2024-04-27T15:32:06.280136Z",
     "shell.execute_reply.started": "2024-04-27T15:31:04.847202Z"
    },
    "tags": []
   },
   "outputs": [
    {
     "data": {
      "application/vnd.jupyter.widget-view+json": {
       "model_id": "5f3762d475644c8cabbfa750a7238d58",
       "version_major": 2,
       "version_minor": 0
      },
      "text/plain": [
       "VBox()"
      ]
     },
     "metadata": {},
     "output_type": "display_data"
    },
    {
     "data": {
      "application/vnd.jupyter.widget-view+json": {
       "model_id": "",
       "version_major": 2,
       "version_minor": 0
      },
      "text/plain": [
       "FloatProgress(value=0.0, bar_style='info', description='Progress:', layout=Layout(height='25px', width='50%'),…"
      ]
     },
     "metadata": {},
     "output_type": "display_data"
    },
    {
     "name": "stdout",
     "output_type": "stream",
     "text": [
      "+--------------------+----------+\n",
      "|       filtered_text| sentiment|\n",
      "+--------------------+----------+\n",
      "|sparito allarmant...|       0.0|\n",
      "|827 more patients...|0.36363637|\n",
      "|orgullosa de pert...|       0.0|\n",
      "|we have published...|       0.4|\n",
      "|ministers who ser...|       0.0|\n",
      "+--------------------+----------+\n",
      "only showing top 5 rows"
     ]
    }
   ],
   "source": [
    "tweets.show(5)"
   ]
  },
  {
   "cell_type": "code",
   "execution_count": 56,
   "id": "a3aa6b44",
   "metadata": {
    "execution": {
     "iopub.execute_input": "2024-04-27T15:32:06.281957Z",
     "iopub.status.busy": "2024-04-27T15:32:06.281766Z",
     "iopub.status.idle": "2024-04-27T15:32:06.527983Z",
     "shell.execute_reply": "2024-04-27T15:32:06.527310Z",
     "shell.execute_reply.started": "2024-04-27T15:32:06.281934Z"
    }
   },
   "outputs": [
    {
     "data": {
      "application/vnd.jupyter.widget-view+json": {
       "model_id": "f1528a8d53d247be8af65da46a026a7b",
       "version_major": 2,
       "version_minor": 0
      },
      "text/plain": [
       "VBox()"
      ]
     },
     "metadata": {},
     "output_type": "display_data"
    },
    {
     "data": {
      "application/vnd.jupyter.widget-view+json": {
       "model_id": "",
       "version_major": 2,
       "version_minor": 0
      },
      "text/plain": [
       "FloatProgress(value=0.0, bar_style='info', description='Progress:', layout=Layout(height='25px', width='50%'),…"
      ]
     },
     "metadata": {},
     "output_type": "display_data"
    }
   ],
   "source": [
    "#categorizing sentiment points\n",
    "from pyspark.sql import functions as F\n",
    "\n",
    "def categorize_sentiment(sentiment):\n",
    "    if sentiment > 0.5:\n",
    "        return \"Positive\"\n",
    "    elif sentiment < -0.5:\n",
    "        return \"Negative\"\n",
    "    else:\n",
    "        return \"Neutral\"\n",
    "\n",
    "categorized_sentiment_udf = F.udf(categorize_sentiment, StringType())\n",
    "\n",
    "tweets = tweets.withColumn(\"categorized_sentiment\", categorized_sentiment_udf(\"sentiment\"))\n"
   ]
  },
  {
   "cell_type": "code",
   "execution_count": 57,
   "id": "c27b7cb6",
   "metadata": {
    "execution": {
     "iopub.execute_input": "2024-04-27T15:32:06.529153Z",
     "iopub.status.busy": "2024-04-27T15:32:06.528972Z",
     "iopub.status.idle": "2024-04-27T15:33:06.068379Z",
     "shell.execute_reply": "2024-04-27T15:33:06.067601Z",
     "shell.execute_reply.started": "2024-04-27T15:32:06.529130Z"
    }
   },
   "outputs": [
    {
     "data": {
      "application/vnd.jupyter.widget-view+json": {
       "model_id": "0c5738e9d0e645f3945df3ad01472d43",
       "version_major": 2,
       "version_minor": 0
      },
      "text/plain": [
       "VBox()"
      ]
     },
     "metadata": {},
     "output_type": "display_data"
    },
    {
     "data": {
      "application/vnd.jupyter.widget-view+json": {
       "model_id": "",
       "version_major": 2,
       "version_minor": 0
      },
      "text/plain": [
       "FloatProgress(value=0.0, bar_style='info', description='Progress:', layout=Layout(height='25px', width='50%'),…"
      ]
     },
     "metadata": {},
     "output_type": "display_data"
    },
    {
     "name": "stdout",
     "output_type": "stream",
     "text": [
      "+--------------------+---------+---------------------+\n",
      "|       filtered_text|sentiment|categorized_sentiment|\n",
      "+--------------------+---------+---------------------+\n",
      "|number global cov...|      0.0|              Neutral|\n",
      "|free market has c...|    -0.05|              Neutral|\n",
      "|residencias de pe...|      0.0|              Neutral|\n",
      "|mmokausem sivdan2...|     -0.2|              Neutral|\n",
      "|con la carestia d...|      0.0|              Neutral|\n",
      "|ktk news covid 19...|      0.0|              Neutral|\n",
      "|i mentioned jinek...|      0.0|              Neutral|\n",
      "|covid19 coronavir...|      0.0|              Neutral|\n",
      "| 2020 04 25 16 22 50|      0.0|              Neutral|\n",
      "|sarahm cavanagh z...|   0.1875|              Neutral|\n",
      "+--------------------+---------+---------------------+\n",
      "only showing top 10 rows"
     ]
    }
   ],
   "source": [
    "tweets.show(10)"
   ]
  },
  {
   "cell_type": "code",
   "execution_count": 58,
   "id": "95e8ca87",
   "metadata": {
    "execution": {
     "iopub.execute_input": "2024-04-27T15:33:06.069918Z",
     "iopub.status.busy": "2024-04-27T15:33:06.069737Z",
     "iopub.status.idle": "2024-04-27T15:33:06.122318Z",
     "shell.execute_reply": "2024-04-27T15:33:06.121548Z",
     "shell.execute_reply.started": "2024-04-27T15:33:06.069896Z"
    }
   },
   "outputs": [
    {
     "data": {
      "application/vnd.jupyter.widget-view+json": {
       "model_id": "6b3b809f202745ae9575f6c28e112f44",
       "version_major": 2,
       "version_minor": 0
      },
      "text/plain": [
       "VBox()"
      ]
     },
     "metadata": {},
     "output_type": "display_data"
    },
    {
     "data": {
      "application/vnd.jupyter.widget-view+json": {
       "model_id": "",
       "version_major": 2,
       "version_minor": 0
      },
      "text/plain": [
       "FloatProgress(value=0.0, bar_style='info', description='Progress:', layout=Layout(height='25px', width='50%'),…"
      ]
     },
     "metadata": {},
     "output_type": "display_data"
    }
   ],
   "source": [
    "counts_df = tweets.groupBy(\"categorized_sentiment\").count()"
   ]
  },
  {
   "cell_type": "code",
   "execution_count": 59,
   "id": "6a0d38b9",
   "metadata": {
    "execution": {
     "iopub.execute_input": "2024-04-27T15:33:06.123826Z",
     "iopub.status.busy": "2024-04-27T15:33:06.123577Z",
     "iopub.status.idle": "2024-04-27T15:37:36.121329Z",
     "shell.execute_reply": "2024-04-27T15:37:36.120686Z",
     "shell.execute_reply.started": "2024-04-27T15:33:06.123790Z"
    },
    "tags": []
   },
   "outputs": [
    {
     "data": {
      "application/vnd.jupyter.widget-view+json": {
       "model_id": "51950de52c4c48e7bc4e270629f630b2",
       "version_major": 2,
       "version_minor": 0
      },
      "text/plain": [
       "VBox()"
      ]
     },
     "metadata": {},
     "output_type": "display_data"
    },
    {
     "data": {
      "application/vnd.jupyter.widget-view+json": {
       "model_id": "",
       "version_major": 2,
       "version_minor": 0
      },
      "text/plain": [
       "FloatProgress(value=0.0, bar_style='info', description='Progress:', layout=Layout(height='25px', width='50%'),…"
      ]
     },
     "metadata": {},
     "output_type": "display_data"
    },
    {
     "name": "stdout",
     "output_type": "stream",
     "text": [
      "+---------------------+-------+\n",
      "|categorized_sentiment|  count|\n",
      "+---------------------+-------+\n",
      "|              Neutral|5205810|\n",
      "|             Positive| 142720|\n",
      "|             Negative|  44087|\n",
      "+---------------------+-------+"
     ]
    }
   ],
   "source": [
    "counts_df.show()"
   ]
  },
  {
   "cell_type": "code",
   "execution_count": 60,
   "id": "7d05fbb8",
   "metadata": {
    "execution": {
     "iopub.execute_input": "2024-04-27T15:37:36.122782Z",
     "iopub.status.busy": "2024-04-27T15:37:36.122531Z",
     "iopub.status.idle": "2024-04-27T15:37:36.166117Z",
     "shell.execute_reply": "2024-04-27T15:37:36.165514Z",
     "shell.execute_reply.started": "2024-04-27T15:37:36.122743Z"
    }
   },
   "outputs": [
    {
     "data": {
      "application/vnd.jupyter.widget-view+json": {
       "model_id": "ba8095bae3b4439d86447056dfc32662",
       "version_major": 2,
       "version_minor": 0
      },
      "text/plain": [
       "VBox()"
      ]
     },
     "metadata": {},
     "output_type": "display_data"
    },
    {
     "data": {
      "application/vnd.jupyter.widget-view+json": {
       "model_id": "",
       "version_major": 2,
       "version_minor": 0
      },
      "text/plain": [
       "FloatProgress(value=0.0, bar_style='info', description='Progress:', layout=Layout(height='25px', width='50%'),…"
      ]
     },
     "metadata": {},
     "output_type": "display_data"
    }
   ],
   "source": [
    "#since it was not a controversail topic the tweets were collected from so majortiy of them were neutral. \n",
    "#The topics of the tweets were World Health ORganization and US News\n"
   ]
  },
  {
   "cell_type": "code",
   "execution_count": 62,
   "id": "f45f6f28",
   "metadata": {
    "execution": {
     "iopub.execute_input": "2024-04-27T15:38:55.816266Z",
     "iopub.status.busy": "2024-04-27T15:38:55.816015Z",
     "iopub.status.idle": "2024-04-27T15:46:58.362633Z",
     "shell.execute_reply": "2024-04-27T15:46:58.361983Z",
     "shell.execute_reply.started": "2024-04-27T15:38:55.816241Z"
    },
    "tags": []
   },
   "outputs": [
    {
     "data": {
      "application/vnd.jupyter.widget-view+json": {
       "model_id": "7a05ebddab274bba9cb554676c41011f",
       "version_major": 2,
       "version_minor": 0
      },
      "text/plain": [
       "VBox()"
      ]
     },
     "metadata": {},
     "output_type": "display_data"
    },
    {
     "data": {
      "application/vnd.jupyter.widget-view+json": {
       "model_id": "",
       "version_major": 2,
       "version_minor": 0
      },
      "text/plain": [
       "FloatProgress(value=0.0, bar_style='info', description='Progress:', layout=Layout(height='25px', width='50%'),…"
      ]
     },
     "metadata": {},
     "output_type": "display_data"
    }
   ],
   "source": [
    "#exporting the fianl dataset to s3 bucket\n",
    "tweets.write.csv(\"s3://tsa2/output.csv\")"
   ]
  },
  {
   "cell_type": "code",
   "execution_count": 63,
   "id": "2fea09ce",
   "metadata": {
    "execution": {
     "iopub.execute_input": "2024-04-27T15:51:20.162017Z",
     "iopub.status.busy": "2024-04-27T15:51:20.161789Z",
     "iopub.status.idle": "2024-04-27T15:52:33.608668Z",
     "shell.execute_reply": "2024-04-27T15:52:33.607962Z",
     "shell.execute_reply.started": "2024-04-27T15:51:20.161992Z"
    }
   },
   "outputs": [
    {
     "data": {
      "application/vnd.jupyter.widget-view+json": {
       "model_id": "65c5ffb6b3d74378a6f575fc77283458",
       "version_major": 2,
       "version_minor": 0
      },
      "text/plain": [
       "VBox()"
      ]
     },
     "metadata": {},
     "output_type": "display_data"
    },
    {
     "data": {
      "application/vnd.jupyter.widget-view+json": {
       "model_id": "",
       "version_major": 2,
       "version_minor": 0
      },
      "text/plain": [
       "FloatProgress(value=0.0, bar_style='info', description='Progress:', layout=Layout(height='25px', width='50%'),…"
      ]
     },
     "metadata": {},
     "output_type": "display_data"
    },
    {
     "name": "stdout",
     "output_type": "stream",
     "text": [
      "+--------------------+---------+---------------------+\n",
      "|       filtered_text|sentiment|categorized_sentiment|\n",
      "+--------------------+---------+---------------------+\n",
      "|can bigdata amp a...|     -0.2|              Neutral|\n",
      "|odak koronavir s ...|      0.0|              Neutral|\n",
      "|educannotwait s e...|     0.25|              Neutral|\n",
      "|una alianza robus...|      0.0|              Neutral|\n",
      "|                    |      0.0|              Neutral|\n",
      "+--------------------+---------+---------------------+\n",
      "only showing top 5 rows"
     ]
    }
   ],
   "source": [
    "tweets.show(5)"
   ]
  },
  {
   "cell_type": "code",
   "execution_count": 64,
   "id": "2d653b35-2f3f-4ab8-9442-35d6ab0b7aa9",
   "metadata": {
    "execution": {
     "iopub.execute_input": "2024-04-27T15:53:18.693701Z",
     "iopub.status.busy": "2024-04-27T15:53:18.693463Z",
     "iopub.status.idle": "2024-04-27T15:53:18.735914Z",
     "shell.execute_reply": "2024-04-27T15:53:18.735291Z",
     "shell.execute_reply.started": "2024-04-27T15:53:18.693676Z"
    }
   },
   "outputs": [
    {
     "data": {
      "application/vnd.jupyter.widget-view+json": {
       "model_id": "c2494ad8a007430aa678361663b65cf1",
       "version_major": 2,
       "version_minor": 0
      },
      "text/plain": [
       "VBox()"
      ]
     },
     "metadata": {},
     "output_type": "display_data"
    },
    {
     "data": {
      "application/vnd.jupyter.widget-view+json": {
       "model_id": "",
       "version_major": 2,
       "version_minor": 0
      },
      "text/plain": [
       "FloatProgress(value=0.0, bar_style='info', description='Progress:', layout=Layout(height='25px', width='50%'),…"
      ]
     },
     "metadata": {},
     "output_type": "display_data"
    }
   ],
   "source": [
    "df=tweets"
   ]
  },
  {
   "cell_type": "code",
   "execution_count": 65,
   "id": "b6a55c67-e83c-4386-81f0-557c1d635140",
   "metadata": {
    "execution": {
     "iopub.execute_input": "2024-04-27T15:54:11.666236Z",
     "iopub.status.busy": "2024-04-27T15:54:11.665997Z",
     "iopub.status.idle": "2024-04-27T15:54:12.417430Z",
     "shell.execute_reply": "2024-04-27T15:54:12.416741Z",
     "shell.execute_reply.started": "2024-04-27T15:54:11.666211Z"
    }
   },
   "outputs": [
    {
     "data": {
      "application/vnd.jupyter.widget-view+json": {
       "model_id": "3b841fcc31ed44cd98ff7e31dd4bb203",
       "version_major": 2,
       "version_minor": 0
      },
      "text/plain": [
       "VBox()"
      ]
     },
     "metadata": {},
     "output_type": "display_data"
    },
    {
     "data": {
      "application/vnd.jupyter.widget-view+json": {
       "model_id": "",
       "version_major": 2,
       "version_minor": 0
      },
      "text/plain": [
       "FloatProgress(value=0.0, bar_style='info', description='Progress:', layout=Layout(height='25px', width='50%'),…"
      ]
     },
     "metadata": {},
     "output_type": "display_data"
    }
   ],
   "source": [
    "from pyspark.sql import SparkSession\n",
    "from pyspark.ml.feature import HashingTF, IDF, StringIndexer, Tokenizer\n",
    "from pyspark.ml.regression import LinearRegression\n",
    "from pyspark.ml.evaluation import RegressionEvaluator\n"
   ]
  },
  {
   "cell_type": "code",
   "execution_count": 66,
   "id": "bb43624b-e4e9-4d57-a39a-61abff3cb399",
   "metadata": {
    "execution": {
     "iopub.execute_input": "2024-04-27T15:54:16.262048Z",
     "iopub.status.busy": "2024-04-27T15:54:16.261768Z",
     "iopub.status.idle": "2024-04-27T16:22:40.214483Z",
     "shell.execute_reply": "2024-04-27T16:22:40.213837Z",
     "shell.execute_reply.started": "2024-04-27T15:54:16.262021Z"
    },
    "tags": []
   },
   "outputs": [
    {
     "data": {
      "application/vnd.jupyter.widget-view+json": {
       "model_id": "1fa589dc548f420b9f7c4afc041179f0",
       "version_major": 2,
       "version_minor": 0
      },
      "text/plain": [
       "VBox()"
      ]
     },
     "metadata": {},
     "output_type": "display_data"
    },
    {
     "data": {
      "application/vnd.jupyter.widget-view+json": {
       "model_id": "",
       "version_major": 2,
       "version_minor": 0
      },
      "text/plain": [
       "FloatProgress(value=0.0, bar_style='info', description='Progress:', layout=Layout(height='25px', width='50%'),…"
      ]
     },
     "metadata": {},
     "output_type": "display_data"
    },
    {
     "name": "stdout",
     "output_type": "stream",
     "text": [
      "Root Mean Squared Error (RMSE): 0.23341075588282317"
     ]
    }
   ],
   "source": [
    "\n",
    "# Convert sentiment category to numerical format\n",
    "indexer = StringIndexer(inputCol=\"categorized_sentiment\", outputCol=\"label\")\n",
    "df = indexer.fit(df).transform(df)\n",
    "\n",
    "# Tokenize filtered_text\n",
    "tokenizer = Tokenizer(inputCol=\"filtered_text\", outputCol=\"words\")\n",
    "df = tokenizer.transform(df)\n",
    "\n",
    "# Apply TF-IDF to convert words into features\n",
    "hashingTF = HashingTF(inputCol=\"words\", outputCol=\"rawFeatures\", numFeatures=1000)\n",
    "idf = IDF(inputCol=\"rawFeatures\", outputCol=\"features\")\n",
    "idfModel = idf.fit(hashingTF.transform(df))\n",
    "df = idfModel.transform(hashingTF.transform(df))\n",
    "\n",
    "# Split dataset into training and testing sets\n",
    "train, test = df.randomSplit([0.7, 0.3])\n",
    "\n",
    "# Train linear regression model\n",
    "lr = LinearRegression(featuresCol=\"features\", labelCol=\"label\")\n",
    "lr_model = lr.fit(train)\n",
    "\n",
    "# Make predictions on test data\n",
    "predictions = lr_model.transform(test)\n",
    "\n",
    "# Evaluate model\n",
    "evaluator = RegressionEvaluator(labelCol=\"label\", predictionCol=\"prediction\", metricName=\"rmse\")\n",
    "rmse = evaluator.evaluate(predictions)\n",
    "print(\"Root Mean Squared Error (RMSE):\", rmse)\n",
    "\n"
   ]
  },
  {
   "cell_type": "code",
   "execution_count": 67,
   "id": "b5e044fa-616f-4255-badf-4c5ab762818a",
   "metadata": {
    "execution": {
     "iopub.execute_input": "2024-04-27T16:26:08.207337Z",
     "iopub.status.busy": "2024-04-27T16:26:08.207090Z",
     "iopub.status.idle": "2024-04-27T16:26:08.250452Z",
     "shell.execute_reply": "2024-04-27T16:26:08.249902Z",
     "shell.execute_reply.started": "2024-04-27T16:26:08.207311Z"
    }
   },
   "outputs": [
    {
     "data": {
      "application/vnd.jupyter.widget-view+json": {
       "model_id": "805f64449ff94f31994dba748b494d91",
       "version_major": 2,
       "version_minor": 0
      },
      "text/plain": [
       "VBox()"
      ]
     },
     "metadata": {},
     "output_type": "display_data"
    },
    {
     "data": {
      "application/vnd.jupyter.widget-view+json": {
       "model_id": "",
       "version_major": 2,
       "version_minor": 0
      },
      "text/plain": [
       "FloatProgress(value=0.0, bar_style='info', description='Progress:', layout=Layout(height='25px', width='50%'),…"
      ]
     },
     "metadata": {},
     "output_type": "display_data"
    }
   ],
   "source": [
    "df=tweets"
   ]
  },
  {
   "cell_type": "code",
   "execution_count": 68,
   "id": "20356b21-c488-428f-9b7f-78da2b5658b5",
   "metadata": {
    "execution": {
     "iopub.execute_input": "2024-04-27T16:26:21.277894Z",
     "iopub.status.busy": "2024-04-27T16:26:21.277653Z",
     "iopub.status.idle": "2024-04-27T16:26:21.319102Z",
     "shell.execute_reply": "2024-04-27T16:26:21.318515Z",
     "shell.execute_reply.started": "2024-04-27T16:26:21.277868Z"
    }
   },
   "outputs": [
    {
     "data": {
      "application/vnd.jupyter.widget-view+json": {
       "model_id": "5d3133ea527844b5850d98a4e748f942",
       "version_major": 2,
       "version_minor": 0
      },
      "text/plain": [
       "VBox()"
      ]
     },
     "metadata": {},
     "output_type": "display_data"
    },
    {
     "data": {
      "application/vnd.jupyter.widget-view+json": {
       "model_id": "",
       "version_major": 2,
       "version_minor": 0
      },
      "text/plain": [
       "FloatProgress(value=0.0, bar_style='info', description='Progress:', layout=Layout(height='25px', width='50%'),…"
      ]
     },
     "metadata": {},
     "output_type": "display_data"
    }
   ],
   "source": [
    "from pyspark.sql import SparkSession\n",
    "from pyspark.ml.feature import HashingTF, IDF, StringIndexer, Tokenizer\n",
    "from pyspark.ml.classification import NaiveBayes\n",
    "from pyspark.ml.evaluation import MulticlassClassificationEvaluator"
   ]
  },
  {
   "cell_type": "code",
   "execution_count": 69,
   "id": "dcee0869-f5aa-4763-935a-0d643df52f94",
   "metadata": {
    "execution": {
     "iopub.execute_input": "2024-04-27T16:26:37.955997Z",
     "iopub.status.busy": "2024-04-27T16:26:37.955754Z",
     "iopub.status.idle": "2024-04-27T16:48:40.738925Z",
     "shell.execute_reply": "2024-04-27T16:48:40.738200Z",
     "shell.execute_reply.started": "2024-04-27T16:26:37.955972Z"
    },
    "tags": []
   },
   "outputs": [
    {
     "data": {
      "application/vnd.jupyter.widget-view+json": {
       "model_id": "14031a5f6ce949e2959fb5ce6ecc8fc0",
       "version_major": 2,
       "version_minor": 0
      },
      "text/plain": [
       "VBox()"
      ]
     },
     "metadata": {},
     "output_type": "display_data"
    },
    {
     "data": {
      "application/vnd.jupyter.widget-view+json": {
       "model_id": "",
       "version_major": 2,
       "version_minor": 0
      },
      "text/plain": [
       "FloatProgress(value=0.0, bar_style='info', description='Progress:', layout=Layout(height='25px', width='50%'),…"
      ]
     },
     "metadata": {},
     "output_type": "display_data"
    },
    {
     "name": "stdout",
     "output_type": "stream",
     "text": [
      "Accuracy: 0.7957720867922707"
     ]
    }
   ],
   "source": [
    "# Convert sentiment category to numerical format\n",
    "indexer = StringIndexer(inputCol=\"categorized_sentiment\", outputCol=\"label\")\n",
    "df = indexer.fit(df).transform(df)\n",
    "\n",
    "# Tokenize filtered_text\n",
    "tokenizer = Tokenizer(inputCol=\"filtered_text\", outputCol=\"words\")\n",
    "df = tokenizer.transform(df)\n",
    "\n",
    "# Apply TF-IDF to convert words into features\n",
    "hashingTF = HashingTF(inputCol=\"words\", outputCol=\"rawFeatures\", numFeatures=1000)\n",
    "idf = IDF(inputCol=\"rawFeatures\", outputCol=\"features\")\n",
    "idfModel = idf.fit(hashingTF.transform(df))\n",
    "df = idfModel.transform(hashingTF.transform(df))\n",
    "\n",
    "# Split dataset into training and testing sets\n",
    "train, test = df.randomSplit([0.7, 0.3])\n",
    "\n",
    "# Train Naive Bayes model\n",
    "nb = NaiveBayes()\n",
    "nb_model = nb.fit(train)\n",
    "\n",
    "# Make predictions on test data\n",
    "predictions = nb_model.transform(test)\n",
    "\n",
    "# Evaluate model\n",
    "evaluator = MulticlassClassificationEvaluator(labelCol=\"label\", predictionCol=\"prediction\", metricName=\"accuracy\")\n",
    "accuracy = evaluator.evaluate(predictions)\n",
    "print(\"Accuracy:\", accuracy)\n"
   ]
  },
  {
   "cell_type": "code",
   "execution_count": 70,
   "id": "1a302ca8-083e-44a0-9e24-2eb164800a3a",
   "metadata": {
    "execution": {
     "iopub.execute_input": "2024-04-27T16:51:37.402878Z",
     "iopub.status.busy": "2024-04-27T16:51:37.402649Z",
     "iopub.status.idle": "2024-04-27T16:59:01.760213Z",
     "shell.execute_reply": "2024-04-27T16:59:01.759438Z",
     "shell.execute_reply.started": "2024-04-27T16:51:37.402853Z"
    },
    "tags": []
   },
   "outputs": [
    {
     "data": {
      "application/vnd.jupyter.widget-view+json": {
       "model_id": "cc52bd03df2347968be43bb393daa06d",
       "version_major": 2,
       "version_minor": 0
      },
      "text/plain": [
       "VBox()"
      ]
     },
     "metadata": {},
     "output_type": "display_data"
    },
    {
     "data": {
      "application/vnd.jupyter.widget-view+json": {
       "model_id": "",
       "version_major": 2,
       "version_minor": 0
      },
      "text/plain": [
       "FloatProgress(value=0.0, bar_style='info', description='Progress:', layout=Layout(height='25px', width='50%'),…"
      ]
     },
     "metadata": {},
     "output_type": "display_data"
    },
    {
     "name": "stdout",
     "output_type": "stream",
     "text": [
      "Precision: 0.9543540928504965"
     ]
    }
   ],
   "source": [
    "# Precision\n",
    "precision = evaluator.evaluate(predictions, {evaluator.metricName: \"weightedPrecision\"})\n",
    "print(\"Precision:\", precision)"
   ]
  },
  {
   "cell_type": "code",
   "execution_count": 71,
   "id": "332838dd-61e7-4efe-9476-4ad925f204df",
   "metadata": {
    "execution": {
     "iopub.execute_input": "2024-04-27T16:59:30.458711Z",
     "iopub.status.busy": "2024-04-27T16:59:30.458477Z",
     "iopub.status.idle": "2024-04-27T17:06:48.826830Z",
     "shell.execute_reply": "2024-04-27T17:06:48.826083Z",
     "shell.execute_reply.started": "2024-04-27T16:59:30.458685Z"
    },
    "tags": []
   },
   "outputs": [
    {
     "data": {
      "application/vnd.jupyter.widget-view+json": {
       "model_id": "555b2f5b1e42481f91bfc3f5af719b2f",
       "version_major": 2,
       "version_minor": 0
      },
      "text/plain": [
       "VBox()"
      ]
     },
     "metadata": {},
     "output_type": "display_data"
    },
    {
     "data": {
      "application/vnd.jupyter.widget-view+json": {
       "model_id": "",
       "version_major": 2,
       "version_minor": 0
      },
      "text/plain": [
       "FloatProgress(value=0.0, bar_style='info', description='Progress:', layout=Layout(height='25px', width='50%'),…"
      ]
     },
     "metadata": {},
     "output_type": "display_data"
    },
    {
     "name": "stdout",
     "output_type": "stream",
     "text": [
      "Recall: 0.7957720867922707"
     ]
    }
   ],
   "source": [
    "recall = evaluator.evaluate(predictions, {evaluator.metricName: \"weightedRecall\"})\n",
    "print(\"Recall:\", recall)"
   ]
  },
  {
   "cell_type": "code",
   "execution_count": 72,
   "id": "35b3cd25-da55-405c-aa3c-8a3081d45133",
   "metadata": {
    "execution": {
     "iopub.execute_input": "2024-04-27T17:07:08.621867Z",
     "iopub.status.busy": "2024-04-27T17:07:08.621629Z",
     "iopub.status.idle": "2024-04-27T17:14:30.998688Z",
     "shell.execute_reply": "2024-04-27T17:14:30.997918Z",
     "shell.execute_reply.started": "2024-04-27T17:07:08.621840Z"
    },
    "tags": []
   },
   "outputs": [
    {
     "data": {
      "application/vnd.jupyter.widget-view+json": {
       "model_id": "aad9684bfae140709f0b0bc9b6b4fa30",
       "version_major": 2,
       "version_minor": 0
      },
      "text/plain": [
       "VBox()"
      ]
     },
     "metadata": {},
     "output_type": "display_data"
    },
    {
     "data": {
      "application/vnd.jupyter.widget-view+json": {
       "model_id": "",
       "version_major": 2,
       "version_minor": 0
      },
      "text/plain": [
       "FloatProgress(value=0.0, bar_style='info', description='Progress:', layout=Layout(height='25px', width='50%'),…"
      ]
     },
     "metadata": {},
     "output_type": "display_data"
    },
    {
     "name": "stdout",
     "output_type": "stream",
     "text": [
      "F1-score: 0.8600921408598173"
     ]
    }
   ],
   "source": [
    "f1_score = evaluator.evaluate(predictions, {evaluator.metricName: \"f1\"})\n",
    "print(\"F1-score:\", f1_score)"
   ]
  },
  {
   "cell_type": "code",
   "execution_count": 73,
   "id": "b1c81b8a-8047-479f-a651-cc0531d6a4e6",
   "metadata": {
    "execution": {
     "iopub.execute_input": "2024-04-27T17:16:55.795572Z",
     "iopub.status.busy": "2024-04-27T17:16:55.795296Z",
     "iopub.status.idle": "2024-04-27T17:16:55.842143Z",
     "shell.execute_reply": "2024-04-27T17:16:55.841552Z",
     "shell.execute_reply.started": "2024-04-27T17:16:55.795545Z"
    }
   },
   "outputs": [
    {
     "data": {
      "application/vnd.jupyter.widget-view+json": {
       "model_id": "c337358352f14cd0abc720c8bc729af9",
       "version_major": 2,
       "version_minor": 0
      },
      "text/plain": [
       "VBox()"
      ]
     },
     "metadata": {},
     "output_type": "display_data"
    },
    {
     "data": {
      "application/vnd.jupyter.widget-view+json": {
       "model_id": "",
       "version_major": 2,
       "version_minor": 0
      },
      "text/plain": [
       "FloatProgress(value=0.0, bar_style='info', description='Progress:', layout=Layout(height='25px', width='50%'),…"
      ]
     },
     "metadata": {},
     "output_type": "display_data"
    }
   ],
   "source": [
    "#now doing eda"
   ]
  },
  {
   "cell_type": "code",
   "execution_count": 74,
   "id": "58a2fa80-8105-43a7-b759-e9715910be8b",
   "metadata": {
    "execution": {
     "iopub.execute_input": "2024-04-27T17:17:12.172615Z",
     "iopub.status.busy": "2024-04-27T17:17:12.172289Z",
     "iopub.status.idle": "2024-04-27T17:17:12.234756Z",
     "shell.execute_reply": "2024-04-27T17:17:12.228785Z",
     "shell.execute_reply.started": "2024-04-27T17:17:12.172572Z"
    }
   },
   "outputs": [
    {
     "data": {
      "application/vnd.jupyter.widget-view+json": {
       "model_id": "efca2caf9730471f84b369feddd88e3e",
       "version_major": 2,
       "version_minor": 0
      },
      "text/plain": [
       "VBox()"
      ]
     },
     "metadata": {},
     "output_type": "display_data"
    },
    {
     "data": {
      "application/vnd.jupyter.widget-view+json": {
       "model_id": "",
       "version_major": 2,
       "version_minor": 0
      },
      "text/plain": [
       "FloatProgress(value=0.0, bar_style='info', description='Progress:', layout=Layout(height='25px', width='50%'),…"
      ]
     },
     "metadata": {},
     "output_type": "display_data"
    },
    {
     "name": "stdout",
     "output_type": "stream",
     "text": [
      "root\n",
      " |-- filtered_text: string (nullable = true)\n",
      " |-- sentiment: float (nullable = true)\n",
      " |-- categorized_sentiment: string (nullable = true)"
     ]
    }
   ],
   "source": [
    "tweets.printSchema()"
   ]
  },
  {
   "cell_type": "code",
   "execution_count": 80,
   "id": "832c0545-db1e-4f76-aa8f-13e4f36e72e3",
   "metadata": {
    "execution": {
     "iopub.execute_input": "2024-04-27T17:20:41.423466Z",
     "iopub.status.busy": "2024-04-27T17:20:41.423227Z",
     "iopub.status.idle": "2024-04-27T17:20:41.668949Z",
     "shell.execute_reply": "2024-04-27T17:20:41.668318Z",
     "shell.execute_reply.started": "2024-04-27T17:20:41.423441Z"
    },
    "tags": []
   },
   "outputs": [
    {
     "data": {
      "application/vnd.jupyter.widget-view+json": {
       "model_id": "49f9f66a0d2248469bdc159797a4f8c7",
       "version_major": 2,
       "version_minor": 0
      },
      "text/plain": [
       "VBox()"
      ]
     },
     "metadata": {},
     "output_type": "display_data"
    },
    {
     "data": {
      "application/vnd.jupyter.widget-view+json": {
       "model_id": "",
       "version_major": 2,
       "version_minor": 0
      },
      "text/plain": [
       "FloatProgress(value=0.0, bar_style='info', description='Progress:', layout=Layout(height='25px', width='50%'),…"
      ]
     },
     "metadata": {},
     "output_type": "display_data"
    }
   ],
   "source": [
    "tweets_df=tweets.withColumnRenamed('filtered_text', 'tweets').withColumnRenamed('categorized_sentiment', 'sentiment_category').withColumnRenamed('sentiment', 'sentiment_score')"
   ]
  },
  {
   "cell_type": "code",
   "execution_count": 81,
   "id": "2b528269-fc1d-4d4d-88d4-557d9e4c5528",
   "metadata": {
    "execution": {
     "iopub.execute_input": "2024-04-27T17:20:42.394864Z",
     "iopub.status.busy": "2024-04-27T17:20:42.394637Z",
     "iopub.status.idle": "2024-04-27T17:20:42.436663Z",
     "shell.execute_reply": "2024-04-27T17:20:42.436055Z",
     "shell.execute_reply.started": "2024-04-27T17:20:42.394838Z"
    },
    "tags": []
   },
   "outputs": [
    {
     "data": {
      "application/vnd.jupyter.widget-view+json": {
       "model_id": "4a2f15ef9530461b93e8030e79b2842c",
       "version_major": 2,
       "version_minor": 0
      },
      "text/plain": [
       "VBox()"
      ]
     },
     "metadata": {},
     "output_type": "display_data"
    },
    {
     "data": {
      "application/vnd.jupyter.widget-view+json": {
       "model_id": "",
       "version_major": 2,
       "version_minor": 0
      },
      "text/plain": [
       "FloatProgress(value=0.0, bar_style='info', description='Progress:', layout=Layout(height='25px', width='50%'),…"
      ]
     },
     "metadata": {},
     "output_type": "display_data"
    },
    {
     "name": "stdout",
     "output_type": "stream",
     "text": [
      "root\n",
      " |-- tweets: string (nullable = true)\n",
      " |-- sentiment_score: float (nullable = true)\n",
      " |-- sentiment_category: string (nullable = true)"
     ]
    }
   ],
   "source": [
    "tweets_df.printSchema()"
   ]
  },
  {
   "cell_type": "code",
   "execution_count": 82,
   "id": "f97d6a16-c4fb-407e-a9ec-e330dd90c68d",
   "metadata": {
    "execution": {
     "iopub.execute_input": "2024-04-27T17:26:23.841980Z",
     "iopub.status.busy": "2024-04-27T17:26:23.841738Z",
     "iopub.status.idle": "2024-04-27T17:26:23.883626Z",
     "shell.execute_reply": "2024-04-27T17:26:23.883067Z",
     "shell.execute_reply.started": "2024-04-27T17:26:23.841952Z"
    }
   },
   "outputs": [
    {
     "data": {
      "application/vnd.jupyter.widget-view+json": {
       "model_id": "548e1cc580b84c6683be38f5371859ef",
       "version_major": 2,
       "version_minor": 0
      },
      "text/plain": [
       "VBox()"
      ]
     },
     "metadata": {},
     "output_type": "display_data"
    },
    {
     "data": {
      "application/vnd.jupyter.widget-view+json": {
       "model_id": "",
       "version_major": 2,
       "version_minor": 0
      },
      "text/plain": [
       "FloatProgress(value=0.0, bar_style='info', description='Progress:', layout=Layout(height='25px', width='50%'),…"
      ]
     },
     "metadata": {},
     "output_type": "display_data"
    }
   ],
   "source": [
    "#exploratory data analysis using pyspark SQL"
   ]
  },
  {
   "cell_type": "code",
   "execution_count": 88,
   "id": "05770275-8b80-4714-bb2e-ec86978b86ec",
   "metadata": {
    "execution": {
     "iopub.execute_input": "2024-04-27T17:28:32.852460Z",
     "iopub.status.busy": "2024-04-27T17:28:32.852142Z",
     "iopub.status.idle": "2024-04-27T17:28:32.912359Z",
     "shell.execute_reply": "2024-04-27T17:28:32.911486Z",
     "shell.execute_reply.started": "2024-04-27T17:28:32.852421Z"
    },
    "tags": []
   },
   "outputs": [
    {
     "data": {
      "application/vnd.jupyter.widget-view+json": {
       "model_id": "d964949fd17d4f84aa5ee71ff9cdfb2f",
       "version_major": 2,
       "version_minor": 0
      },
      "text/plain": [
       "VBox()"
      ]
     },
     "metadata": {},
     "output_type": "display_data"
    },
    {
     "data": {
      "application/vnd.jupyter.widget-view+json": {
       "model_id": "",
       "version_major": 2,
       "version_minor": 0
      },
      "text/plain": [
       "FloatProgress(value=0.0, bar_style='info', description='Progress:', layout=Layout(height='25px', width='50%'),…"
      ]
     },
     "metadata": {},
     "output_type": "display_data"
    }
   ],
   "source": [
    "df=tweets_df"
   ]
  },
  {
   "cell_type": "code",
   "execution_count": 94,
   "id": "93da7257-1af1-4443-a56f-91959566b9da",
   "metadata": {
    "execution": {
     "iopub.execute_input": "2024-04-27T17:38:49.217281Z",
     "iopub.status.busy": "2024-04-27T17:38:49.217050Z",
     "iopub.status.idle": "2024-04-27T17:38:49.464069Z",
     "shell.execute_reply": "2024-04-27T17:38:49.463435Z",
     "shell.execute_reply.started": "2024-04-27T17:38:49.217256Z"
    },
    "tags": []
   },
   "outputs": [
    {
     "data": {
      "application/vnd.jupyter.widget-view+json": {
       "model_id": "d2e71d0feeb149278dc91428c2bdccb6",
       "version_major": 2,
       "version_minor": 0
      },
      "text/plain": [
       "VBox()"
      ]
     },
     "metadata": {},
     "output_type": "display_data"
    },
    {
     "data": {
      "application/vnd.jupyter.widget-view+json": {
       "model_id": "",
       "version_major": 2,
       "version_minor": 0
      },
      "text/plain": [
       "FloatProgress(value=0.0, bar_style='info', description='Progress:', layout=Layout(height='25px', width='50%'),…"
      ]
     },
     "metadata": {},
     "output_type": "display_data"
    }
   ],
   "source": [
    "# Import necessary libraries\n",
    "from pyspark.sql import SparkSession\n",
    "from pyspark.sql.functions import col, lower, explode, split\n",
    "from pyspark.sql.functions import desc, count, sum, avg\n",
    "from pyspark.sql.functions import length\n",
    "\n",
    "\n",
    "# Register the DataFrame as a temporary view for Spark SQL\n",
    "df.createOrReplaceTempView(\"tweetss\")"
   ]
  },
  {
   "cell_type": "code",
   "execution_count": 95,
   "id": "239a1a11-c691-4834-b367-805fabe87c20",
   "metadata": {
    "execution": {
     "iopub.execute_input": "2024-04-27T17:38:54.089137Z",
     "iopub.status.busy": "2024-04-27T17:38:54.088881Z",
     "iopub.status.idle": "2024-04-27T17:40:37.602678Z",
     "shell.execute_reply": "2024-04-27T17:40:37.601946Z",
     "shell.execute_reply.started": "2024-04-27T17:38:54.089109Z"
    },
    "tags": []
   },
   "outputs": [
    {
     "data": {
      "application/vnd.jupyter.widget-view+json": {
       "model_id": "cf6cc0aea39d46df962d13dbde77c155",
       "version_major": 2,
       "version_minor": 0
      },
      "text/plain": [
       "VBox()"
      ]
     },
     "metadata": {},
     "output_type": "display_data"
    },
    {
     "data": {
      "application/vnd.jupyter.widget-view+json": {
       "model_id": "",
       "version_major": 2,
       "version_minor": 0
      },
      "text/plain": [
       "FloatProgress(value=0.0, bar_style='info', description='Progress:', layout=Layout(height='25px', width='50%'),…"
      ]
     },
     "metadata": {},
     "output_type": "display_data"
    },
    {
     "name": "stdout",
     "output_type": "stream",
     "text": [
      "+------------+-------+\n",
      "|        word|  count|\n",
      "+------------+-------+\n",
      "|     covid19|1848596|\n",
      "| coronavirus| 312020|\n",
      "|       covid| 218357|\n",
      "|breakingnews| 199664|\n",
      "|      health| 174966|\n",
      "|       about| 172230|\n",
      "|      people| 164739|\n",
      "|       after| 162070|\n",
      "|       today| 154742|\n",
      "|     ukraine| 144455|\n",
      "+------------+-------+"
     ]
    }
   ],
   "source": [
    "#seeing the top keywords in dataset\n",
    "top_keywords = df.select(explode(split(lower(col(\"tweets\")), \"\\s+\")).alias(\"word\")) \\\n",
    "                 .filter((length(col(\"word\")) >= 5) & (col(\"word\") != \"\") & (col(\"word\") != \"rt\")) \\\n",
    "                 .groupBy(\"word\").count() \\\n",
    "                 .orderBy(desc(\"count\")).limit(10)\n",
    "top_keywords.show()"
   ]
  },
  {
   "cell_type": "code",
   "execution_count": 92,
   "id": "8e146107-eb97-48cc-8d0f-946e3f589e6e",
   "metadata": {
    "execution": {
     "iopub.execute_input": "2024-04-27T17:33:31.639752Z",
     "iopub.status.busy": "2024-04-27T17:33:31.639522Z",
     "iopub.status.idle": "2024-04-27T17:38:17.612369Z",
     "shell.execute_reply": "2024-04-27T17:38:17.611670Z",
     "shell.execute_reply.started": "2024-04-27T17:33:31.639726Z"
    },
    "tags": []
   },
   "outputs": [
    {
     "data": {
      "application/vnd.jupyter.widget-view+json": {
       "model_id": "0f5b726a9a0f43e085478f450f0c2ae2",
       "version_major": 2,
       "version_minor": 0
      },
      "text/plain": [
       "VBox()"
      ]
     },
     "metadata": {},
     "output_type": "display_data"
    },
    {
     "data": {
      "application/vnd.jupyter.widget-view+json": {
       "model_id": "",
       "version_major": 2,
       "version_minor": 0
      },
      "text/plain": [
       "FloatProgress(value=0.0, bar_style='info', description='Progress:', layout=Layout(height='25px', width='50%'),…"
      ]
     },
     "metadata": {},
     "output_type": "display_data"
    },
    {
     "name": "stdout",
     "output_type": "stream",
     "text": [
      "+---------------------+-------+\n",
      "|categorized_sentiment|  count|\n",
      "+---------------------+-------+\n",
      "|              Neutral|5205810|\n",
      "|             Positive| 142720|\n",
      "|             Negative|  44087|\n",
      "+---------------------+-------+"
     ]
    }
   ],
   "source": [
    "#sentiment distribution\n",
    "counts_df.show()"
   ]
  },
  {
   "cell_type": "code",
   "execution_count": 96,
   "id": "f8e57288-e272-46dd-b1f5-f5eee0aba273",
   "metadata": {
    "execution": {
     "iopub.execute_input": "2024-04-27T17:42:28.854351Z",
     "iopub.status.busy": "2024-04-27T17:42:28.854120Z",
     "iopub.status.idle": "2024-04-27T17:42:28.896494Z",
     "shell.execute_reply": "2024-04-27T17:42:28.895904Z",
     "shell.execute_reply.started": "2024-04-27T17:42:28.854326Z"
    }
   },
   "outputs": [
    {
     "data": {
      "application/vnd.jupyter.widget-view+json": {
       "model_id": "1428435e819b4b0285e00451c20894e6",
       "version_major": 2,
       "version_minor": 0
      },
      "text/plain": [
       "VBox()"
      ]
     },
     "metadata": {},
     "output_type": "display_data"
    },
    {
     "data": {
      "application/vnd.jupyter.widget-view+json": {
       "model_id": "",
       "version_major": 2,
       "version_minor": 0
      },
      "text/plain": [
       "FloatProgress(value=0.0, bar_style='info', description='Progress:', layout=Layout(height='25px', width='50%'),…"
      ]
     },
     "metadata": {},
     "output_type": "display_data"
    },
    {
     "name": "stdout",
     "output_type": "stream",
     "text": [
      "root\n",
      " |-- tweets: string (nullable = true)\n",
      " |-- sentiment_score: float (nullable = true)\n",
      " |-- sentiment_category: string (nullable = true)"
     ]
    }
   ],
   "source": [
    "#dataframe overview\n",
    "tweets_df.printSchema()"
   ]
  },
  {
   "cell_type": "code",
   "execution_count": null,
   "id": "5bf24f5e-2328-46c3-810f-251eceaf3cfd",
   "metadata": {},
   "outputs": [],
   "source": []
  }
 ],
 "metadata": {
  "kernelspec": {
   "display_name": "PySpark",
   "language": "python",
   "name": "pysparkkernel"
  },
  "language_info": {
   "codemirror_mode": {
    "name": "python",
    "version": 3
   },
   "file_extension": ".py",
   "mimetype": "text/x-python",
   "name": "pyspark",
   "pygments_lexer": "python3"
  }
 },
 "nbformat": 4,
 "nbformat_minor": 5
}
